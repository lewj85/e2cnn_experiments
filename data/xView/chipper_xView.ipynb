{
 "cells": [
  {
   "cell_type": "code",
   "execution_count": 91,
   "id": "95b3436a",
   "metadata": {},
   "outputs": [],
   "source": [
    "import json\n",
    "import matplotlib.pyplot as plt\n",
    "import numpy as np\n",
    "from PIL import Image\n",
    "import xview_coco\n",
    "import os\n",
    "import random\n",
    "from shutil import copyfile\n",
    "\n",
    "%matplotlib inline"
   ]
  },
  {
   "cell_type": "code",
   "execution_count": 3,
   "id": "734defad",
   "metadata": {},
   "outputs": [],
   "source": [
    "# Opening JSON file\n",
    "f = open('train_labels/xView_train.geojson', 'r')\n",
    "\n",
    "# returns JSON object as\n",
    "# a dictionary\n",
    "data = json.load(f)\n",
    "\n",
    "# Closing file\n",
    "f.close()"
   ]
  },
  {
   "cell_type": "code",
   "execution_count": null,
   "id": "dad76c55",
   "metadata": {},
   "outputs": [],
   "source": [
    "index = 1234"
   ]
  },
  {
   "cell_type": "code",
   "execution_count": 4,
   "id": "1bafe733",
   "metadata": {},
   "outputs": [
    {
     "data": {
      "text/plain": [
       "{'type': 'Feature',\n",
       " 'properties': {'bounds_imcoords': '2712,1145,2746,1177',\n",
       "  'edited_by': 'wwoscarbecerril',\n",
       "  'cat_id': '1040010028371A00',\n",
       "  'type_id': 73,\n",
       "  'ingest_time': '2017/07/24 12:49:09.118+00',\n",
       "  'index_right': 2356,\n",
       "  'image_id': '2355.tif',\n",
       "  'point_geom': '0101000020E6100000616E4E6406A256C03BE6ADA0D6212D40',\n",
       "  'feature_id': 374410,\n",
       "  'grid_file': 'Grid2.shp'},\n",
       " 'geometry': {'type': 'Polygon',\n",
       "  'coordinates': [[[-90.53169885094464, 14.56603647302396],\n",
       "    [-90.53169885094464, 14.56614473506768],\n",
       "    [-90.53158140073565, 14.56614473506768],\n",
       "    [-90.53158140073565, 14.56603647302396],\n",
       "    [-90.53169885094464, 14.56603647302396]]]}}"
      ]
     },
     "execution_count": 4,
     "metadata": {},
     "output_type": "execute_result"
    }
   ],
   "source": [
    "data['features'][index]"
   ]
  },
  {
   "cell_type": "code",
   "execution_count": 5,
   "id": "ac65fb52",
   "metadata": {},
   "outputs": [
    {
     "name": "stdout",
     "output_type": "stream",
     "text": [
      "2712,1145,2746,1177\n",
      "<class 'str'>\n",
      "[2712, 1145, 2746, 1177]\n",
      "<class 'int'>\n"
     ]
    }
   ],
   "source": [
    "bbox = data['features'][index]['properties']['bounds_imcoords']\n",
    "print(bbox)\n",
    "print(type(bbox))\n",
    "bbox = [int(x) for x in bbox.split(',')]\n",
    "print(bbox)\n",
    "print(type(bbox[0]))"
   ]
  },
  {
   "cell_type": "code",
   "execution_count": 6,
   "id": "daf14194",
   "metadata": {},
   "outputs": [
    {
     "name": "stdout",
     "output_type": "stream",
     "text": [
      "2355.tif\n"
     ]
    }
   ],
   "source": [
    "imgstr = data['features'][index]['properties']['image_id']\n",
    "print(imgstr)"
   ]
  },
  {
   "cell_type": "code",
   "execution_count": 7,
   "id": "20ea4ab0",
   "metadata": {},
   "outputs": [
    {
     "name": "stdout",
     "output_type": "stream",
     "text": [
      "(2667, 2739, 3)\n",
      "<class 'numpy.ndarray'>\n",
      "[2712, 2746, 1145, 1177]\n",
      "(0, 32, 3)\n"
     ]
    },
    {
     "ename": "ValueError",
     "evalue": "zero-size array to reduction operation minimum which has no identity",
     "output_type": "error",
     "traceback": [
      "\u001b[1;31m---------------------------------------------------------------------------\u001b[0m",
      "\u001b[1;31mValueError\u001b[0m                                Traceback (most recent call last)",
      "\u001b[1;32m~\\AppData\\Local\\Temp/ipykernel_8440/3449638999.py\u001b[0m in \u001b[0;36m<module>\u001b[1;34m\u001b[0m\n\u001b[0;32m     10\u001b[0m \u001b[0mprint\u001b[0m\u001b[1;33m(\u001b[0m\u001b[0mimg2\u001b[0m\u001b[1;33m.\u001b[0m\u001b[0mshape\u001b[0m\u001b[1;33m)\u001b[0m\u001b[1;33m\u001b[0m\u001b[1;33m\u001b[0m\u001b[0m\n\u001b[0;32m     11\u001b[0m \u001b[1;33m\u001b[0m\u001b[0m\n\u001b[1;32m---> 12\u001b[1;33m \u001b[0mplt\u001b[0m\u001b[1;33m.\u001b[0m\u001b[0mimshow\u001b[0m\u001b[1;33m(\u001b[0m\u001b[0mimg2\u001b[0m\u001b[1;33m)\u001b[0m\u001b[1;33m\u001b[0m\u001b[1;33m\u001b[0m\u001b[0m\n\u001b[0m\u001b[0;32m     13\u001b[0m \u001b[1;33m\u001b[0m\u001b[0m\n\u001b[0;32m     14\u001b[0m \u001b[1;31m#Image.transform(size, method, data=None, resample=0, fill=1, fillcolor=None)\u001b[0m\u001b[1;33m\u001b[0m\u001b[1;33m\u001b[0m\u001b[0m\n",
      "\u001b[1;32m~\\anaconda3\\envs\\pytorch38\\lib\\site-packages\\matplotlib\\pyplot.py\u001b[0m in \u001b[0;36mimshow\u001b[1;34m(X, cmap, norm, aspect, interpolation, alpha, vmin, vmax, origin, extent, filternorm, filterrad, resample, url, data, **kwargs)\u001b[0m\n\u001b[0;32m   2901\u001b[0m         \u001b[0mfilternorm\u001b[0m\u001b[1;33m=\u001b[0m\u001b[1;32mTrue\u001b[0m\u001b[1;33m,\u001b[0m \u001b[0mfilterrad\u001b[0m\u001b[1;33m=\u001b[0m\u001b[1;36m4.0\u001b[0m\u001b[1;33m,\u001b[0m \u001b[0mresample\u001b[0m\u001b[1;33m=\u001b[0m\u001b[1;32mNone\u001b[0m\u001b[1;33m,\u001b[0m \u001b[0murl\u001b[0m\u001b[1;33m=\u001b[0m\u001b[1;32mNone\u001b[0m\u001b[1;33m,\u001b[0m\u001b[1;33m\u001b[0m\u001b[1;33m\u001b[0m\u001b[0m\n\u001b[0;32m   2902\u001b[0m         data=None, **kwargs):\n\u001b[1;32m-> 2903\u001b[1;33m     __ret = gca().imshow(\n\u001b[0m\u001b[0;32m   2904\u001b[0m         \u001b[0mX\u001b[0m\u001b[1;33m,\u001b[0m \u001b[0mcmap\u001b[0m\u001b[1;33m=\u001b[0m\u001b[0mcmap\u001b[0m\u001b[1;33m,\u001b[0m \u001b[0mnorm\u001b[0m\u001b[1;33m=\u001b[0m\u001b[0mnorm\u001b[0m\u001b[1;33m,\u001b[0m \u001b[0maspect\u001b[0m\u001b[1;33m=\u001b[0m\u001b[0maspect\u001b[0m\u001b[1;33m,\u001b[0m\u001b[1;33m\u001b[0m\u001b[1;33m\u001b[0m\u001b[0m\n\u001b[0;32m   2905\u001b[0m         \u001b[0minterpolation\u001b[0m\u001b[1;33m=\u001b[0m\u001b[0minterpolation\u001b[0m\u001b[1;33m,\u001b[0m \u001b[0malpha\u001b[0m\u001b[1;33m=\u001b[0m\u001b[0malpha\u001b[0m\u001b[1;33m,\u001b[0m \u001b[0mvmin\u001b[0m\u001b[1;33m=\u001b[0m\u001b[0mvmin\u001b[0m\u001b[1;33m,\u001b[0m\u001b[1;33m\u001b[0m\u001b[1;33m\u001b[0m\u001b[0m\n",
      "\u001b[1;32m~\\anaconda3\\envs\\pytorch38\\lib\\site-packages\\matplotlib\\__init__.py\u001b[0m in \u001b[0;36minner\u001b[1;34m(ax, data, *args, **kwargs)\u001b[0m\n\u001b[0;32m   1359\u001b[0m     \u001b[1;32mdef\u001b[0m \u001b[0minner\u001b[0m\u001b[1;33m(\u001b[0m\u001b[0max\u001b[0m\u001b[1;33m,\u001b[0m \u001b[1;33m*\u001b[0m\u001b[0margs\u001b[0m\u001b[1;33m,\u001b[0m \u001b[0mdata\u001b[0m\u001b[1;33m=\u001b[0m\u001b[1;32mNone\u001b[0m\u001b[1;33m,\u001b[0m \u001b[1;33m**\u001b[0m\u001b[0mkwargs\u001b[0m\u001b[1;33m)\u001b[0m\u001b[1;33m:\u001b[0m\u001b[1;33m\u001b[0m\u001b[1;33m\u001b[0m\u001b[0m\n\u001b[0;32m   1360\u001b[0m         \u001b[1;32mif\u001b[0m \u001b[0mdata\u001b[0m \u001b[1;32mis\u001b[0m \u001b[1;32mNone\u001b[0m\u001b[1;33m:\u001b[0m\u001b[1;33m\u001b[0m\u001b[1;33m\u001b[0m\u001b[0m\n\u001b[1;32m-> 1361\u001b[1;33m             \u001b[1;32mreturn\u001b[0m \u001b[0mfunc\u001b[0m\u001b[1;33m(\u001b[0m\u001b[0max\u001b[0m\u001b[1;33m,\u001b[0m \u001b[1;33m*\u001b[0m\u001b[0mmap\u001b[0m\u001b[1;33m(\u001b[0m\u001b[0msanitize_sequence\u001b[0m\u001b[1;33m,\u001b[0m \u001b[0margs\u001b[0m\u001b[1;33m)\u001b[0m\u001b[1;33m,\u001b[0m \u001b[1;33m**\u001b[0m\u001b[0mkwargs\u001b[0m\u001b[1;33m)\u001b[0m\u001b[1;33m\u001b[0m\u001b[1;33m\u001b[0m\u001b[0m\n\u001b[0m\u001b[0;32m   1362\u001b[0m \u001b[1;33m\u001b[0m\u001b[0m\n\u001b[0;32m   1363\u001b[0m         \u001b[0mbound\u001b[0m \u001b[1;33m=\u001b[0m \u001b[0mnew_sig\u001b[0m\u001b[1;33m.\u001b[0m\u001b[0mbind\u001b[0m\u001b[1;33m(\u001b[0m\u001b[0max\u001b[0m\u001b[1;33m,\u001b[0m \u001b[1;33m*\u001b[0m\u001b[0margs\u001b[0m\u001b[1;33m,\u001b[0m \u001b[1;33m**\u001b[0m\u001b[0mkwargs\u001b[0m\u001b[1;33m)\u001b[0m\u001b[1;33m\u001b[0m\u001b[1;33m\u001b[0m\u001b[0m\n",
      "\u001b[1;32m~\\anaconda3\\envs\\pytorch38\\lib\\site-packages\\matplotlib\\axes\\_axes.py\u001b[0m in \u001b[0;36mimshow\u001b[1;34m(self, X, cmap, norm, aspect, interpolation, alpha, vmin, vmax, origin, extent, filternorm, filterrad, resample, url, **kwargs)\u001b[0m\n\u001b[0;32m   5607\u001b[0m                               resample=resample, **kwargs)\n\u001b[0;32m   5608\u001b[0m \u001b[1;33m\u001b[0m\u001b[0m\n\u001b[1;32m-> 5609\u001b[1;33m         \u001b[0mim\u001b[0m\u001b[1;33m.\u001b[0m\u001b[0mset_data\u001b[0m\u001b[1;33m(\u001b[0m\u001b[0mX\u001b[0m\u001b[1;33m)\u001b[0m\u001b[1;33m\u001b[0m\u001b[1;33m\u001b[0m\u001b[0m\n\u001b[0m\u001b[0;32m   5610\u001b[0m         \u001b[0mim\u001b[0m\u001b[1;33m.\u001b[0m\u001b[0mset_alpha\u001b[0m\u001b[1;33m(\u001b[0m\u001b[0malpha\u001b[0m\u001b[1;33m)\u001b[0m\u001b[1;33m\u001b[0m\u001b[1;33m\u001b[0m\u001b[0m\n\u001b[0;32m   5611\u001b[0m         \u001b[1;32mif\u001b[0m \u001b[0mim\u001b[0m\u001b[1;33m.\u001b[0m\u001b[0mget_clip_path\u001b[0m\u001b[1;33m(\u001b[0m\u001b[1;33m)\u001b[0m \u001b[1;32mis\u001b[0m \u001b[1;32mNone\u001b[0m\u001b[1;33m:\u001b[0m\u001b[1;33m\u001b[0m\u001b[1;33m\u001b[0m\u001b[0m\n",
      "\u001b[1;32m~\\anaconda3\\envs\\pytorch38\\lib\\site-packages\\matplotlib\\image.py\u001b[0m in \u001b[0;36mset_data\u001b[1;34m(self, A)\u001b[0m\n\u001b[0;32m    716\u001b[0m             \u001b[1;31m# making reliable interpretation impossible.\u001b[0m\u001b[1;33m\u001b[0m\u001b[1;33m\u001b[0m\u001b[0m\n\u001b[0;32m    717\u001b[0m             \u001b[0mhigh\u001b[0m \u001b[1;33m=\u001b[0m \u001b[1;36m255\u001b[0m \u001b[1;32mif\u001b[0m \u001b[0mnp\u001b[0m\u001b[1;33m.\u001b[0m\u001b[0missubdtype\u001b[0m\u001b[1;33m(\u001b[0m\u001b[0mself\u001b[0m\u001b[1;33m.\u001b[0m\u001b[0m_A\u001b[0m\u001b[1;33m.\u001b[0m\u001b[0mdtype\u001b[0m\u001b[1;33m,\u001b[0m \u001b[0mnp\u001b[0m\u001b[1;33m.\u001b[0m\u001b[0minteger\u001b[0m\u001b[1;33m)\u001b[0m \u001b[1;32melse\u001b[0m \u001b[1;36m1\u001b[0m\u001b[1;33m\u001b[0m\u001b[1;33m\u001b[0m\u001b[0m\n\u001b[1;32m--> 718\u001b[1;33m             \u001b[1;32mif\u001b[0m \u001b[0mself\u001b[0m\u001b[1;33m.\u001b[0m\u001b[0m_A\u001b[0m\u001b[1;33m.\u001b[0m\u001b[0mmin\u001b[0m\u001b[1;33m(\u001b[0m\u001b[1;33m)\u001b[0m \u001b[1;33m<\u001b[0m \u001b[1;36m0\u001b[0m \u001b[1;32mor\u001b[0m \u001b[0mhigh\u001b[0m \u001b[1;33m<\u001b[0m \u001b[0mself\u001b[0m\u001b[1;33m.\u001b[0m\u001b[0m_A\u001b[0m\u001b[1;33m.\u001b[0m\u001b[0mmax\u001b[0m\u001b[1;33m(\u001b[0m\u001b[1;33m)\u001b[0m\u001b[1;33m:\u001b[0m\u001b[1;33m\u001b[0m\u001b[1;33m\u001b[0m\u001b[0m\n\u001b[0m\u001b[0;32m    719\u001b[0m                 _log.warning(\n\u001b[0;32m    720\u001b[0m                     \u001b[1;34m'Clipping input data to the valid range for imshow with '\u001b[0m\u001b[1;33m\u001b[0m\u001b[1;33m\u001b[0m\u001b[0m\n",
      "\u001b[1;32m~\\anaconda3\\envs\\pytorch38\\lib\\site-packages\\numpy\\ma\\core.py\u001b[0m in \u001b[0;36mmin\u001b[1;34m(self, axis, out, fill_value, keepdims)\u001b[0m\n\u001b[0;32m   5698\u001b[0m         \u001b[1;31m# No explicit output\u001b[0m\u001b[1;33m\u001b[0m\u001b[1;33m\u001b[0m\u001b[0m\n\u001b[0;32m   5699\u001b[0m         \u001b[1;32mif\u001b[0m \u001b[0mout\u001b[0m \u001b[1;32mis\u001b[0m \u001b[1;32mNone\u001b[0m\u001b[1;33m:\u001b[0m\u001b[1;33m\u001b[0m\u001b[1;33m\u001b[0m\u001b[0m\n\u001b[1;32m-> 5700\u001b[1;33m             result = self.filled(fill_value).min(\n\u001b[0m\u001b[0;32m   5701\u001b[0m                 axis=axis, out=out, **kwargs).view(type(self))\n\u001b[0;32m   5702\u001b[0m             \u001b[1;32mif\u001b[0m \u001b[0mresult\u001b[0m\u001b[1;33m.\u001b[0m\u001b[0mndim\u001b[0m\u001b[1;33m:\u001b[0m\u001b[1;33m\u001b[0m\u001b[1;33m\u001b[0m\u001b[0m\n",
      "\u001b[1;32m~\\anaconda3\\envs\\pytorch38\\lib\\site-packages\\numpy\\core\\_methods.py\u001b[0m in \u001b[0;36m_amin\u001b[1;34m(a, axis, out, keepdims, initial, where)\u001b[0m\n\u001b[0;32m     42\u001b[0m def _amin(a, axis=None, out=None, keepdims=False,\n\u001b[0;32m     43\u001b[0m           initial=_NoValue, where=True):\n\u001b[1;32m---> 44\u001b[1;33m     \u001b[1;32mreturn\u001b[0m \u001b[0mumr_minimum\u001b[0m\u001b[1;33m(\u001b[0m\u001b[0ma\u001b[0m\u001b[1;33m,\u001b[0m \u001b[0maxis\u001b[0m\u001b[1;33m,\u001b[0m \u001b[1;32mNone\u001b[0m\u001b[1;33m,\u001b[0m \u001b[0mout\u001b[0m\u001b[1;33m,\u001b[0m \u001b[0mkeepdims\u001b[0m\u001b[1;33m,\u001b[0m \u001b[0minitial\u001b[0m\u001b[1;33m,\u001b[0m \u001b[0mwhere\u001b[0m\u001b[1;33m)\u001b[0m\u001b[1;33m\u001b[0m\u001b[1;33m\u001b[0m\u001b[0m\n\u001b[0m\u001b[0;32m     45\u001b[0m \u001b[1;33m\u001b[0m\u001b[0m\n\u001b[0;32m     46\u001b[0m def _sum(a, axis=None, dtype=None, out=None, keepdims=False,\n",
      "\u001b[1;31mValueError\u001b[0m: zero-size array to reduction operation minimum which has no identity"
     ]
    },
    {
     "data": {
      "image/png": "[encoded data removed]",
      "text/plain": [
       "<Figure size 432x288 with 1 Axes>"
      ]
     },
     "metadata": {
      "needs_background": "light"
     },
     "output_type": "display_data"
    }
   ],
   "source": [
    "img = Image.open(\"train_images/\"+imgstr)\n",
    "\n",
    "arr = np.asarray(img)\n",
    "print(arr.shape)\n",
    "#print(type(arr))\n",
    "\n",
    "print([bbox[1], bbox[3], bbox[0], bbox[2]])\n",
    "\n",
    "img2 = arr[bbox[1]:bbox[3], bbox[0]:bbox[2], :]\n",
    "print(img2.shape)\n",
    "\n",
    "plt.imshow(img2)\n",
    "\n",
    "#Image.transform(size, method, data=None, resample=0, fill=1, fillcolor=None)"
   ]
  },
  {
   "cell_type": "code",
   "execution_count": 8,
   "id": "83c7b1d5",
   "metadata": {},
   "outputs": [
    {
     "name": "stdout",
     "output_type": "stream",
     "text": [
      "coord [-90.53447284267835, 14.570009860618576]\n",
      "-10078251.41608441 1639694.6105493787\n",
      "-2933060749661.615 -477198293251.45483\n",
      "coord [-90.53447284267835, 14.570149137293045]\n",
      "-10078251.41608441 1639710.6299303884\n",
      "-2933060749661.615 -477202955393.5119\n",
      "coord [-90.5342437701325, 14.570149137293045]\n",
      "-10078225.91584525 1639710.6299303884\n",
      "-2933053328292.6265 -477202955393.5119\n",
      "coord [-90.5342437701325, 14.570009860618576]\n",
      "-10078225.91584525 1639694.6105493787\n",
      "-2933053328292.6265 -477198293251.45483\n",
      "coord [-90.53447284267835, 14.570009860618576]\n",
      "-10078251.41608441 1639694.6105493787\n",
      "-2933060749661.615 -477198293251.45483\n"
     ]
    },
    {
     "name": "stderr",
     "output_type": "stream",
     "text": [
      "C:\\Users\\Admin\\anaconda3\\envs\\pytorch38\\lib\\site-packages\\pyproj\\crs\\crs.py:131: FutureWarning: '+init=<authority>:<code>' syntax is deprecated. '<authority>:<code>' is the preferred initialization method. When making the change, be mindful of axis order changes: https://pyproj4.github.io/pyproj/stable/gotchas.html#axis-order-changes-in-proj-6\n",
      "  in_crs_string = _prepare_from_proj_string(in_crs_string)\n",
      "C:\\Users\\Admin\\anaconda3\\envs\\pytorch38\\lib\\site-packages\\pyproj\\crs\\crs.py:131: FutureWarning: '+init=<authority>:<code>' syntax is deprecated. '<authority>:<code>' is the preferred initialization method. When making the change, be mindful of axis order changes: https://pyproj4.github.io/pyproj/stable/gotchas.html#axis-order-changes-in-proj-6\n",
      "  in_crs_string = _prepare_from_proj_string(in_crs_string)\n",
      "C:\\Users\\Admin\\AppData\\Local\\Temp/ipykernel_8440/2294188698.py:7: DeprecationWarning: This function is deprecated. See: https://pyproj4.github.io/pyproj/stable/gotchas.html#upgrading-to-pyproj-2-from-pyproj-1\n",
      "  coords = transform(Proj(init='epsg:4326'), Proj(init='epsg:3857'), longitude, latitude)\n",
      "C:\\Users\\Admin\\anaconda3\\envs\\pytorch38\\lib\\site-packages\\pyproj\\crs\\crs.py:131: FutureWarning: '+init=<authority>:<code>' syntax is deprecated. '<authority>:<code>' is the preferred initialization method. When making the change, be mindful of axis order changes: https://pyproj4.github.io/pyproj/stable/gotchas.html#axis-order-changes-in-proj-6\n",
      "  in_crs_string = _prepare_from_proj_string(in_crs_string)\n",
      "C:\\Users\\Admin\\anaconda3\\envs\\pytorch38\\lib\\site-packages\\pyproj\\crs\\crs.py:131: FutureWarning: '+init=<authority>:<code>' syntax is deprecated. '<authority>:<code>' is the preferred initialization method. When making the change, be mindful of axis order changes: https://pyproj4.github.io/pyproj/stable/gotchas.html#axis-order-changes-in-proj-6\n",
      "  in_crs_string = _prepare_from_proj_string(in_crs_string)\n",
      "C:\\Users\\Admin\\AppData\\Local\\Temp/ipykernel_8440/2294188698.py:7: DeprecationWarning: This function is deprecated. See: https://pyproj4.github.io/pyproj/stable/gotchas.html#upgrading-to-pyproj-2-from-pyproj-1\n",
      "  coords = transform(Proj(init='epsg:4326'), Proj(init='epsg:3857'), longitude, latitude)\n",
      "C:\\Users\\Admin\\anaconda3\\envs\\pytorch38\\lib\\site-packages\\pyproj\\crs\\crs.py:131: FutureWarning: '+init=<authority>:<code>' syntax is deprecated. '<authority>:<code>' is the preferred initialization method. When making the change, be mindful of axis order changes: https://pyproj4.github.io/pyproj/stable/gotchas.html#axis-order-changes-in-proj-6\n",
      "  in_crs_string = _prepare_from_proj_string(in_crs_string)\n",
      "C:\\Users\\Admin\\anaconda3\\envs\\pytorch38\\lib\\site-packages\\pyproj\\crs\\crs.py:131: FutureWarning: '+init=<authority>:<code>' syntax is deprecated. '<authority>:<code>' is the preferred initialization method. When making the change, be mindful of axis order changes: https://pyproj4.github.io/pyproj/stable/gotchas.html#axis-order-changes-in-proj-6\n",
      "  in_crs_string = _prepare_from_proj_string(in_crs_string)\n",
      "C:\\Users\\Admin\\AppData\\Local\\Temp/ipykernel_8440/2294188698.py:7: DeprecationWarning: This function is deprecated. See: https://pyproj4.github.io/pyproj/stable/gotchas.html#upgrading-to-pyproj-2-from-pyproj-1\n",
      "  coords = transform(Proj(init='epsg:4326'), Proj(init='epsg:3857'), longitude, latitude)\n",
      "C:\\Users\\Admin\\anaconda3\\envs\\pytorch38\\lib\\site-packages\\pyproj\\crs\\crs.py:131: FutureWarning: '+init=<authority>:<code>' syntax is deprecated. '<authority>:<code>' is the preferred initialization method. When making the change, be mindful of axis order changes: https://pyproj4.github.io/pyproj/stable/gotchas.html#axis-order-changes-in-proj-6\n",
      "  in_crs_string = _prepare_from_proj_string(in_crs_string)\n",
      "C:\\Users\\Admin\\anaconda3\\envs\\pytorch38\\lib\\site-packages\\pyproj\\crs\\crs.py:131: FutureWarning: '+init=<authority>:<code>' syntax is deprecated. '<authority>:<code>' is the preferred initialization method. When making the change, be mindful of axis order changes: https://pyproj4.github.io/pyproj/stable/gotchas.html#axis-order-changes-in-proj-6\n",
      "  in_crs_string = _prepare_from_proj_string(in_crs_string)\n",
      "C:\\Users\\Admin\\AppData\\Local\\Temp/ipykernel_8440/2294188698.py:7: DeprecationWarning: This function is deprecated. See: https://pyproj4.github.io/pyproj/stable/gotchas.html#upgrading-to-pyproj-2-from-pyproj-1\n",
      "  coords = transform(Proj(init='epsg:4326'), Proj(init='epsg:3857'), longitude, latitude)\n",
      "C:\\Users\\Admin\\anaconda3\\envs\\pytorch38\\lib\\site-packages\\pyproj\\crs\\crs.py:131: FutureWarning: '+init=<authority>:<code>' syntax is deprecated. '<authority>:<code>' is the preferred initialization method. When making the change, be mindful of axis order changes: https://pyproj4.github.io/pyproj/stable/gotchas.html#axis-order-changes-in-proj-6\n",
      "  in_crs_string = _prepare_from_proj_string(in_crs_string)\n",
      "C:\\Users\\Admin\\anaconda3\\envs\\pytorch38\\lib\\site-packages\\pyproj\\crs\\crs.py:131: FutureWarning: '+init=<authority>:<code>' syntax is deprecated. '<authority>:<code>' is the preferred initialization method. When making the change, be mindful of axis order changes: https://pyproj4.github.io/pyproj/stable/gotchas.html#axis-order-changes-in-proj-6\n",
      "  in_crs_string = _prepare_from_proj_string(in_crs_string)\n",
      "C:\\Users\\Admin\\AppData\\Local\\Temp/ipykernel_8440/2294188698.py:7: DeprecationWarning: This function is deprecated. See: https://pyproj4.github.io/pyproj/stable/gotchas.html#upgrading-to-pyproj-2-from-pyproj-1\n",
      "  coords = transform(Proj(init='epsg:4326'), Proj(init='epsg:3857'), longitude, latitude)\n"
     ]
    }
   ],
   "source": [
    "#from pprint import pprint\n",
    "from pyproj import Proj, transform\n",
    "import rasterio as rio\n",
    "\n",
    "def image_latlon_pxpy(latitude, longitude):\n",
    "    dataset = rio.open(\"train_images/\"+imgstr, crs='epsg:3857')\n",
    "    coords = transform(Proj(init='epsg:4326'), Proj(init='epsg:3857'), longitude, latitude)\n",
    "    px, py = coords[0], coords[1]\n",
    "    print(px,py)\n",
    "    px_pc = (px - dataset.bounds.left) / (dataset.bounds.right - dataset.bounds.left)\n",
    "    py_pc = (dataset.bounds.top - py) / (dataset.bounds.top - dataset.bounds.bottom)\n",
    "    return (px_pc*dataset.width, py_pc*dataset.height)\n",
    "\n",
    "#pprint(image_latlon_pxpy(39.603786, -104.9429))\n",
    "#(256,256)\n",
    "\n",
    "for coord in data['features'][50]['geometry']['coordinates'][0]:\n",
    "    print('coord', coord)\n",
    "    row,col = image_latlon_pxpy(latitude=coord[1], longitude=coord[0])\n",
    "    print(row,col)"
   ]
  },
  {
   "cell_type": "code",
   "execution_count": 78,
   "id": "753010fb",
   "metadata": {},
   "outputs": [],
   "source": [
    "train_or_val = \"train\""
   ]
  },
  {
   "cell_type": "code",
   "execution_count": 2,
   "id": "608346e8",
   "metadata": {},
   "outputs": [
    {
     "name": "stdout",
     "output_type": "stream",
     "text": [
      "Found 846 images in folder\n",
      "50 images processed\n",
      "100 images processed\n",
      "150 images processed\n",
      "200 images processed\n",
      "250 images processed\n",
      "300 images processed\n",
      "350 images processed\n",
      "400 images processed\n",
      "450 images processed\n",
      "500 images processed\n",
      "550 images processed\n",
      "600 images processed\n",
      "650 images processed\n",
      "700 images processed\n",
      "750 images processed\n",
      "800 images processed\n",
      "All images processed\n",
      "JSON sections complete\n",
      "Part 1 complete\n",
      "Corrected 5073 boxes with coords below 0 and 4941 with coords larger than image\n",
      "Removed 32 annotations\n",
      "New json train_labels/xView_train.json\n"
     ]
    },
    {
     "data": {
      "text/plain": [
       "'train_labels/xView_train.json'"
      ]
     },
     "execution_count": 2,
     "metadata": {},
     "output_type": "execute_result"
    }
   ],
   "source": [
    "geojson_path = train_or_val+\"_labels/xView_\"+train_or_val+\".geojson\"\n",
    "classes_path = \"xview-class-labels.txt\"\n",
    "image_folder = train_or_val+\"_images/\"\n",
    "json_path = xview_coco.make_json(geojson_path, classes_path, image_folder)"
   ]
  },
  {
   "cell_type": "code",
   "execution_count": 7,
   "id": "3eecbbc0",
   "metadata": {},
   "outputs": [],
   "source": [
    "with open(json_path, 'r') as f:\n",
    "    gt = json.load(f)"
   ]
  },
  {
   "cell_type": "code",
   "execution_count": 77,
   "id": "c24a8e5d",
   "metadata": {
    "scrolled": true
   },
   "outputs": [
    {
     "name": "stdout",
     "output_type": "stream",
     "text": [
      "0 / 601905\n",
      "10000 / 601905\n",
      "20000 / 601905\n",
      "30000 / 601905\n",
      "40000 / 601905\n",
      "50000 / 601905\n",
      "60000 / 601905\n",
      "70000 / 601905\n",
      "80000 / 601905\n",
      "90000 / 601905\n",
      "100000 / 601905\n",
      "110000 / 601905\n",
      "120000 / 601905\n",
      "130000 / 601905\n",
      "140000 / 601905\n",
      "150000 / 601905\n",
      "160000 / 601905\n",
      "170000 / 601905\n",
      "180000 / 601905\n",
      "190000 / 601905\n",
      "200000 / 601905\n",
      "210000 / 601905\n",
      "220000 / 601905\n",
      "230000 / 601905\n",
      "240000 / 601905\n",
      "250000 / 601905\n",
      "260000 / 601905\n",
      "270000 / 601905\n",
      "280000 / 601905\n",
      "290000 / 601905\n",
      "300000 / 601905\n",
      "310000 / 601905\n",
      "320000 / 601905\n",
      "330000 / 601905\n",
      "340000 / 601905\n",
      "350000 / 601905\n",
      "360000 / 601905\n",
      "370000 / 601905\n",
      "380000 / 601905\n",
      "390000 / 601905\n",
      "400000 / 601905\n",
      "410000 / 601905\n",
      "420000 / 601905\n",
      "430000 / 601905\n",
      "440000 / 601905\n",
      "450000 / 601905\n",
      "460000 / 601905\n",
      "470000 / 601905\n",
      "480000 / 601905\n",
      "490000 / 601905\n",
      "500000 / 601905\n",
      "510000 / 601905\n",
      "520000 / 601905\n",
      "530000 / 601905\n",
      "540000 / 601905\n",
      "550000 / 601905\n",
      "560000 / 601905\n",
      "570000 / 601905\n",
      "580000 / 601905\n",
      "590000 / 601905\n",
      "600000 / 601905\n"
     ]
    }
   ],
   "source": [
    "if not os.path.exists('chips_'+train_or_val):\n",
    "    os.makedirs('chips_'+train_or_val)\n",
    "\n",
    "j = 0\n",
    "\n",
    "#Process each annotation one by one\n",
    "for a in gt['annotations']:\n",
    "    \n",
    "    # there's an error so start from here\n",
    "    if j >= 421955:\n",
    "        \n",
    "        # Key annotation information\n",
    "        bbox = a['bbox']\n",
    "        im_id = a['image_id']\n",
    "        \n",
    "        # some images don't exist.......\n",
    "        if im_id not in [1395]:\n",
    "            \n",
    "            imgstr = \"train_images/\"+str(im_id)+\".tif\"\n",
    "            img = Image.open(imgstr)\n",
    "            arr = np.asarray(img)\n",
    "            # bbox is x, y, width, height\n",
    "            arr2 = arr[bbox[1]:bbox[1]+bbox[3], bbox[0]:bbox[0]+bbox[2], :]\n",
    "            #print('bbox', bbox)\n",
    "            #print(arr.shape)\n",
    "            #print(arr2.shape)\n",
    "            #plt.imshow(arr2)\n",
    "\n",
    "            # create a directory with the class name\n",
    "            if not os.path.exists('chips_'+train_or_val+'/'+str(a['category_id'])):\n",
    "                os.makedirs('chips_'+train_or_val+'/'+str(a['category_id']))\n",
    "\n",
    "            img2 = Image.fromarray(arr2.astype('uint8'), 'RGB')\n",
    "            img2 = img2.save('chips_'+train_or_val+'/'+str(a['category_id'])+\"/\"+str(j)+\".png\")\n",
    "\n",
    "    if j%10000 == 0:\n",
    "        print(j, \"/\", len(gt['annotations']))\n",
    "    j += 1--"
   ]
  },
  {
   "cell_type": "code",
   "execution_count": 75,
   "id": "0ebe1709",
   "metadata": {},
   "outputs": [
    {
     "data": {
      "text/plain": [
       "421955"
      ]
     },
     "execution_count": 75,
     "metadata": {},
     "output_type": "execute_result"
    }
   ],
   "source": [
    "j"
   ]
  },
  {
   "cell_type": "code",
   "execution_count": 83,
   "id": "2e8b54a4",
   "metadata": {},
   "outputs": [],
   "source": [
    "# with open(\"xview-class-labels.txt\", \"r\") as f:\n",
    "#     xv = f.read().splitlines()"
   ]
  },
  {
   "cell_type": "code",
   "execution_count": 84,
   "id": "9de31c20",
   "metadata": {},
   "outputs": [],
   "source": [
    "# for x in xv:\n",
    "#     num, name = x.split(\":\")\n",
    "#     name = name.replace(\"/\", \" \")\n",
    "#     os.rename(\"chips_train_all_examples/\"+num, \"chips_train_all_examples/\"+name)"
   ]
  },
  {
   "cell_type": "code",
   "execution_count": 92,
   "id": "179d2677",
   "metadata": {},
   "outputs": [
    {
     "name": "stdout",
     "output_type": "stream",
     "text": [
      "75\n",
      "82\n",
      "Aircraft Hangar\n",
      "Barge\n",
      "Building\n",
      "Bus\n",
      "Cargo Car\n",
      "Cargo Plane\n",
      "Cargo Truck\n",
      "Cement Mixer\n",
      "Construction Site\n",
      "Container Crane\n",
      "Container Ship\n",
      "Crane Truck\n",
      "Damaged Building\n",
      "Dump Truck\n",
      "Engineering Vehicle\n",
      "Excavator\n",
      "Facility\n",
      "Ferry\n",
      "Fishing Vessel\n",
      "Fixed-wing Aircraft\n",
      "Flat Car\n",
      "Front loader Bulldozer\n",
      "Ground Grader\n",
      "Haul Truck\n",
      "Helicopter\n",
      "Helipad\n",
      "Hut Tent\n",
      "Locomotive\n",
      "Maritime Vessel\n",
      "Mobile Crane\n",
      "Motorboat\n",
      "Oil Tanker\n",
      "Passenger Car\n",
      "Passenger Vehicle\n",
      "Pickup Truck\n",
      "Pylon\n",
      "Railway Vehicle\n",
      "Reach Stacker\n",
      "Sailboat\n",
      "Scraper Tractor\n",
      "Shed\n",
      "Shipping Container\n",
      "Shipping container lot\n",
      "Small Aircraft\n",
      "Small Car\n",
      "Storage Tank\n",
      "Straddle Carrier\n",
      "Tank car\n",
      "Tower\n",
      "Tower crane\n",
      "Trailer\n",
      "Truck\n",
      "Truck Tractor\n",
      "Truck w Box\n",
      "Truck w Flatbed\n",
      "Truck w Liquid\n",
      "Tugboat\n",
      "Utility Truck\n",
      "Vehicle Lot\n",
      "Yacht\n"
     ]
    }
   ],
   "source": [
    "# go through each subdirectory and copy 80% images into new train directory and 20% into new test directory\n",
    "for root, dirs, files in os.walk(\"chips_train_all_examples\"):\n",
    "    break\n",
    "\n",
    "for d in dirs:\n",
    "    print(d)\n",
    "    for root, dirs2, files in os.walk(\"chips_train_all_examples/\"+d):\n",
    "        break\n",
    "    train_files = []\n",
    "    test_files = []\n",
    "    for fi in files:\n",
    "        if random.random() <= 0.8:\n",
    "            train_files.append(fi)\n",
    "        else:\n",
    "            test_files.append(fi)\n",
    "    if not os.path.exists(\"chips_train\"):\n",
    "        os.makedirs(\"chips_train\")\n",
    "    for fi in train_files:\n",
    "        if not os.path.exists(\"chips_train/\"+d):\n",
    "            os.makedirs(\"chips_train/\"+d)\n",
    "        src = \"chips_train_all_examples/\"+d+\"/\"+fi\n",
    "        dst = \"chips_train/\"+d+\"/\"+fi\n",
    "        copyfile(src, dst)\n",
    "    if not os.path.exists(\"chips_test\"):\n",
    "        os.makedirs(\"chips_test\")\n",
    "    for fi in test_files:\n",
    "        if not os.path.exists(\"chips_test/\"+d):\n",
    "            os.makedirs(\"chips_test/\"+d)\n",
    "        src = \"chips_train_all_examples/\"+d+\"/\"+fi\n",
    "        dst = \"chips_test/\"+d+\"/\"+fi\n",
    "        copyfile(src, dst)"
   ]
  },
  {
   "cell_type": "code",
   "execution_count": null,
   "id": "1d224075",
   "metadata": {},
   "outputs": [],
   "source": []
  },
  {
   "cell_type": "code",
   "execution_count": null,
   "id": "59bff5c2",
   "metadata": {},
   "outputs": [],
   "source": []
  }
 ],
 "metadata": {
  "kernelspec": {
   "display_name": "Python 3 (ipykernel)",
   "language": "python",
   "name": "python3"
  },
  "language_info": {
   "codemirror_mode": {
    "name": "ipython",
    "version": 3
   },
   "file_extension": ".py",
   "mimetype": "text/x-python",
   "name": "python",
   "nbconvert_exporter": "python",
   "pygments_lexer": "ipython3",
   "version": "3.9.7"
  }
 },
 "nbformat": 4,
 "nbformat_minor": 5
}
