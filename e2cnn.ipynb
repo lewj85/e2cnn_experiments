{
 "cells": [
  {
   "cell_type": "markdown",
   "metadata": {
    "collapsed": true
   },
   "source": [
    "# General E(2)-Equivariant Steerable CNNs  -  A concrete example\n"
   ]
  },
  {
   "cell_type": "code",
   "execution_count": 1,
   "metadata": {},
   "outputs": [],
   "source": [
    "import os\n",
    "import csv\n",
    "import time\n",
    "import random\n",
    "from tqdm import tqdm\n",
    "\n",
    "import numpy as np\n",
    "from PIL import Image\n",
    "import cv2\n",
    "\n",
    "import torch\n",
    "import torch.nn.functional as F\n",
    "from torch.utils.data import Dataset\n",
    "from torchvision.transforms import RandomRotation, Pad, Resize, ToTensor, Compose\n",
    "from torchsummary import summary\n",
    "\n",
    "from e2cnn import gspaces\n",
    "from e2cnn import nn\n",
    "\n",
    "import pandas as pd\n",
    "import matplotlib.pyplot as plt\n",
    "import seaborn as sns\n",
    "\n",
    "%matplotlib inline"
   ]
  },
  {
   "cell_type": "markdown",
   "metadata": {},
   "source": [
    "Finally, we build a **Steerable CNN** and try it MNIST.\n",
    "\n",
    "Let's also use a group a bit larger: we now build a model equivariant to $8$ rotations.\n",
    "We indicate the group of $N$ discrete rotations as $C_N$, i.e. the **cyclic group** of order $N$.\n",
    "In this case, we will use $C_8$.\n",
    "\n",
    "Because the inputs are still gray-scale images, the input type of the model is again a *scalar field*.\n",
    "\n",
    "However, internally we use *regular fields*: this is equivalent to a *group-equivariant convolutional neural network*.\n",
    "\n",
    "Finally, we build *invariant* features for the final classification task by pooling over the group using *Group Pooling*.\n",
    "\n",
    "The final classification is performed by a two fully connected layers."
   ]
  },
  {
   "cell_type": "markdown",
   "metadata": {},
   "source": [
    "# The model\n",
    "\n",
    "Here is the definition of our model:"
   ]
  },
  {
   "cell_type": "code",
   "execution_count": 2,
   "metadata": {},
   "outputs": [],
   "source": [
    "class C8SteerableCNN(torch.nn.Module):\n",
    "    \n",
    "    def __init__(self, n_classes=10, cyclic_group=8):\n",
    "        self.cyclic_group=cyclic_group\n",
    "        \n",
    "        super(C8SteerableCNN, self).__init__()\n",
    "        \n",
    "        # the model is equivariant under rotations by 45 degrees, modelled by C8\n",
    "        self.r2_act = gspaces.Rot2dOnR2(N=self.cyclic_group)\n",
    "        #print(\"self.r2_act\", self.r2_act)\n",
    "        \n",
    "        # the input image is a scalar field, corresponding to the trivial representation\n",
    "        in_type = nn.FieldType(self.r2_act, 3*[self.r2_act.trivial_repr])\n",
    "        #print(\"in_type\", in_type)\n",
    "        \n",
    "        # we store the input type for wrapping the images into a geometric tensor during the forward pass\n",
    "        self.input_type = in_type\n",
    "        \n",
    "        # convolution 1\n",
    "        # first specify the output type of the convolutional layer\n",
    "        # we choose 24 feature fields, each transforming under the regular representation of C8\n",
    "        out_type = nn.FieldType(self.r2_act, 24*[self.r2_act.regular_repr])\n",
    "        #print(\"out_type\", out_type)\n",
    "        self.block1 = nn.SequentialModule(\n",
    "            nn.MaskModule(in_type, 80, margin=1),\n",
    "            nn.R2Conv(in_type, out_type, kernel_size=7, padding=1, bias=False),\n",
    "            nn.InnerBatchNorm(out_type),\n",
    "            nn.ReLU(out_type, inplace=True)\n",
    "        )\n",
    "        print('block1', self.block1.out_type.size)\n",
    "        \n",
    "        # convolution 2\n",
    "        # the old output type is the input type to the next layer\n",
    "        in_type = self.block1.out_type\n",
    "        # the output type of the second convolution layer are 48 regular feature fields of C8\n",
    "        out_type = nn.FieldType(self.r2_act, 48*[self.r2_act.regular_repr])\n",
    "        self.block2 = nn.SequentialModule(\n",
    "            nn.R2Conv(in_type, out_type, kernel_size=5, padding=2, bias=False),\n",
    "            nn.InnerBatchNorm(out_type),\n",
    "            nn.ReLU(out_type, inplace=True)\n",
    "        )\n",
    "        print('block2', self.block2.out_type.size)\n",
    "        self.pool1 = nn.SequentialModule(\n",
    "            nn.PointwiseAvgPoolAntialiased(out_type, sigma=0.66, stride=2)\n",
    "        )\n",
    "        print('pool1', self.pool1.out_type.size)\n",
    "        \n",
    "        # convolution 3\n",
    "        # the old output type is the input type to the next layer\n",
    "        in_type = self.block2.out_type\n",
    "        # the output type of the third convolution layer are 48 regular feature fields of C8\n",
    "        out_type = nn.FieldType(self.r2_act, 48*[self.r2_act.regular_repr])\n",
    "        self.block3 = nn.SequentialModule(\n",
    "            nn.R2Conv(in_type, out_type, kernel_size=5, padding=2, bias=False),\n",
    "            nn.InnerBatchNorm(out_type),\n",
    "            nn.ReLU(out_type, inplace=True)\n",
    "        )\n",
    "        print('block3', self.block3.out_type.size)\n",
    "        \n",
    "        # convolution 4\n",
    "        # the old output type is the input type to the next layer\n",
    "        in_type = self.block3.out_type\n",
    "        # the output type of the fourth convolution layer are 96 regular feature fields of C8\n",
    "        out_type = nn.FieldType(self.r2_act, 96*[self.r2_act.regular_repr])\n",
    "        self.block4 = nn.SequentialModule(\n",
    "            nn.R2Conv(in_type, out_type, kernel_size=5, padding=2, bias=False),\n",
    "            nn.InnerBatchNorm(out_type),\n",
    "            nn.ReLU(out_type, inplace=True)\n",
    "        )\n",
    "        print('block4', self.block4.out_type.size)\n",
    "        self.pool2 = nn.SequentialModule(\n",
    "            nn.PointwiseAvgPoolAntialiased(out_type, sigma=0.66, stride=2)\n",
    "        )\n",
    "        print('pool2', self.pool2.out_type.size)\n",
    "        \n",
    "        # convolution 5\n",
    "        # the old output type is the input type to the next layer\n",
    "        in_type = self.block4.out_type\n",
    "        # the output type of the fifth convolution layer are 96 regular feature fields of C8\n",
    "        out_type = nn.FieldType(self.r2_act, 96*[self.r2_act.regular_repr])\n",
    "        self.block5 = nn.SequentialModule(\n",
    "            nn.R2Conv(in_type, out_type, kernel_size=5, padding=2, bias=False),\n",
    "            nn.InnerBatchNorm(out_type),\n",
    "            nn.ReLU(out_type, inplace=True)\n",
    "        )\n",
    "        print('block5', self.block5.out_type.size)\n",
    "        \n",
    "        # convolution 6\n",
    "        # the old output type is the input type to the next layer\n",
    "        in_type = self.block5.out_type\n",
    "        # the output type of the sixth convolution layer are 64 regular feature fields of C8\n",
    "        out_type = nn.FieldType(self.r2_act, 64*[self.r2_act.regular_repr])\n",
    "        self.block6 = nn.SequentialModule(\n",
    "            nn.R2Conv(in_type, out_type, kernel_size=5, padding=1, bias=False),\n",
    "            nn.InnerBatchNorm(out_type),\n",
    "            nn.ReLU(out_type, inplace=True)\n",
    "        )\n",
    "        print('block6', self.block6.out_type.size)\n",
    "        self.pool3 = nn.PointwiseAvgPoolAntialiased(out_type, sigma=0.66, stride=1, padding=0)\n",
    "        print('pool3', self.pool3.out_type.size)\n",
    "        \n",
    "        self.gpool = nn.GroupPooling(out_type) # pool3.out_type\n",
    "        \n",
    "        # number of output channels\n",
    "        c = self.gpool.out_type.size\n",
    "        print('gpool', c)\n",
    "        \n",
    "        # Fully Connected\n",
    "        self.fully_net = torch.nn.Sequential(\n",
    "            torch.nn.Linear(c*13*13, 64),\n",
    "            torch.nn.BatchNorm1d(64),\n",
    "            torch.nn.ELU(inplace=True),\n",
    "            torch.nn.Linear(64, n_classes),\n",
    "        )\n",
    "    \n",
    "    def forward(self, input: torch.Tensor):\n",
    "        # wrap the input tensor in a GeometricTensor\n",
    "        # (associate it with the input type)\n",
    "        #print(\"input.shape\", input.shape)\n",
    "        x = nn.GeometricTensor(input, self.input_type)\n",
    "        \n",
    "        # apply each equivariant block\n",
    "        \n",
    "        # Each layer has an input and an output type\n",
    "        # A layer takes a GeometricTensor in input.\n",
    "        # This tensor needs to be associated with the same representation of the layer's input type\n",
    "        #\n",
    "        # The Layer outputs a new GeometricTensor, associated with the layer's output type.\n",
    "        # As a result, consecutive layers need to have matching input/output types\n",
    "        x = self.block1(x)\n",
    "        x = self.block2(x)\n",
    "        x = self.pool1(x)\n",
    "        \n",
    "        x = self.block3(x)\n",
    "        x = self.block4(x)\n",
    "        x = self.pool2(x)\n",
    "        \n",
    "        x = self.block5(x)\n",
    "        x = self.block6(x)\n",
    "        \n",
    "        # pool over the spatial dimensions\n",
    "        x = self.pool3(x)\n",
    "        #print(\"x.shape1\", x.shape)\n",
    "        \n",
    "        # pool over the group\n",
    "        x = self.gpool(x)\n",
    "        #print(\"x.shape2\", x.shape)\n",
    "\n",
    "        # unwrap the output GeometricTensor\n",
    "        # (take the Pytorch tensor and discard the associated representation)\n",
    "        x = x.tensor\n",
    "        #print(\"x.shape3\", x.shape)\n",
    "        \n",
    "        # classify with the final fully connected layers)\n",
    "        x = self.fully_net(x.reshape(x.shape[0], -1))\n",
    "        \n",
    "        return x"
   ]
  },
  {
   "cell_type": "code",
   "execution_count": 3,
   "metadata": {},
   "outputs": [],
   "source": [
    "# Not rotationally-equivariant architecture, mimics above as closely as possible\n",
    "class NonRECNN(torch.nn.Module):\n",
    "    def __init__(self, n_classes=10):\n",
    "        super().__init__()\n",
    "        \n",
    "        # convolution 1\n",
    "        self.block1 = torch.nn.Sequential(\n",
    "            torch.nn.Conv2d(in_channels=3, out_channels=24, kernel_size=7, stride=1, padding=1, bias=False),\n",
    "            torch.nn.BatchNorm2d(num_features=24),\n",
    "            torch.nn.ReLU(inplace=True)\n",
    "        )\n",
    "        \n",
    "        # convolution 2\n",
    "        self.block2 = torch.nn.Sequential(\n",
    "            torch.nn.Conv2d(in_channels=24, out_channels=48, kernel_size=5, stride=1, padding=2, bias=False),\n",
    "            torch.nn.BatchNorm2d(num_features=48),\n",
    "            torch.nn.ReLU(inplace=True)\n",
    "        )\n",
    "        self.pool1 = torch.nn.AvgPool2d(kernel_size=2, stride=2)\n",
    "        \n",
    "        # convolution 3\n",
    "        self.block3 = torch.nn.Sequential(\n",
    "            torch.nn.Conv2d(in_channels=48, out_channels=48, kernel_size=5, stride=1, padding=2, bias=False),\n",
    "            torch.nn.BatchNorm2d(num_features=48),\n",
    "            torch.nn.ReLU(inplace=True)\n",
    "        )\n",
    "        \n",
    "        # convolution 4\n",
    "        self.block4 = torch.nn.Sequential(\n",
    "            torch.nn.Conv2d(in_channels=48, out_channels=96, kernel_size=5, stride=1, padding=2, bias=False),\n",
    "            torch.nn.BatchNorm2d(num_features=96),\n",
    "            torch.nn.ReLU(inplace=True)\n",
    "        )\n",
    "        self.pool2 = torch.nn.AvgPool2d(kernel_size=2, stride=2)\n",
    "        \n",
    "        # convolution 5\n",
    "        self.block5 = torch.nn.Sequential(\n",
    "            torch.nn.Conv2d(in_channels=96, out_channels=96, kernel_size=5, stride=1, padding=2, bias=False),\n",
    "            torch.nn.BatchNorm2d(num_features=96),\n",
    "            torch.nn.ReLU(inplace=True)\n",
    "        )\n",
    "        \n",
    "        # convolution 6\n",
    "        self.block6 = torch.nn.Sequential(\n",
    "            # NOTE 1: changed padding=1 to padding=0 in this layer to help match input size of fc layer\n",
    "            torch.nn.Conv2d(in_channels=96, out_channels=64, kernel_size=5, stride=1, padding=0, bias=False),\n",
    "            torch.nn.BatchNorm2d(num_features=64),\n",
    "            torch.nn.ReLU(inplace=True)\n",
    "        )\n",
    "        self.pool3 = torch.nn.AvgPool2d(kernel_size=2, stride=1, padding=0)\n",
    "        # NOTE 2: added another avgpool2d to match input size of fc layer\n",
    "        self.pool4 = torch.nn.AvgPool2d(kernel_size=2, stride=1, padding=0)\n",
    "#        self.pool5 = torch.nn.AvgPool2d(kernel_size=2, stride=1, padding=0)\n",
    "#        self.pool6 = torch.nn.AvgPool2d(kernel_size=2, stride=1, padding=0)\n",
    "\n",
    "        # Fully Connected\n",
    "        self.fully_net = torch.nn.Sequential(\n",
    "            torch.nn.Linear(64*13*13, 64),\n",
    "            torch.nn.BatchNorm1d(num_features=64),\n",
    "            torch.nn.ELU(inplace=True),\n",
    "            torch.nn.Linear(64, n_classes),\n",
    "        )\n",
    "\n",
    "    def forward(self, x):\n",
    "        x = self.block1(x)\n",
    "        x = self.block2(x)\n",
    "        x = self.pool1(x)\n",
    "        \n",
    "        x = self.block3(x)\n",
    "        x = self.block4(x)\n",
    "        x = self.pool2(x)\n",
    "        \n",
    "        x = self.block5(x)\n",
    "        x = self.block6(x)\n",
    "        x = self.pool3(x)\n",
    "        x = self.pool4(x)\n",
    "#        x = self.pool5(x)\n",
    "#        x = self.pool6(x)\n",
    "        \n",
    "        # flatten all dimensions except batch\n",
    "        x = torch.flatten(x, 1)\n",
    "        \n",
    "        # classify with the final fully connected layers)\n",
    "        x = self.fully_net(x.reshape(x.shape[0], -1))\n",
    "        \n",
    "        return x"
   ]
  },
  {
   "cell_type": "markdown",
   "metadata": {},
   "source": [
    "Let's build the model"
   ]
  },
  {
   "cell_type": "code",
   "execution_count": 4,
   "metadata": {},
   "outputs": [
    {
     "name": "stdout",
     "output_type": "stream",
     "text": [
      "cuda\n"
     ]
    }
   ],
   "source": [
    "device = 'cuda' if torch.cuda.is_available() else 'cpu'\n",
    "#device = 'cpu'\n",
    "print(device)"
   ]
  },
  {
   "cell_type": "code",
   "execution_count": 15,
   "metadata": {
    "scrolled": true
   },
   "outputs": [],
   "source": [
    "EQUIVARIANT = False\n",
    "dataname = 'DOTAv1.0'\n",
    "\n",
    "# 15 for DOTA, 62 for xView\n",
    "n_classes = -1\n",
    "if dataname == 'DOTAv1.0':\n",
    "    n_classes = 15\n",
    "elif dataname == 'xView':\n",
    "    n_classes = 62\n",
    "\n",
    "assert n_classes > 0"
   ]
  },
  {
   "cell_type": "code",
   "execution_count": 16,
   "metadata": {},
   "outputs": [],
   "source": [
    "if EQUIVARIANT:\n",
    "    cyclic_group = 8\n",
    "    model = C8SteerableCNN(n_classes=n_classes, cyclic_group=cyclic_group).to(device)\n",
    "else:\n",
    "    cyclic_group = 1\n",
    "    model = NonRECNN(n_classes=n_classes).to(device)\n",
    "\n",
    "#summary(model, input_size=(3, 80, 80))"
   ]
  },
  {
   "cell_type": "code",
   "execution_count": 6,
   "metadata": {
    "scrolled": true
   },
   "outputs": [],
   "source": [
    "# cyclic_group = 8\n",
    "# n_classes = 15\n",
    "\n",
    "# model1 = C8SteerableCNN(n_classes=n_classes, cyclic_group=cyclic_group).to(device)\n",
    "# summary(model1, input_size=(3, 80, 80))"
   ]
  },
  {
   "cell_type": "code",
   "execution_count": 7,
   "metadata": {
    "scrolled": true
   },
   "outputs": [],
   "source": [
    "# model2 = NonRECNN(n_classes=n_classes).to(device)\n",
    "# summary(model2, input_size=(3, 80, 80))"
   ]
  },
  {
   "cell_type": "markdown",
   "metadata": {},
   "source": [
    "The model is now randomly initialized. \n",
    "Therefore, we do not expect it to produce the right class probabilities.\n",
    "\n",
    "However, the model should still produce the same output for rotated versions of the same image.\n",
    "This is true for rotations by multiples of $\\frac{\\pi}{2}$, but is only approximate for rotations by $\\frac{\\pi}{4}$."
   ]
  },
  {
   "cell_type": "markdown",
   "metadata": {},
   "source": [
    "Let's try the model on *rotated* MNIST"
   ]
  },
  {
   "cell_type": "code",
   "execution_count": 8,
   "metadata": {},
   "outputs": [],
   "source": [
    "# # download the dataset\n",
    "# !wget -nc http://www.iro.umontreal.ca/~lisa/icml2007data/mnist_rotation_new.zip\n",
    "# # uncompress the zip file\n",
    "# !unzip -n mnist_rotation_new.zip -d mnist_rotation_new"
   ]
  },
  {
   "cell_type": "code",
   "execution_count": 9,
   "metadata": {},
   "outputs": [],
   "source": [
    "# import requests\n",
    "# url = 'http://www.iro.umontreal.ca/~lisa/icml2007data/mnist_rotation_new.zip'\n",
    "# doc = requests.get(url)\n",
    "# with open('mnistrot.zip', 'wb') as f:\n",
    "#     f.write(doc.content)"
   ]
  },
  {
   "cell_type": "markdown",
   "metadata": {},
   "source": [
    "Build the dataset"
   ]
  },
  {
   "cell_type": "code",
   "execution_count": 10,
   "metadata": {},
   "outputs": [],
   "source": [
    "class TheDataset(Dataset):\n",
    "\n",
    "    def __init__(self, mode, transform=None, max_num_examples=999999, \n",
    "                 chip_size=80, dataname='xView', index_lists={}, classdict={}):\n",
    "        assert mode in ['train', 'val']\n",
    "        \n",
    "        #dataname: DOTAv1.0, xView, FAIR1M, etc\n",
    "        self.basedir = 'C:/Users/Admin/Desktop/data/'+dataname+'/'\n",
    "        self.chipdir = self.basedir+\"chips_\"+mode+\"/\"\n",
    "\n",
    "        self.transform = transform\n",
    "        self.max_num_examples = max_num_examples\n",
    "        #data = np.loadtxt(self.chipdir, delimiter=' ')\n",
    "        self.index_lists = index_lists\n",
    "        self.labels = []\n",
    "        self.chip_size = chip_size\n",
    "        self.color = (0,0,0)\n",
    "        self.classdict = classdict\n",
    "        self.classval = 0\n",
    "\n",
    "        for root, dirs, filenames in os.walk(self.chipdir, topdown=False):\n",
    "            pass\n",
    "\n",
    "        # first time through, we need to create self.index_lists and self.classdict\n",
    "        if not self.index_lists:\n",
    "            # first get all indices of each class and put them into dict self.index_lists\n",
    "            for d in dirs:\n",
    "                for root, dirs, filenames in os.walk(self.chipdir+d, topdown=False):\n",
    "                    pass\n",
    "                for f in filenames:\n",
    "                    if self.index_lists.get(d, False):\n",
    "                        self.index_lists[d].append(int(f[:-4]))\n",
    "                    else:\n",
    "                        self.index_lists[d] = [int(f[:-4])]\n",
    "\n",
    "        # now make self.classdict, or get it from when we made validation data\n",
    "        if not self.classdict:\n",
    "            # NOTE: labels must start at 0, not 1, or PyTorch is unhappy\n",
    "            for k in self.index_lists.keys():\n",
    "                self.classdict[k] = self.classval\n",
    "                self.classval += 1\n",
    "\n",
    "        # now take random sample from each list\n",
    "        self.images = []\n",
    "        self.labels = []\n",
    "        #for k in self.index_lists.keys():\n",
    "        with tqdm(self.index_lists.keys(), unit=\"class\") as tkeys:\n",
    "            for k in tkeys:\n",
    "                ####################################################\n",
    "                # if too many examples, take self.max_num_examples random examples for that class\n",
    "                ####################################################\n",
    "                if len(self.index_lists[k]) > self.max_num_examples:\n",
    "                    temp = random.sample(self.index_lists[k], self.max_num_examples)\n",
    "\n",
    "                    for t in temp:\n",
    "                        self.images.append(self.prep_image(k, t))\n",
    "                        self.labels.append(classdict[k])\n",
    "                ####################################################\n",
    "                # if not enough examples, take all examples of that class\n",
    "                ####################################################\n",
    "                else:\n",
    "                    for t in self.index_lists[k]:\n",
    "                        self.images.append(self.prep_image(k, t))\n",
    "                        self.labels.append(classdict[k])\n",
    "        tkeys.close()\n",
    "\n",
    "\n",
    "    def prep_image(self, d, f):\n",
    "        imgstr = self.chipdir+d+\"/\"+str(f)+\".png\"\n",
    "        #print(imgstr)\n",
    "        #img = Image.open(imgstr)\n",
    "        #arr = np.asarray(img)\n",
    "        img = cv2.imread(imgstr)\n",
    "        old_image_height, old_image_width, channels = img.shape\n",
    "        #print('old', old_image_height, old_image_width)\n",
    "        \n",
    "        # first pad to become a square (then we'll resize later)\n",
    "        if img.shape[0] < img.shape[1]:\n",
    "            result1 = np.full((img.shape[1],img.shape[1], channels), self.color, dtype=np.uint8)\n",
    "            #print('shape', result1.shape)\n",
    "            # compute center offset\n",
    "            #x_center = np.abs(self.chip_size - old_image_width) // 2\n",
    "            y_center = np.abs(img.shape[1] - old_image_height) // 2\n",
    "            #print('y_center', y_center)\n",
    "            # copy img image into center of result image\n",
    "            result1[y_center:y_center+old_image_height, :] = img\n",
    "        elif img.shape[0] > img.shape[1]:\n",
    "            result1 = np.full((img.shape[0],img.shape[0], channels), self.color, dtype=np.uint8)\n",
    "            #print('shape', result1.shape)\n",
    "            # compute center offset\n",
    "            x_center = np.abs(img.shape[0] - old_image_width) // 2\n",
    "            #y_center = np.abs(self.chip_size - old_image_height) // 2\n",
    "            #print('x_center', x_center)\n",
    "            # copy img image into center of result image\n",
    "            result1[:, x_center:x_center+old_image_width] = img\n",
    "        else:\n",
    "            result1 = img[:,:,:]\n",
    "        \n",
    "        # now resize\n",
    "        if not (result1.shape[0] == self.chip_size and result1.shape[1] == self.chip_size):\n",
    "            #print('result1.shape1', result1.shape)\n",
    "            result1 = cv2.resize(result1, dsize=(self.chip_size, self.chip_size), interpolation=cv2.INTER_CUBIC)\n",
    "            #print('result1.shape2', result1.shape)\n",
    "        \n",
    "        res2 = result1.reshape(-1, self.chip_size, self.chip_size).astype(np.float32) # = arr[:, :-1].reshape(-1, self.chip_size, self.chip_size)\n",
    "        #print('res2.shape', res2.shape)\n",
    "\n",
    "        # ToTensor screws up the order, so we have to undo it:\n",
    "        # https://discuss.pytorch.org/t/torchvision-totensor-dont-change-channel-order/82038/2\n",
    "        #res2 = res2.permute((1, 2, 0)).contiguous()\n",
    "\n",
    "        # convert back to PIL Image object for pytorch transforms (e.g. RandomRotation) to work\n",
    "        #image = Image.fromarray(image)\n",
    "\n",
    "        #self.images.append(res2)\n",
    "        \n",
    "        return res2\n",
    "\n",
    "#         # labels\n",
    "#         # NOTE: labels must start at 0, not 1, or PyTorch is unhappy\n",
    "#         if self.classdict.get(d, -1) >= 0:\n",
    "#             self.labels.append(self.classdict[d])\n",
    "#         else: # it's not in self.classdict yet\n",
    "#             self.classdict[d] = self.classval\n",
    "#             self.classval += 1\n",
    "\n",
    "#         if self.max_num_examples > 0:\n",
    "#             #z1 = list(zip(self.images, self.labels))\n",
    "#             classdict = {}\n",
    "#             for i in range(len(self.labels)):\n",
    "#                 if classdict.get(self.labels[i], False):\n",
    "#                     classdict[self.labels[i]].append(self.images[i])\n",
    "#                 else:\n",
    "#                     classdict[self.labels[i]] = [self.images[i]]\n",
    "#             self.images = []\n",
    "#             self.labels = []\n",
    "#             for i in range(self.classval):\n",
    "#                 ####################################################\n",
    "#                 # if too many examples, take self.max_num_examples random examples for that class\n",
    "#                 ####################################################\n",
    "#                 if len(classdict[i]) > self.max_num_examples:\n",
    "#                     temp = random.sample(classdict[i], self.max_num_examples)\n",
    "\n",
    "#                     for t in temp:\n",
    "#                         self.images.append(t)\n",
    "#                         self.labels.append(i)\n",
    "#                 ####################################################\n",
    "#                 # if not enough examples, take all examples of that class\n",
    "#                 ####################################################\n",
    "#                 else:\n",
    "#                     for t in classdict[i]:\n",
    "#                         self.images.append(t)\n",
    "#                         self.labels.append(i)\n",
    "\n",
    "        self.num_samples = len(self.labels)\n",
    "        print(\"self.num_samples\", self.num_samples)\n",
    "\n",
    "\n",
    "    def __getitem__(self, index):\n",
    "        image, label = self.images[index], self.labels[index]\n",
    "        # image is a numpy ndarray instead of PIL Image object\n",
    "        # NOTE: certain pytorch functions (aka RandomRotate) require PIL Image objects\n",
    "        # ToTensor screws up the shape/channel order, so we have to undo it:\n",
    "        # https://discuss.pytorch.org/t/torchvision-totensor-dont-change-channel-order/82038/2\n",
    "        #image = image.permute((1, 2, 0)).contiguous()\n",
    "        #image = Image.fromarray(image)\n",
    "        if self.transform is not None:\n",
    "            image = self.transform(image)\n",
    "        return image, label\n",
    "\n",
    "\n",
    "    def __len__(self):\n",
    "        return len(self.labels)\n",
    "\n",
    "# images are padded to have shape 29x29.\n",
    "# this allows to use odd-size filters with stride 2 when downsampling a feature map in the model\n",
    "#pad = Pad((0, 0, 1, 1), fill=0)\n",
    "\n",
    "# to reduce interpolation artifacts (e.g. when testing the model on rotated images),\n",
    "# we upsample an image by a factor of 3, rotate it and finally downsample it again\n",
    "#resize1 = Resize(80*3)\n",
    "#resize2 = Resize(80)\n",
    "\n",
    "#totensor = ToTensor()"
   ]
  },
  {
   "cell_type": "code",
   "execution_count": 11,
   "metadata": {},
   "outputs": [
    {
     "name": "stderr",
     "output_type": "stream",
     "text": [
      "100%|██████████| 62/62 [00:00<00:00, 1093.09class/s]"
     ]
    },
    {
     "name": "stdout",
     "output_type": "stream",
     "text": [
      "[121155, 125165, 129605, 130523, 150303, 151274, 151362, 152403, 23194, 588749, 76095]\n",
      "{'75': 0, '82': 1, 'Aircraft Hangar': 2, 'Barge': 3, 'Building': 4, 'Bus': 5, 'Cargo Car': 6, 'Cargo Plane': 7, 'Cargo Truck': 8, 'Cement Mixer': 9, 'Construction Site': 10, 'Container Crane': 11, 'Container Ship': 12, 'Crane Truck': 13, 'Damaged Building': 14, 'Dump Truck': 15, 'Engineering Vehicle': 16, 'Excavator': 17, 'Facility': 18, 'Ferry': 19, 'Fishing Vessel': 20, 'Fixed-wing Aircraft': 21, 'Flat Car': 22, 'Front loader Bulldozer': 23, 'Ground Grader': 24, 'Haul Truck': 25, 'Helicopter': 26, 'Helipad': 27, 'Hut Tent': 28, 'Locomotive': 29, 'Maritime Vessel': 30, 'Mobile Crane': 31, 'Motorboat': 32, 'Oil Tanker': 33, 'Passenger Car': 34, 'Passenger Vehicle': 35, 'Pickup Truck': 36, 'Pylon': 37, 'Railway Vehicle': 38, 'Reach Stacker': 39, 'Sailboat': 40, 'Scraper Tractor': 41, 'Shed': 42, 'Shipping Container': 43, 'Shipping container lot': 44, 'Small Aircraft': 45, 'Small Car': 46, 'Storage Tank': 47, 'Straddle Carrier': 48, 'Tank car': 49, 'Tower': 50, 'Tower crane': 51, 'Trailer': 52, 'Truck': 53, 'Truck Tractor': 54, 'Truck w Box': 55, 'Truck w Flatbed': 56, 'Truck w Liquid': 57, 'Tugboat': 58, 'Utility Truck': 59, 'Vehicle Lot': 60, 'Yacht': 61}\n"
     ]
    },
    {
     "name": "stderr",
     "output_type": "stream",
     "text": [
      "\n"
     ]
    }
   ],
   "source": [
    "# build the test set\n",
    "vtest = TheDataset(mode='val', dataname='xView', max_num_examples=1)\n",
    "print(vtest.index_lists['75'])\n",
    "print(vtest.classdict)\n",
    "del vtest"
   ]
  },
  {
   "cell_type": "code",
   "execution_count": 12,
   "metadata": {},
   "outputs": [],
   "source": [
    "# retrieve the first image from the test set\n",
    "#x, y = next(iter(test))\n",
    "#\n",
    "#print(x.shape)\n",
    "#print(test[3530])"
   ]
  },
  {
   "cell_type": "code",
   "execution_count": 13,
   "metadata": {},
   "outputs": [],
   "source": [
    "def test_model(model: torch.nn.Module, x: Image):\n",
    "    # evaluate the `model` on 8 rotated versions of the input image `x`\n",
    "    model.eval()\n",
    "    totensor = ToTensor()\n",
    "    \n",
    "    wrmup = model(torch.randn(1, 3, 80, 80).to(device))\n",
    "    del wrmup\n",
    "    \n",
    "    #x = resize1(pad(x))\n",
    "    \n",
    "    print()\n",
    "    print('##########################################################################################')\n",
    "    header = 'angle |  ' + '  '.join([\"{:6d}\".format(d) for d in range(15)])\n",
    "    print(header)\n",
    "    with torch.no_grad():\n",
    "        for r in range(8):\n",
    "            #print(np.min(x), np.max(x), x.shape)\n",
    "            intimg = x.astype(np.uint8)\n",
    "            #print(type(intimg))\n",
    "            #print(np.min(intimg), np.max(intimg), intimg.shape)\n",
    "            # go from 3,80,80 -> 80,80,3\n",
    "            #intimg2 = intimg.permute((1, 2, 0)).contiguous() # can't permute numpy arrays\n",
    "            intimg2 = intimg.transpose(1, 2, 0)\n",
    "            #print(np.min(intimg2), np.max(intimg2), intimg2.shape)\n",
    "            img = Image.fromarray(intimg2)\n",
    "            #print(np.min(img), np.max(img))\n",
    "            rotimg = img.rotate(r*45., Image.BILINEAR)\n",
    "            #print(rotimg.shape)\n",
    "            x_transformed = totensor(rotimg).reshape(-1, 3, 80, 80)\n",
    "            x_transformed = x_transformed.to(device)\n",
    "\n",
    "            y = model(x_transformed)\n",
    "            y = y.to('cpu').numpy().squeeze()\n",
    "            \n",
    "            angle = r * 45\n",
    "            print(\"{:3d}:{}\".format(angle, y))\n",
    "    print('##########################################################################################')\n",
    "    print()"
   ]
  },
  {
   "cell_type": "code",
   "execution_count": 14,
   "metadata": {},
   "outputs": [],
   "source": [
    "# evaluate the model\n",
    "#test_model(model, x)"
   ]
  },
  {
   "cell_type": "markdown",
   "metadata": {},
   "source": [
    "The output of the model is already almost invariant.\n",
    "However, we still observe small fluctuations in the outputs.\n",
    "\n",
    "This is because the model contains some operations which might break equivariance.\n",
    "For instance, every convolution includes a padding of $2$ pixels per side. This is adds information about the actual orientation of the grid where the image/feature map is sampled because the padding is not rotated with the image. \n",
    "\n",
    "During training, the model will observe rotated patterns and will learn to ignore the noise coming from the padding."
   ]
  },
  {
   "cell_type": "markdown",
   "metadata": {},
   "source": [
    "So, let's train the model now.\n",
    "The model is exactly the same used to train a normal *PyTorch* architecture:"
   ]
  },
  {
   "cell_type": "code",
   "execution_count": 15,
   "metadata": {},
   "outputs": [],
   "source": [
    "#dataname: DOTAv1.0, xView, FAIR1M, etc\n",
    "dataname = 'xView'"
   ]
  },
  {
   "cell_type": "code",
   "execution_count": 16,
   "metadata": {},
   "outputs": [],
   "source": [
    "# Prep the training dataset\n",
    "train_transform = Compose([\n",
    "    #pad,\n",
    "    #resize1,\n",
    "    #RandomRotation(180, resample=Image.BILINEAR, expand=False),\n",
    "    #resize2,\n",
    "    #ToTensor()\n",
    "])\n",
    "\n",
    "#data_train = TheDataset(mode='train', transform=train_transform, dataname=dataname)\n",
    "#train_loader = torch.utils.data.DataLoader(data_train, batch_size=8, shuffle=True)\n",
    "#print(len(data_train), len(train_loader))"
   ]
  },
  {
   "cell_type": "code",
   "execution_count": 17,
   "metadata": {},
   "outputs": [],
   "source": [
    "def get_fresh_training_data(n, index_lists={}, classdict={}):\n",
    "    data_train = TheDataset(mode='train', transform=train_transform, max_num_examples=n, \n",
    "                            chip_size=80, dataname=dataname, index_lists=index_lists, classdict=classdict)\n",
    "    train_loader = torch.utils.data.DataLoader(data_train, batch_size=8, shuffle=True, drop_last=True)\n",
    "    #print(len(data_train), len(train_loader))\n",
    "    return train_loader, data_train.index_lists, data_train.classdict"
   ]
  },
  {
   "cell_type": "code",
   "execution_count": 18,
   "metadata": {
    "scrolled": true
   },
   "outputs": [
    {
     "name": "stderr",
     "output_type": "stream",
     "text": [
      "100%|██████████| 62/62 [01:02<00:00,  1.01s/class]"
     ]
    },
    {
     "name": "stdout",
     "output_type": "stream",
     "text": [
      "119881 labels\n",
      "14985 batches\n"
     ]
    },
    {
     "name": "stderr",
     "output_type": "stream",
     "text": [
      "\n"
     ]
    }
   ],
   "source": [
    "# Prep the testing dataset\n",
    "val_transform = Compose([\n",
    "    #pad,\n",
    "    #ToTensor()\n",
    "])\n",
    "\n",
    "data_val = TheDataset(mode='val', transform=val_transform, \n",
    "                      chip_size=80, dataname=dataname)\n",
    "val_loader = torch.utils.data.DataLoader(data_val, batch_size=8, shuffle=True, drop_last=True)\n",
    "print(len(data_val), \"labels\")\n",
    "print(len(val_loader), \"batches\")"
   ]
  },
  {
   "cell_type": "code",
   "execution_count": 19,
   "metadata": {},
   "outputs": [
    {
     "name": "stdout",
     "output_type": "stream",
     "text": [
      "[tensor([ 4, 30,  4,  4, 46,  4, 46,  4])]\n"
     ]
    }
   ],
   "source": [
    "label_is = []\n",
    "for v in val_loader:\n",
    "    label_is.append(v[1])\n",
    "    break\n",
    "print(label_is)"
   ]
  },
  {
   "cell_type": "code",
   "execution_count": 20,
   "metadata": {},
   "outputs": [],
   "source": [
    "# mini = 99999\n",
    "# maxi = 0\n",
    "# for m in data_train: # data_val\n",
    "#     if m[1] < mini:\n",
    "#         mini = m[1]\n",
    "#     if m[1] > maxi:\n",
    "#         maxi = m[1]\n",
    "# print(mini, maxi, \"<--- should be 0 14 instead of 1 15\")"
   ]
  },
  {
   "cell_type": "code",
   "execution_count": 21,
   "metadata": {},
   "outputs": [],
   "source": [
    "def save_the_model(model, cyclic_group, epoch, train_acc, train_loss, test_acc, test_loss, dataname):\n",
    "    if not os.path.exists(\"models\"):\n",
    "        os.mkdir(\"models\")\n",
    "    model_name = \"models/model_\"+dataname+\"_C\"+str(cyclic_group)+\"_\"+str(epoch)+\"_\"+str(round(train_acc,4))+\"_\"+str(round(train_loss,4))+\"_\"+str(round(test_acc,4))+\"_\"+str(round(test_loss,4))+\".pth\"\n",
    "#    if not os.path.exists(\"models/model_\"+dataname+\".pth\"):\n",
    "    torch.save(model.state_dict(), model_name)\n",
    "#    print('saved')\n",
    "#    else:\n",
    "#         model.load_state_dict(torch.load(\"models/model_\"+dataname+\".pth\"))\n",
    "#         print('loaded')"
   ]
  },
  {
   "cell_type": "code",
   "execution_count": 22,
   "metadata": {},
   "outputs": [],
   "source": [
    "def save_the_results(cyclic_group, epoch, train_accuracy, train_loss, test_accuracy, test_loss, dataname):\n",
    "    add_headers = False\n",
    "    if not os.path.exists(\"results\"):\n",
    "        os.mkdir(\"results\")\n",
    "    if not os.path.exists(\"results/model_\"+dataname+\".csv\"):\n",
    "        add_headers = True\n",
    "    # writing to csv file\n",
    "    with open(\"results/model_\"+dataname+\".csv\", 'a', newline='') as csvfile: \n",
    "        # creating a csv writer object \n",
    "        csvwriter = csv.writer(csvfile)\n",
    "\n",
    "        if add_headers:\n",
    "            csvwriter.writerow(['Dataname', 'Cyclic Group', 'Epoch', 'Train Accuracy', 'Train Loss', 'Test Accuracy', 'Test Loss'])\n",
    "\n",
    "        # writing the data rows\n",
    "        csvwriter.writerow([dataname, cyclic_group, epoch, train_accuracy, train_loss, test_accuracy, test_loss])"
   ]
  },
  {
   "cell_type": "code",
   "execution_count": 23,
   "metadata": {},
   "outputs": [],
   "source": [
    "# Initialize the model\n",
    "loss_function = torch.nn.CrossEntropyLoss()\n",
    "optimizer = torch.optim.Adam(model.parameters(), lr=5e-5, weight_decay=1e-5)\n",
    "\n",
    "######################################################\n",
    "# IF CONTINUING TRAINING, LOAD MODEL FROM LAST EPOCH\n",
    "######################################################\n",
    "CONTINUING = False\n",
    "if CONTINUING:\n",
    "    # train_loader = get_fresh_training_data(30000)\n",
    "    if EQUIVARIANT:\n",
    "        model.load_state_dict(torch.load(\"models/model_dota_C8_65_97.6337_874.7356_84.8987_2469.3884.pth\"))\n",
    "    else:\n",
    "        model.load_state_dict(torch.load(\"models/model_dota_C1_64_95.0866_865.1543_86.0953_1910.6196.pth\"))"
   ]
  },
  {
   "cell_type": "code",
   "execution_count": 24,
   "metadata": {},
   "outputs": [],
   "source": [
    "# # get initial performance with random weights\n",
    "# test_total = 0\n",
    "# test_correct = 0\n",
    "# test_loss = 0\n",
    "# with torch.no_grad():\n",
    "#     model.eval()\n",
    "    \n",
    "#     #for i, (x, t) in enumerate(val_loader):\n",
    "#     with tqdm(val_loader, unit=\"batch\") as tepoch:\n",
    "#         for x, t in tepoch:\n",
    "#             tepoch.set_description(f\"Epoch {-1}\")\n",
    "            \n",
    "#             #if i%1000==0:\n",
    "#             #    print(i, \"/\", len(test_loader))\n",
    "\n",
    "#             x = x.to(device)\n",
    "#             t = t.to(device)\n",
    "\n",
    "#             y = model(x)\n",
    "\n",
    "#             _, prediction = torch.max(y.data, 1)\n",
    "#             if prediction.shape[0] != t.shape[0]:\n",
    "#                 print(t)\n",
    "#                 t = t[:-(t.shape[0]-prediction.shape[0])]\n",
    "#                 print(t)\n",
    "#             test_total += t.shape[0]\n",
    "#             test_correct += (prediction == t).sum().item()\n",
    "\n",
    "#             loss = loss_function(y, t)\n",
    "#             test_loss += loss\n",
    "\n",
    "# test_accuracy = test_correct/test_total*100.\n",
    "    \n",
    "# print(f\"test accuracy: {test_accuracy}\")\n",
    "# print(f\"test loss: {test_loss.item()}\")"
   ]
  },
  {
   "cell_type": "code",
   "execution_count": 27,
   "metadata": {
    "scrolled": true
   },
   "outputs": [
    {
     "name": "stdout",
     "output_type": "stream",
     "text": [
      "starting epoch 25\n"
     ]
    },
    {
     "name": "stderr",
     "output_type": "stream",
     "text": [
      "100%|██████████| 62/62 [00:32<00:00,  1.89class/s]\n"
     ]
    },
    {
     "name": "stdout",
     "output_type": "stream",
     "text": [
      "samples_per_class 3000\n"
     ]
    },
    {
     "name": "stderr",
     "output_type": "stream",
     "text": [
      "Epoch 25: 100%|██████████| 6623/6623 [36:00<00:00,  3.07batch/s]\n",
      "Epoch 25: 100%|██████████| 14985/14985 [17:45<00:00, 14.06batch/s] \n"
     ]
    },
    {
     "name": "stdout",
     "output_type": "stream",
     "text": [
      "starting epoch 26\n"
     ]
    },
    {
     "name": "stderr",
     "output_type": "stream",
     "text": [
      "100%|██████████| 62/62 [00:32<00:00,  1.92class/s]\n"
     ]
    },
    {
     "name": "stdout",
     "output_type": "stream",
     "text": [
      "samples_per_class 3000\n"
     ]
    },
    {
     "name": "stderr",
     "output_type": "stream",
     "text": [
      "Epoch 26: 100%|██████████| 6623/6623 [32:04<00:00,  3.44batch/s]\n",
      "Epoch 26: 100%|██████████| 14985/14985 [17:37<00:00, 14.18batch/s]\n"
     ]
    },
    {
     "name": "stdout",
     "output_type": "stream",
     "text": [
      "starting epoch 27\n"
     ]
    },
    {
     "name": "stderr",
     "output_type": "stream",
     "text": [
      "100%|██████████| 62/62 [00:33<00:00,  1.88class/s]\n"
     ]
    },
    {
     "name": "stdout",
     "output_type": "stream",
     "text": [
      "samples_per_class 3000\n"
     ]
    },
    {
     "name": "stderr",
     "output_type": "stream",
     "text": [
      "Epoch 27: 100%|██████████| 6623/6623 [31:50<00:00,  3.47batch/s]\n",
      "Epoch 27: 100%|██████████| 14985/14985 [17:39<00:00, 14.14batch/s]\n"
     ]
    },
    {
     "name": "stdout",
     "output_type": "stream",
     "text": [
      "starting epoch 28\n"
     ]
    },
    {
     "name": "stderr",
     "output_type": "stream",
     "text": [
      "100%|██████████| 62/62 [00:33<00:00,  1.87class/s]\n"
     ]
    },
    {
     "name": "stdout",
     "output_type": "stream",
     "text": [
      "samples_per_class 3000\n"
     ]
    },
    {
     "name": "stderr",
     "output_type": "stream",
     "text": [
      "Epoch 28: 100%|██████████| 6623/6623 [30:40<00:00,  3.60batch/s]\n",
      "Epoch 28: 100%|██████████| 14985/14985 [17:40<00:00, 14.13batch/s]\n"
     ]
    },
    {
     "name": "stdout",
     "output_type": "stream",
     "text": [
      "starting epoch 29\n"
     ]
    },
    {
     "name": "stderr",
     "output_type": "stream",
     "text": [
      "100%|██████████| 62/62 [00:33<00:00,  1.88class/s]\n"
     ]
    },
    {
     "name": "stdout",
     "output_type": "stream",
     "text": [
      "samples_per_class 3000\n"
     ]
    },
    {
     "name": "stderr",
     "output_type": "stream",
     "text": [
      "Epoch 29: 100%|██████████| 6623/6623 [30:43<00:00,  3.59batch/s]\n",
      "Epoch 29: 100%|██████████| 14985/14985 [17:41<00:00, 14.11batch/s]\n"
     ]
    },
    {
     "name": "stdout",
     "output_type": "stream",
     "text": [
      "starting epoch 30\n"
     ]
    },
    {
     "name": "stderr",
     "output_type": "stream",
     "text": [
      "100%|██████████| 62/62 [00:34<00:00,  1.81class/s]\n"
     ]
    },
    {
     "name": "stdout",
     "output_type": "stream",
     "text": [
      "samples_per_class 3000\n"
     ]
    },
    {
     "name": "stderr",
     "output_type": "stream",
     "text": [
      "Epoch 30: 100%|██████████| 6623/6623 [30:58<00:00,  3.56batch/s]\n",
      "Epoch 30: 100%|██████████| 14985/14985 [17:40<00:00, 14.13batch/s]\n"
     ]
    },
    {
     "name": "stdout",
     "output_type": "stream",
     "text": [
      "starting epoch 31\n"
     ]
    },
    {
     "name": "stderr",
     "output_type": "stream",
     "text": [
      "100%|██████████| 62/62 [00:34<00:00,  1.82class/s]\n"
     ]
    },
    {
     "name": "stdout",
     "output_type": "stream",
     "text": [
      "samples_per_class 3000\n"
     ]
    },
    {
     "name": "stderr",
     "output_type": "stream",
     "text": [
      "Epoch 31: 100%|██████████| 6623/6623 [30:45<00:00,  3.59batch/s]\n",
      "Epoch 31: 100%|██████████| 14985/14985 [17:44<00:00, 14.08batch/s]\n"
     ]
    },
    {
     "name": "stdout",
     "output_type": "stream",
     "text": [
      "starting epoch 32\n"
     ]
    },
    {
     "name": "stderr",
     "output_type": "stream",
     "text": [
      "100%|██████████| 62/62 [00:34<00:00,  1.80class/s]\n"
     ]
    },
    {
     "name": "stdout",
     "output_type": "stream",
     "text": [
      "samples_per_class 3000\n"
     ]
    },
    {
     "name": "stderr",
     "output_type": "stream",
     "text": [
      "Epoch 32: 100%|██████████| 6623/6623 [30:48<00:00,  3.58batch/s]\n",
      "Epoch 32: 100%|██████████| 14985/14985 [17:43<00:00, 14.09batch/s]\n"
     ]
    },
    {
     "name": "stdout",
     "output_type": "stream",
     "text": [
      "starting epoch 33\n"
     ]
    },
    {
     "name": "stderr",
     "output_type": "stream",
     "text": [
      "100%|██████████| 62/62 [00:34<00:00,  1.78class/s]\n"
     ]
    },
    {
     "name": "stdout",
     "output_type": "stream",
     "text": [
      "samples_per_class 3000\n"
     ]
    },
    {
     "name": "stderr",
     "output_type": "stream",
     "text": [
      "Epoch 33: 100%|██████████| 6623/6623 [30:47<00:00,  3.58batch/s]\n",
      "Epoch 33: 100%|██████████| 14985/14985 [17:47<00:00, 14.04batch/s]\n"
     ]
    },
    {
     "name": "stdout",
     "output_type": "stream",
     "text": [
      "starting epoch 34\n"
     ]
    },
    {
     "name": "stderr",
     "output_type": "stream",
     "text": [
      "100%|██████████| 62/62 [00:34<00:00,  1.80class/s]\n"
     ]
    },
    {
     "name": "stdout",
     "output_type": "stream",
     "text": [
      "samples_per_class 3000\n"
     ]
    },
    {
     "name": "stderr",
     "output_type": "stream",
     "text": [
      "Epoch 34: 100%|██████████| 6623/6623 [30:47<00:00,  3.58batch/s]\n",
      "Epoch 34: 100%|██████████| 14985/14985 [17:45<00:00, 14.07batch/s]\n"
     ]
    },
    {
     "name": "stdout",
     "output_type": "stream",
     "text": [
      "starting epoch 35\n"
     ]
    },
    {
     "name": "stderr",
     "output_type": "stream",
     "text": [
      "100%|██████████| 62/62 [00:35<00:00,  1.76class/s]\n"
     ]
    },
    {
     "name": "stdout",
     "output_type": "stream",
     "text": [
      "samples_per_class 3000\n"
     ]
    },
    {
     "name": "stderr",
     "output_type": "stream",
     "text": [
      "Epoch 35: 100%|██████████| 6623/6623 [30:50<00:00,  3.58batch/s]\n",
      "Epoch 35: 100%|██████████| 14985/14985 [17:48<00:00, 14.03batch/s]\n"
     ]
    },
    {
     "name": "stdout",
     "output_type": "stream",
     "text": [
      "starting epoch 36\n"
     ]
    },
    {
     "name": "stderr",
     "output_type": "stream",
     "text": [
      "100%|██████████| 62/62 [00:34<00:00,  1.79class/s]\n"
     ]
    },
    {
     "name": "stdout",
     "output_type": "stream",
     "text": [
      "samples_per_class 3000\n"
     ]
    },
    {
     "name": "stderr",
     "output_type": "stream",
     "text": [
      "Epoch 36: 100%|██████████| 6623/6623 [30:48<00:00,  3.58batch/s]\n",
      "Epoch 36: 100%|██████████| 14985/14985 [17:45<00:00, 14.06batch/s]\n"
     ]
    },
    {
     "name": "stdout",
     "output_type": "stream",
     "text": [
      "starting epoch 37\n"
     ]
    },
    {
     "name": "stderr",
     "output_type": "stream",
     "text": [
      "100%|██████████| 62/62 [00:35<00:00,  1.75class/s]\n"
     ]
    },
    {
     "name": "stdout",
     "output_type": "stream",
     "text": [
      "samples_per_class 3000\n"
     ]
    },
    {
     "name": "stderr",
     "output_type": "stream",
     "text": [
      "Epoch 37: 100%|██████████| 6623/6623 [30:48<00:00,  3.58batch/s]\n",
      "Epoch 37: 100%|██████████| 14985/14985 [17:47<00:00, 14.04batch/s]\n"
     ]
    },
    {
     "name": "stdout",
     "output_type": "stream",
     "text": [
      "starting epoch 38\n"
     ]
    },
    {
     "name": "stderr",
     "output_type": "stream",
     "text": [
      "100%|██████████| 62/62 [00:35<00:00,  1.76class/s]\n"
     ]
    },
    {
     "name": "stdout",
     "output_type": "stream",
     "text": [
      "samples_per_class 3000\n"
     ]
    },
    {
     "name": "stderr",
     "output_type": "stream",
     "text": [
      "Epoch 38: 100%|██████████| 6623/6623 [30:47<00:00,  3.59batch/s]\n",
      "Epoch 38: 100%|██████████| 14985/14985 [17:45<00:00, 14.07batch/s]\n"
     ]
    },
    {
     "name": "stdout",
     "output_type": "stream",
     "text": [
      "starting epoch 39\n"
     ]
    },
    {
     "name": "stderr",
     "output_type": "stream",
     "text": [
      "100%|██████████| 62/62 [00:35<00:00,  1.74class/s]\n"
     ]
    },
    {
     "name": "stdout",
     "output_type": "stream",
     "text": [
      "samples_per_class 3000\n"
     ]
    },
    {
     "name": "stderr",
     "output_type": "stream",
     "text": [
      "Epoch 39: 100%|██████████| 6623/6623 [30:46<00:00,  3.59batch/s]\n",
      "Epoch 39: 100%|██████████| 14985/14985 [17:49<00:00, 14.01batch/s]\n"
     ]
    },
    {
     "name": "stdout",
     "output_type": "stream",
     "text": [
      "starting epoch 40\n"
     ]
    },
    {
     "name": "stderr",
     "output_type": "stream",
     "text": [
      "100%|██████████| 62/62 [00:36<00:00,  1.70class/s]\n"
     ]
    },
    {
     "name": "stdout",
     "output_type": "stream",
     "text": [
      "samples_per_class 3000\n"
     ]
    },
    {
     "name": "stderr",
     "output_type": "stream",
     "text": [
      "Epoch 40: 100%|██████████| 6623/6623 [30:44<00:00,  3.59batch/s]\n",
      "Epoch 40: 100%|██████████| 14985/14985 [17:47<00:00, 14.04batch/s]\n"
     ]
    },
    {
     "name": "stdout",
     "output_type": "stream",
     "text": [
      "starting epoch 41\n"
     ]
    },
    {
     "name": "stderr",
     "output_type": "stream",
     "text": [
      "100%|██████████| 62/62 [00:36<00:00,  1.71class/s]\n"
     ]
    },
    {
     "name": "stdout",
     "output_type": "stream",
     "text": [
      "samples_per_class 3000\n"
     ]
    },
    {
     "name": "stderr",
     "output_type": "stream",
     "text": [
      "Epoch 41: 100%|██████████| 6623/6623 [30:43<00:00,  3.59batch/s]\n",
      "Epoch 41: 100%|██████████| 14985/14985 [17:42<00:00, 14.10batch/s]\n"
     ]
    },
    {
     "name": "stdout",
     "output_type": "stream",
     "text": [
      "starting epoch 42\n"
     ]
    },
    {
     "name": "stderr",
     "output_type": "stream",
     "text": [
      "100%|██████████| 62/62 [00:37<00:00,  1.65class/s]\n"
     ]
    },
    {
     "name": "stdout",
     "output_type": "stream",
     "text": [
      "samples_per_class 3000\n"
     ]
    },
    {
     "name": "stderr",
     "output_type": "stream",
     "text": [
      "Epoch 42: 100%|██████████| 6623/6623 [30:42<00:00,  3.59batch/s]\n",
      "Epoch 42: 100%|██████████| 14985/14985 [17:47<00:00, 14.03batch/s]\n"
     ]
    },
    {
     "name": "stdout",
     "output_type": "stream",
     "text": [
      "starting epoch 43\n"
     ]
    },
    {
     "name": "stderr",
     "output_type": "stream",
     "text": [
      "100%|██████████| 62/62 [00:37<00:00,  1.64class/s]\n"
     ]
    },
    {
     "name": "stdout",
     "output_type": "stream",
     "text": [
      "samples_per_class 3000\n"
     ]
    },
    {
     "name": "stderr",
     "output_type": "stream",
     "text": [
      "Epoch 43: 100%|██████████| 6623/6623 [30:42<00:00,  3.59batch/s]\n",
      "Epoch 43: 100%|██████████| 14985/14985 [17:47<00:00, 14.04batch/s]\n"
     ]
    },
    {
     "name": "stdout",
     "output_type": "stream",
     "text": [
      "starting epoch 44\n"
     ]
    },
    {
     "name": "stderr",
     "output_type": "stream",
     "text": [
      "100%|██████████| 62/62 [00:38<00:00,  1.61class/s]\n"
     ]
    },
    {
     "name": "stdout",
     "output_type": "stream",
     "text": [
      "samples_per_class 3000\n"
     ]
    },
    {
     "name": "stderr",
     "output_type": "stream",
     "text": [
      "Epoch 44: 100%|██████████| 6623/6623 [30:40<00:00,  3.60batch/s]\n",
      "Epoch 44: 100%|██████████| 14985/14985 [17:51<00:00, 13.99batch/s]\n"
     ]
    },
    {
     "name": "stdout",
     "output_type": "stream",
     "text": [
      "starting epoch 45\n"
     ]
    },
    {
     "name": "stderr",
     "output_type": "stream",
     "text": [
      "100%|██████████| 62/62 [00:38<00:00,  1.60class/s]\n"
     ]
    },
    {
     "name": "stdout",
     "output_type": "stream",
     "text": [
      "samples_per_class 3000\n"
     ]
    },
    {
     "name": "stderr",
     "output_type": "stream",
     "text": [
      "Epoch 45: 100%|██████████| 6623/6623 [30:45<00:00,  3.59batch/s]\n",
      "Epoch 45: 100%|██████████| 14985/14985 [17:53<00:00, 13.96batch/s]\n"
     ]
    },
    {
     "name": "stdout",
     "output_type": "stream",
     "text": [
      "starting epoch 46\n"
     ]
    },
    {
     "name": "stderr",
     "output_type": "stream",
     "text": [
      "100%|██████████| 62/62 [00:39<00:00,  1.58class/s]\n"
     ]
    },
    {
     "name": "stdout",
     "output_type": "stream",
     "text": [
      "samples_per_class 3000\n"
     ]
    },
    {
     "name": "stderr",
     "output_type": "stream",
     "text": [
      "Epoch 46: 100%|██████████| 6623/6623 [30:42<00:00,  3.59batch/s]\n",
      "Epoch 46: 100%|██████████| 14985/14985 [17:49<00:00, 14.01batch/s]\n"
     ]
    },
    {
     "name": "stdout",
     "output_type": "stream",
     "text": [
      "starting epoch 47\n"
     ]
    },
    {
     "name": "stderr",
     "output_type": "stream",
     "text": [
      "100%|██████████| 62/62 [00:39<00:00,  1.56class/s]\n"
     ]
    },
    {
     "name": "stdout",
     "output_type": "stream",
     "text": [
      "samples_per_class 3000\n"
     ]
    },
    {
     "name": "stderr",
     "output_type": "stream",
     "text": [
      "Epoch 47: 100%|██████████| 6623/6623 [30:42<00:00,  3.59batch/s]\n",
      "Epoch 47: 100%|██████████| 14985/14985 [17:58<00:00, 13.89batch/s]\n"
     ]
    },
    {
     "name": "stdout",
     "output_type": "stream",
     "text": [
      "starting epoch 48\n"
     ]
    },
    {
     "name": "stderr",
     "output_type": "stream",
     "text": [
      "100%|██████████| 62/62 [00:39<00:00,  1.58class/s]\n"
     ]
    },
    {
     "name": "stdout",
     "output_type": "stream",
     "text": [
      "samples_per_class 3000\n"
     ]
    },
    {
     "name": "stderr",
     "output_type": "stream",
     "text": [
      "Epoch 48: 100%|██████████| 6623/6623 [30:43<00:00,  3.59batch/s]\n",
      "Epoch 48: 100%|██████████| 14985/14985 [17:56<00:00, 13.92batch/s]\n"
     ]
    },
    {
     "name": "stdout",
     "output_type": "stream",
     "text": [
      "starting epoch 49\n"
     ]
    },
    {
     "name": "stderr",
     "output_type": "stream",
     "text": [
      "100%|██████████| 62/62 [00:39<00:00,  1.56class/s]\n"
     ]
    },
    {
     "name": "stdout",
     "output_type": "stream",
     "text": [
      "samples_per_class 3000\n"
     ]
    },
    {
     "name": "stderr",
     "output_type": "stream",
     "text": [
      "Epoch 49: 100%|██████████| 6623/6623 [30:43<00:00,  3.59batch/s]\n",
      "Epoch 49: 100%|██████████| 14985/14985 [17:59<00:00, 13.88batch/s]\n"
     ]
    },
    {
     "name": "stdout",
     "output_type": "stream",
     "text": [
      "starting epoch 50\n"
     ]
    },
    {
     "name": "stderr",
     "output_type": "stream",
     "text": [
      "100%|██████████| 62/62 [00:39<00:00,  1.56class/s]\n"
     ]
    },
    {
     "name": "stdout",
     "output_type": "stream",
     "text": [
      "samples_per_class 3000\n"
     ]
    },
    {
     "name": "stderr",
     "output_type": "stream",
     "text": [
      "Epoch 50: 100%|██████████| 6623/6623 [30:42<00:00,  3.59batch/s]\n",
      "Epoch 50: 100%|██████████| 14985/14985 [17:58<00:00, 13.89batch/s]\n"
     ]
    },
    {
     "name": "stdout",
     "output_type": "stream",
     "text": [
      "starting epoch 51\n"
     ]
    },
    {
     "name": "stderr",
     "output_type": "stream",
     "text": [
      "100%|██████████| 62/62 [00:39<00:00,  1.55class/s]\n"
     ]
    },
    {
     "name": "stdout",
     "output_type": "stream",
     "text": [
      "samples_per_class 3000\n"
     ]
    },
    {
     "name": "stderr",
     "output_type": "stream",
     "text": [
      "Epoch 51: 100%|██████████| 6623/6623 [30:44<00:00,  3.59batch/s]\n",
      "Epoch 51: 100%|██████████| 14985/14985 [18:00<00:00, 13.87batch/s]\n"
     ]
    },
    {
     "name": "stdout",
     "output_type": "stream",
     "text": [
      "starting epoch 52\n"
     ]
    },
    {
     "name": "stderr",
     "output_type": "stream",
     "text": [
      "100%|██████████| 62/62 [00:40<00:00,  1.52class/s]\n"
     ]
    },
    {
     "name": "stdout",
     "output_type": "stream",
     "text": [
      "samples_per_class 3000\n"
     ]
    },
    {
     "name": "stderr",
     "output_type": "stream",
     "text": [
      "Epoch 52: 100%|██████████| 6623/6623 [30:42<00:00,  3.60batch/s]\n",
      "Epoch 52: 100%|██████████| 14985/14985 [18:00<00:00, 13.87batch/s]\n"
     ]
    },
    {
     "name": "stdout",
     "output_type": "stream",
     "text": [
      "starting epoch 53\n"
     ]
    },
    {
     "name": "stderr",
     "output_type": "stream",
     "text": [
      "100%|██████████| 62/62 [00:40<00:00,  1.52class/s]\n"
     ]
    },
    {
     "name": "stdout",
     "output_type": "stream",
     "text": [
      "samples_per_class 3000\n"
     ]
    },
    {
     "name": "stderr",
     "output_type": "stream",
     "text": [
      "Epoch 53: 100%|██████████| 6623/6623 [30:45<00:00,  3.59batch/s]\n",
      "Epoch 53: 100%|██████████| 14985/14985 [18:07<00:00, 13.78batch/s]\n"
     ]
    },
    {
     "name": "stdout",
     "output_type": "stream",
     "text": [
      "starting epoch 54\n"
     ]
    },
    {
     "name": "stderr",
     "output_type": "stream",
     "text": [
      "100%|██████████| 62/62 [00:40<00:00,  1.53class/s]\n"
     ]
    },
    {
     "name": "stdout",
     "output_type": "stream",
     "text": [
      "samples_per_class 3000\n"
     ]
    },
    {
     "name": "stderr",
     "output_type": "stream",
     "text": [
      "Epoch 54: 100%|██████████| 6623/6623 [30:46<00:00,  3.59batch/s]\n",
      "Epoch 54: 100%|██████████| 14985/14985 [18:07<00:00, 13.78batch/s] \n"
     ]
    },
    {
     "name": "stdout",
     "output_type": "stream",
     "text": [
      "starting epoch 55\n"
     ]
    },
    {
     "name": "stderr",
     "output_type": "stream",
     "text": [
      "100%|██████████| 62/62 [00:41<00:00,  1.48class/s]\n"
     ]
    },
    {
     "name": "stdout",
     "output_type": "stream",
     "text": [
      "samples_per_class 3000\n"
     ]
    },
    {
     "name": "stderr",
     "output_type": "stream",
     "text": [
      "Epoch 55: 100%|██████████| 6623/6623 [30:46<00:00,  3.59batch/s]\n",
      "Epoch 55: 100%|██████████| 14985/14985 [18:12<00:00, 13.72batch/s]\n"
     ]
    },
    {
     "name": "stdout",
     "output_type": "stream",
     "text": [
      "starting epoch 56\n"
     ]
    },
    {
     "name": "stderr",
     "output_type": "stream",
     "text": [
      "100%|██████████| 62/62 [00:41<00:00,  1.51class/s]\n"
     ]
    },
    {
     "name": "stdout",
     "output_type": "stream",
     "text": [
      "samples_per_class 3000\n"
     ]
    },
    {
     "name": "stderr",
     "output_type": "stream",
     "text": [
      "Epoch 56: 100%|██████████| 6623/6623 [30:46<00:00,  3.59batch/s]\n",
      "Epoch 56: 100%|██████████| 14985/14985 [18:11<00:00, 13.72batch/s]\n"
     ]
    },
    {
     "name": "stdout",
     "output_type": "stream",
     "text": [
      "starting epoch 57\n"
     ]
    },
    {
     "name": "stderr",
     "output_type": "stream",
     "text": [
      "100%|██████████| 62/62 [00:41<00:00,  1.48class/s]\n"
     ]
    },
    {
     "name": "stdout",
     "output_type": "stream",
     "text": [
      "samples_per_class 3000\n"
     ]
    },
    {
     "name": "stderr",
     "output_type": "stream",
     "text": [
      "Epoch 57: 100%|██████████| 6623/6623 [30:48<00:00,  3.58batch/s]\n",
      "Epoch 57: 100%|██████████| 14985/14985 [18:14<00:00, 13.69batch/s]\n"
     ]
    },
    {
     "name": "stdout",
     "output_type": "stream",
     "text": [
      "starting epoch 58\n"
     ]
    },
    {
     "name": "stderr",
     "output_type": "stream",
     "text": [
      "100%|██████████| 62/62 [00:44<00:00,  1.39class/s]\n"
     ]
    },
    {
     "name": "stdout",
     "output_type": "stream",
     "text": [
      "samples_per_class 3000\n"
     ]
    },
    {
     "name": "stderr",
     "output_type": "stream",
     "text": [
      "Epoch 58: 100%|██████████| 6623/6623 [30:47<00:00,  3.58batch/s]\n",
      "Epoch 58: 100%|██████████| 14985/14985 [18:17<00:00, 13.65batch/s]\n"
     ]
    },
    {
     "name": "stdout",
     "output_type": "stream",
     "text": [
      "starting epoch 59\n"
     ]
    },
    {
     "name": "stderr",
     "output_type": "stream",
     "text": [
      "100%|██████████| 62/62 [00:45<00:00,  1.37class/s]\n"
     ]
    },
    {
     "name": "stdout",
     "output_type": "stream",
     "text": [
      "samples_per_class 3000\n"
     ]
    },
    {
     "name": "stderr",
     "output_type": "stream",
     "text": [
      "Epoch 59: 100%|██████████| 6623/6623 [30:58<00:00,  3.56batch/s]\n",
      "Epoch 59: 100%|██████████| 14985/14985 [18:07<00:00, 13.78batch/s]\n"
     ]
    },
    {
     "name": "stdout",
     "output_type": "stream",
     "text": [
      "starting epoch 60\n"
     ]
    },
    {
     "name": "stderr",
     "output_type": "stream",
     "text": [
      "100%|██████████| 62/62 [00:45<00:00,  1.37class/s]\n"
     ]
    },
    {
     "name": "stdout",
     "output_type": "stream",
     "text": [
      "samples_per_class 3000\n"
     ]
    },
    {
     "name": "stderr",
     "output_type": "stream",
     "text": [
      "Epoch 60: 100%|██████████| 6623/6623 [31:00<00:00,  3.56batch/s]\n",
      "Epoch 60: 100%|██████████| 14985/14985 [18:19<00:00, 13.63batch/s]\n"
     ]
    },
    {
     "name": "stdout",
     "output_type": "stream",
     "text": [
      "starting epoch 61\n"
     ]
    },
    {
     "name": "stderr",
     "output_type": "stream",
     "text": [
      "100%|██████████| 62/62 [00:45<00:00,  1.35class/s]\n"
     ]
    },
    {
     "name": "stdout",
     "output_type": "stream",
     "text": [
      "samples_per_class 3000\n"
     ]
    },
    {
     "name": "stderr",
     "output_type": "stream",
     "text": [
      "Epoch 61: 100%|██████████| 6623/6623 [31:00<00:00,  3.56batch/s]\n",
      "Epoch 61: 100%|██████████| 14985/14985 [18:24<00:00, 13.57batch/s]\n"
     ]
    },
    {
     "name": "stdout",
     "output_type": "stream",
     "text": [
      "starting epoch 62\n"
     ]
    },
    {
     "name": "stderr",
     "output_type": "stream",
     "text": [
      "100%|██████████| 62/62 [00:45<00:00,  1.36class/s]\n"
     ]
    },
    {
     "name": "stdout",
     "output_type": "stream",
     "text": [
      "samples_per_class 3000\n"
     ]
    },
    {
     "name": "stderr",
     "output_type": "stream",
     "text": [
      "Epoch 62: 100%|██████████| 6623/6623 [31:04<00:00,  3.55batch/s]\n",
      "Epoch 62: 100%|██████████| 14985/14985 [18:31<00:00, 13.48batch/s]\n"
     ]
    },
    {
     "name": "stdout",
     "output_type": "stream",
     "text": [
      "starting epoch 63\n"
     ]
    },
    {
     "name": "stderr",
     "output_type": "stream",
     "text": [
      "100%|██████████| 62/62 [00:46<00:00,  1.33class/s]\n"
     ]
    },
    {
     "name": "stdout",
     "output_type": "stream",
     "text": [
      "samples_per_class 3000\n"
     ]
    },
    {
     "name": "stderr",
     "output_type": "stream",
     "text": [
      "Epoch 63: 100%|██████████| 6623/6623 [31:02<00:00,  3.56batch/s]\n",
      "Epoch 63: 100%|██████████| 14985/14985 [18:27<00:00, 13.53batch/s]\n"
     ]
    },
    {
     "name": "stdout",
     "output_type": "stream",
     "text": [
      "starting epoch 64\n"
     ]
    },
    {
     "name": "stderr",
     "output_type": "stream",
     "text": [
      "100%|██████████| 62/62 [00:45<00:00,  1.35class/s]\n"
     ]
    },
    {
     "name": "stdout",
     "output_type": "stream",
     "text": [
      "samples_per_class 3000\n"
     ]
    },
    {
     "name": "stderr",
     "output_type": "stream",
     "text": [
      "Epoch 64: 100%|██████████| 6623/6623 [31:02<00:00,  3.56batch/s]\n",
      "Epoch 64: 100%|██████████| 14985/14985 [18:27<00:00, 13.53batch/s]\n"
     ]
    },
    {
     "name": "stdout",
     "output_type": "stream",
     "text": [
      "starting epoch 65\n"
     ]
    },
    {
     "name": "stderr",
     "output_type": "stream",
     "text": [
      "100%|██████████| 62/62 [00:46<00:00,  1.32class/s]\n"
     ]
    },
    {
     "name": "stdout",
     "output_type": "stream",
     "text": [
      "samples_per_class 3000\n"
     ]
    },
    {
     "name": "stderr",
     "output_type": "stream",
     "text": [
      "Epoch 65: 100%|██████████| 6623/6623 [30:56<00:00,  3.57batch/s]\n",
      "Epoch 65: 100%|██████████| 14985/14985 [18:29<00:00, 13.51batch/s]\n"
     ]
    },
    {
     "name": "stdout",
     "output_type": "stream",
     "text": [
      "starting epoch 66\n"
     ]
    },
    {
     "name": "stderr",
     "output_type": "stream",
     "text": [
      "100%|██████████| 62/62 [00:46<00:00,  1.33class/s]\n"
     ]
    },
    {
     "name": "stdout",
     "output_type": "stream",
     "text": [
      "samples_per_class 3000\n"
     ]
    },
    {
     "name": "stderr",
     "output_type": "stream",
     "text": [
      "Epoch 66: 100%|██████████| 6623/6623 [30:55<00:00,  3.57batch/s]\n",
      "Epoch 66: 100%|██████████| 14985/14985 [18:27<00:00, 13.53batch/s]\n"
     ]
    },
    {
     "name": "stdout",
     "output_type": "stream",
     "text": [
      "starting epoch 67\n"
     ]
    },
    {
     "name": "stderr",
     "output_type": "stream",
     "text": [
      "100%|██████████| 62/62 [00:46<00:00,  1.32class/s]\n"
     ]
    },
    {
     "name": "stdout",
     "output_type": "stream",
     "text": [
      "samples_per_class 3000\n"
     ]
    },
    {
     "name": "stderr",
     "output_type": "stream",
     "text": [
      "Epoch 67: 100%|██████████| 6623/6623 [30:55<00:00,  3.57batch/s]\n",
      "Epoch 67: 100%|██████████| 14985/14985 [18:30<00:00, 13.49batch/s]\n"
     ]
    },
    {
     "name": "stdout",
     "output_type": "stream",
     "text": [
      "starting epoch 68\n"
     ]
    },
    {
     "name": "stderr",
     "output_type": "stream",
     "text": [
      "100%|██████████| 62/62 [00:46<00:00,  1.33class/s]\n"
     ]
    },
    {
     "name": "stdout",
     "output_type": "stream",
     "text": [
      "samples_per_class 3000\n"
     ]
    },
    {
     "name": "stderr",
     "output_type": "stream",
     "text": [
      "Epoch 68: 100%|██████████| 6623/6623 [30:55<00:00,  3.57batch/s]\n",
      "Epoch 68: 100%|██████████| 14985/14985 [18:32<00:00, 13.46batch/s]\n"
     ]
    },
    {
     "name": "stdout",
     "output_type": "stream",
     "text": [
      "starting epoch 69\n"
     ]
    },
    {
     "name": "stderr",
     "output_type": "stream",
     "text": [
      "100%|██████████| 62/62 [00:47<00:00,  1.31class/s]\n"
     ]
    },
    {
     "name": "stdout",
     "output_type": "stream",
     "text": [
      "samples_per_class 3000\n"
     ]
    },
    {
     "name": "stderr",
     "output_type": "stream",
     "text": [
      "Epoch 69: 100%|██████████| 6623/6623 [30:53<00:00,  3.57batch/s]\n",
      "Epoch 69: 100%|██████████| 14985/14985 [18:25<00:00, 13.55batch/s]\n"
     ]
    },
    {
     "name": "stdout",
     "output_type": "stream",
     "text": [
      "starting epoch 70\n"
     ]
    },
    {
     "name": "stderr",
     "output_type": "stream",
     "text": [
      "100%|██████████| 62/62 [00:47<00:00,  1.30class/s]\n"
     ]
    },
    {
     "name": "stdout",
     "output_type": "stream",
     "text": [
      "samples_per_class 3000\n"
     ]
    },
    {
     "name": "stderr",
     "output_type": "stream",
     "text": [
      "Epoch 70: 100%|██████████| 6623/6623 [30:55<00:00,  3.57batch/s]\n",
      "Epoch 70: 100%|██████████| 14985/14985 [18:32<00:00, 13.47batch/s]\n"
     ]
    },
    {
     "name": "stdout",
     "output_type": "stream",
     "text": [
      "starting epoch 71\n"
     ]
    },
    {
     "name": "stderr",
     "output_type": "stream",
     "text": [
      "100%|██████████| 62/62 [00:47<00:00,  1.31class/s]\n"
     ]
    },
    {
     "name": "stdout",
     "output_type": "stream",
     "text": [
      "samples_per_class 3000\n"
     ]
    },
    {
     "name": "stderr",
     "output_type": "stream",
     "text": [
      "Epoch 71: 100%|██████████| 6623/6623 [30:54<00:00,  3.57batch/s]\n",
      "Epoch 71: 100%|██████████| 14985/14985 [18:31<00:00, 13.48batch/s]\n"
     ]
    },
    {
     "name": "stdout",
     "output_type": "stream",
     "text": [
      "starting epoch 72\n"
     ]
    },
    {
     "name": "stderr",
     "output_type": "stream",
     "text": [
      "100%|██████████| 62/62 [00:47<00:00,  1.29class/s]\n"
     ]
    },
    {
     "name": "stdout",
     "output_type": "stream",
     "text": [
      "samples_per_class 3000\n"
     ]
    },
    {
     "name": "stderr",
     "output_type": "stream",
     "text": [
      "Epoch 72: 100%|██████████| 6623/6623 [30:53<00:00,  3.57batch/s]\n",
      "Epoch 72: 100%|██████████| 14985/14985 [18:27<00:00, 13.53batch/s]\n"
     ]
    },
    {
     "name": "stdout",
     "output_type": "stream",
     "text": [
      "starting epoch 73\n"
     ]
    },
    {
     "name": "stderr",
     "output_type": "stream",
     "text": [
      "100%|██████████| 62/62 [00:48<00:00,  1.29class/s]\n"
     ]
    },
    {
     "name": "stdout",
     "output_type": "stream",
     "text": [
      "samples_per_class 3000\n"
     ]
    },
    {
     "name": "stderr",
     "output_type": "stream",
     "text": [
      "Epoch 73: 100%|██████████| 6623/6623 [30:52<00:00,  3.58batch/s]\n",
      "Epoch 73: 100%|██████████| 14985/14985 [18:29<00:00, 13.51batch/s]\n"
     ]
    },
    {
     "name": "stdout",
     "output_type": "stream",
     "text": [
      "starting epoch 74\n"
     ]
    },
    {
     "name": "stderr",
     "output_type": "stream",
     "text": [
      "100%|██████████| 62/62 [00:47<00:00,  1.29class/s]\n"
     ]
    },
    {
     "name": "stdout",
     "output_type": "stream",
     "text": [
      "samples_per_class 3000\n"
     ]
    },
    {
     "name": "stderr",
     "output_type": "stream",
     "text": [
      "Epoch 74: 100%|██████████| 6623/6623 [30:53<00:00,  3.57batch/s]\n",
      "Epoch 74: 100%|██████████| 14985/14985 [18:33<00:00, 13.46batch/s]\n"
     ]
    },
    {
     "name": "stdout",
     "output_type": "stream",
     "text": [
      "starting epoch 75\n"
     ]
    },
    {
     "name": "stderr",
     "output_type": "stream",
     "text": [
      "100%|██████████| 62/62 [00:49<00:00,  1.26class/s]\n"
     ]
    },
    {
     "name": "stdout",
     "output_type": "stream",
     "text": [
      "samples_per_class 3000\n"
     ]
    },
    {
     "name": "stderr",
     "output_type": "stream",
     "text": [
      "Epoch 75: 100%|██████████| 6623/6623 [30:52<00:00,  3.58batch/s]\n",
      "Epoch 75: 100%|██████████| 14985/14985 [18:28<00:00, 13.52batch/s]\n"
     ]
    },
    {
     "name": "stdout",
     "output_type": "stream",
     "text": [
      "starting epoch 76\n"
     ]
    },
    {
     "name": "stderr",
     "output_type": "stream",
     "text": [
      "100%|██████████| 62/62 [00:49<00:00,  1.25class/s]\n"
     ]
    },
    {
     "name": "stdout",
     "output_type": "stream",
     "text": [
      "samples_per_class 3000\n"
     ]
    },
    {
     "name": "stderr",
     "output_type": "stream",
     "text": [
      "Epoch 76: 100%|██████████| 6623/6623 [30:54<00:00,  3.57batch/s]\n",
      "Epoch 76: 100%|██████████| 14985/14985 [18:35<00:00, 13.43batch/s]\n"
     ]
    },
    {
     "name": "stdout",
     "output_type": "stream",
     "text": [
      "starting epoch 77\n"
     ]
    },
    {
     "name": "stderr",
     "output_type": "stream",
     "text": [
      "100%|██████████| 62/62 [00:48<00:00,  1.27class/s]\n"
     ]
    },
    {
     "name": "stdout",
     "output_type": "stream",
     "text": [
      "samples_per_class 3000\n"
     ]
    },
    {
     "name": "stderr",
     "output_type": "stream",
     "text": [
      "Epoch 77: 100%|██████████| 6623/6623 [30:55<00:00,  3.57batch/s]\n",
      "Epoch 77: 100%|██████████| 14985/14985 [18:34<00:00, 13.45batch/s]\n"
     ]
    },
    {
     "name": "stdout",
     "output_type": "stream",
     "text": [
      "starting epoch 78\n"
     ]
    },
    {
     "name": "stderr",
     "output_type": "stream",
     "text": [
      "100%|██████████| 62/62 [00:49<00:00,  1.26class/s]\n"
     ]
    },
    {
     "name": "stdout",
     "output_type": "stream",
     "text": [
      "samples_per_class 3000\n"
     ]
    },
    {
     "name": "stderr",
     "output_type": "stream",
     "text": [
      "Epoch 78: 100%|██████████| 6623/6623 [30:55<00:00,  3.57batch/s]\n",
      "Epoch 78: 100%|██████████| 14985/14985 [18:30<00:00, 13.50batch/s]\n"
     ]
    },
    {
     "name": "stdout",
     "output_type": "stream",
     "text": [
      "starting epoch 79\n"
     ]
    },
    {
     "name": "stderr",
     "output_type": "stream",
     "text": [
      "100%|██████████| 62/62 [00:50<00:00,  1.24class/s]\n"
     ]
    },
    {
     "name": "stdout",
     "output_type": "stream",
     "text": [
      "samples_per_class 3000\n"
     ]
    },
    {
     "name": "stderr",
     "output_type": "stream",
     "text": [
      "Epoch 79: 100%|██████████| 6623/6623 [30:57<00:00,  3.57batch/s]\n",
      "Epoch 79: 100%|██████████| 14985/14985 [18:35<00:00, 13.43batch/s]\n"
     ]
    },
    {
     "name": "stdout",
     "output_type": "stream",
     "text": [
      "starting epoch 80\n"
     ]
    },
    {
     "name": "stderr",
     "output_type": "stream",
     "text": [
      "100%|██████████| 62/62 [00:49<00:00,  1.26class/s]\n"
     ]
    },
    {
     "name": "stdout",
     "output_type": "stream",
     "text": [
      "samples_per_class 3000\n"
     ]
    },
    {
     "name": "stderr",
     "output_type": "stream",
     "text": [
      "Epoch 80: 100%|██████████| 6623/6623 [30:59<00:00,  3.56batch/s]\n",
      "Epoch 80: 100%|██████████| 14985/14985 [18:36<00:00, 13.42batch/s]\n"
     ]
    },
    {
     "name": "stdout",
     "output_type": "stream",
     "text": [
      "starting epoch 81\n"
     ]
    },
    {
     "name": "stderr",
     "output_type": "stream",
     "text": [
      "100%|██████████| 62/62 [00:50<00:00,  1.24class/s]\n"
     ]
    },
    {
     "name": "stdout",
     "output_type": "stream",
     "text": [
      "samples_per_class 3000\n"
     ]
    },
    {
     "name": "stderr",
     "output_type": "stream",
     "text": [
      "Epoch 81: 100%|██████████| 6623/6623 [37:05<00:00,  2.98batch/s]\n",
      "Epoch 81: 100%|██████████| 14985/14985 [1:22:12<00:00,  3.04batch/s]     \n"
     ]
    },
    {
     "name": "stdout",
     "output_type": "stream",
     "text": [
      "starting epoch 82\n"
     ]
    },
    {
     "name": "stderr",
     "output_type": "stream",
     "text": [
      "100%|██████████| 62/62 [01:02<00:00,  1.01s/class]\n"
     ]
    },
    {
     "name": "stdout",
     "output_type": "stream",
     "text": [
      "samples_per_class 3000\n"
     ]
    },
    {
     "name": "stderr",
     "output_type": "stream",
     "text": [
      "Epoch 82: 100%|██████████| 6623/6623 [31:08<00:00,  3.54batch/s] \n",
      "Epoch 82: 100%|██████████| 14985/14985 [18:37<00:00, 13.40batch/s]\n"
     ]
    },
    {
     "name": "stdout",
     "output_type": "stream",
     "text": [
      "starting epoch 83\n"
     ]
    },
    {
     "name": "stderr",
     "output_type": "stream",
     "text": [
      "100%|██████████| 62/62 [00:51<00:00,  1.20class/s]\n"
     ]
    },
    {
     "name": "stdout",
     "output_type": "stream",
     "text": [
      "samples_per_class 3000\n"
     ]
    },
    {
     "name": "stderr",
     "output_type": "stream",
     "text": [
      "Epoch 83: 100%|██████████| 6623/6623 [31:00<00:00,  3.56batch/s]\n",
      "Epoch 83: 100%|██████████| 14985/14985 [18:34<00:00, 13.45batch/s]\n"
     ]
    },
    {
     "name": "stdout",
     "output_type": "stream",
     "text": [
      "starting epoch 84\n"
     ]
    },
    {
     "name": "stderr",
     "output_type": "stream",
     "text": [
      "100%|██████████| 62/62 [00:51<00:00,  1.21class/s]\n"
     ]
    },
    {
     "name": "stdout",
     "output_type": "stream",
     "text": [
      "samples_per_class 3000\n"
     ]
    },
    {
     "name": "stderr",
     "output_type": "stream",
     "text": [
      "Epoch 84: 100%|██████████| 6623/6623 [30:58<00:00,  3.56batch/s]\n",
      "Epoch 84: 100%|██████████| 14985/14985 [18:30<00:00, 13.49batch/s]\n"
     ]
    },
    {
     "name": "stdout",
     "output_type": "stream",
     "text": [
      "starting epoch 85\n"
     ]
    },
    {
     "name": "stderr",
     "output_type": "stream",
     "text": [
      "100%|██████████| 62/62 [00:51<00:00,  1.21class/s]\n"
     ]
    },
    {
     "name": "stdout",
     "output_type": "stream",
     "text": [
      "samples_per_class 3000\n"
     ]
    },
    {
     "name": "stderr",
     "output_type": "stream",
     "text": [
      "Epoch 85: 100%|██████████| 6623/6623 [30:57<00:00,  3.56batch/s]\n",
      "Epoch 85: 100%|██████████| 14985/14985 [18:41<00:00, 13.36batch/s]\n"
     ]
    },
    {
     "name": "stdout",
     "output_type": "stream",
     "text": [
      "starting epoch 86\n"
     ]
    },
    {
     "name": "stderr",
     "output_type": "stream",
     "text": [
      "100%|██████████| 62/62 [00:51<00:00,  1.20class/s]\n"
     ]
    },
    {
     "name": "stdout",
     "output_type": "stream",
     "text": [
      "samples_per_class 3000\n"
     ]
    },
    {
     "name": "stderr",
     "output_type": "stream",
     "text": [
      "Epoch 86: 100%|██████████| 6623/6623 [31:00<00:00,  3.56batch/s]\n",
      "Epoch 86: 100%|██████████| 14985/14985 [18:38<00:00, 13.39batch/s]\n"
     ]
    },
    {
     "name": "stdout",
     "output_type": "stream",
     "text": [
      "starting epoch 87\n"
     ]
    },
    {
     "name": "stderr",
     "output_type": "stream",
     "text": [
      "100%|██████████| 62/62 [00:51<00:00,  1.21class/s]\n"
     ]
    },
    {
     "name": "stdout",
     "output_type": "stream",
     "text": [
      "samples_per_class 3000\n"
     ]
    },
    {
     "name": "stderr",
     "output_type": "stream",
     "text": [
      "Epoch 87: 100%|██████████| 6623/6623 [31:16<00:00,  3.53batch/s]\n",
      "Epoch 87: 100%|██████████| 14985/14985 [18:49<00:00, 13.26batch/s]\n"
     ]
    },
    {
     "name": "stdout",
     "output_type": "stream",
     "text": [
      "starting epoch 88\n"
     ]
    },
    {
     "name": "stderr",
     "output_type": "stream",
     "text": [
      "100%|██████████| 62/62 [00:55<00:00,  1.12class/s]\n"
     ]
    },
    {
     "name": "stdout",
     "output_type": "stream",
     "text": [
      "samples_per_class 3000\n"
     ]
    },
    {
     "name": "stderr",
     "output_type": "stream",
     "text": [
      "Epoch 88: 100%|██████████| 6623/6623 [31:03<00:00,  3.55batch/s]\n",
      "Epoch 88: 100%|██████████| 14985/14985 [18:44<00:00, 13.33batch/s]\n"
     ]
    },
    {
     "name": "stdout",
     "output_type": "stream",
     "text": [
      "starting epoch 89\n"
     ]
    },
    {
     "name": "stderr",
     "output_type": "stream",
     "text": [
      "100%|██████████| 62/62 [00:50<00:00,  1.22class/s]\n"
     ]
    },
    {
     "name": "stdout",
     "output_type": "stream",
     "text": [
      "samples_per_class 3000\n"
     ]
    },
    {
     "name": "stderr",
     "output_type": "stream",
     "text": [
      "Epoch 89: 100%|██████████| 6623/6623 [31:07<00:00,  3.55batch/s]\n",
      "Epoch 89: 100%|██████████| 14985/14985 [18:43<00:00, 13.34batch/s]\n"
     ]
    },
    {
     "name": "stdout",
     "output_type": "stream",
     "text": [
      "starting epoch 90\n"
     ]
    },
    {
     "name": "stderr",
     "output_type": "stream",
     "text": [
      "100%|██████████| 62/62 [00:50<00:00,  1.22class/s]\n"
     ]
    },
    {
     "name": "stdout",
     "output_type": "stream",
     "text": [
      "samples_per_class 3000\n"
     ]
    },
    {
     "name": "stderr",
     "output_type": "stream",
     "text": [
      "Epoch 90: 100%|██████████| 6623/6623 [30:59<00:00,  3.56batch/s]\n",
      "Epoch 90: 100%|██████████| 14985/14985 [18:45<00:00, 13.31batch/s]\n"
     ]
    },
    {
     "name": "stdout",
     "output_type": "stream",
     "text": [
      "starting epoch 91\n"
     ]
    },
    {
     "name": "stderr",
     "output_type": "stream",
     "text": [
      "100%|██████████| 62/62 [00:50<00:00,  1.22class/s]\n"
     ]
    },
    {
     "name": "stdout",
     "output_type": "stream",
     "text": [
      "samples_per_class 3000\n"
     ]
    },
    {
     "name": "stderr",
     "output_type": "stream",
     "text": [
      "Epoch 91: 100%|██████████| 6623/6623 [30:58<00:00,  3.56batch/s]\n",
      "Epoch 91: 100%|██████████| 14985/14985 [18:46<00:00, 13.31batch/s]\n"
     ]
    },
    {
     "name": "stdout",
     "output_type": "stream",
     "text": [
      "starting epoch 92\n"
     ]
    },
    {
     "name": "stderr",
     "output_type": "stream",
     "text": [
      "100%|██████████| 62/62 [00:52<00:00,  1.19class/s]\n"
     ]
    },
    {
     "name": "stdout",
     "output_type": "stream",
     "text": [
      "samples_per_class 3000\n"
     ]
    },
    {
     "name": "stderr",
     "output_type": "stream",
     "text": [
      "Epoch 92: 100%|██████████| 6623/6623 [31:01<00:00,  3.56batch/s]\n",
      "Epoch 92: 100%|██████████| 14985/14985 [18:40<00:00, 13.38batch/s]\n"
     ]
    },
    {
     "name": "stdout",
     "output_type": "stream",
     "text": [
      "starting epoch 93\n"
     ]
    },
    {
     "name": "stderr",
     "output_type": "stream",
     "text": [
      "100%|██████████| 62/62 [00:51<00:00,  1.21class/s]\n"
     ]
    },
    {
     "name": "stdout",
     "output_type": "stream",
     "text": [
      "samples_per_class 3000\n"
     ]
    },
    {
     "name": "stderr",
     "output_type": "stream",
     "text": [
      "Epoch 93: 100%|██████████| 6623/6623 [30:59<00:00,  3.56batch/s]\n",
      "Epoch 93: 100%|██████████| 14985/14985 [18:46<00:00, 13.31batch/s]\n"
     ]
    },
    {
     "name": "stdout",
     "output_type": "stream",
     "text": [
      "starting epoch 94\n"
     ]
    },
    {
     "name": "stderr",
     "output_type": "stream",
     "text": [
      "100%|██████████| 62/62 [00:51<00:00,  1.20class/s]\n"
     ]
    },
    {
     "name": "stdout",
     "output_type": "stream",
     "text": [
      "samples_per_class 3000\n"
     ]
    },
    {
     "name": "stderr",
     "output_type": "stream",
     "text": [
      "Epoch 94: 100%|██████████| 6623/6623 [30:57<00:00,  3.57batch/s]\n",
      "Epoch 94: 100%|██████████| 14985/14985 [18:41<00:00, 13.37batch/s]\n"
     ]
    },
    {
     "name": "stdout",
     "output_type": "stream",
     "text": [
      "starting epoch 95\n"
     ]
    },
    {
     "name": "stderr",
     "output_type": "stream",
     "text": [
      "100%|██████████| 62/62 [00:52<00:00,  1.18class/s]\n"
     ]
    },
    {
     "name": "stdout",
     "output_type": "stream",
     "text": [
      "samples_per_class 3000\n"
     ]
    },
    {
     "name": "stderr",
     "output_type": "stream",
     "text": [
      "Epoch 95: 100%|██████████| 6623/6623 [30:53<00:00,  3.57batch/s]\n",
      "Epoch 95: 100%|██████████| 14985/14985 [18:39<00:00, 13.38batch/s]\n"
     ]
    },
    {
     "name": "stdout",
     "output_type": "stream",
     "text": [
      "starting epoch 96\n"
     ]
    },
    {
     "name": "stderr",
     "output_type": "stream",
     "text": [
      "100%|██████████| 62/62 [00:51<00:00,  1.21class/s]\n"
     ]
    },
    {
     "name": "stdout",
     "output_type": "stream",
     "text": [
      "samples_per_class 3000\n"
     ]
    },
    {
     "name": "stderr",
     "output_type": "stream",
     "text": [
      "Epoch 96: 100%|██████████| 6623/6623 [30:53<00:00,  3.57batch/s]\n",
      "Epoch 96: 100%|██████████| 14985/14985 [18:42<00:00, 13.35batch/s]\n"
     ]
    },
    {
     "name": "stdout",
     "output_type": "stream",
     "text": [
      "starting epoch 97\n"
     ]
    },
    {
     "name": "stderr",
     "output_type": "stream",
     "text": [
      "100%|██████████| 62/62 [00:50<00:00,  1.22class/s]\n"
     ]
    },
    {
     "name": "stdout",
     "output_type": "stream",
     "text": [
      "samples_per_class 3000\n"
     ]
    },
    {
     "name": "stderr",
     "output_type": "stream",
     "text": [
      "Epoch 97: 100%|██████████| 6623/6623 [30:52<00:00,  3.58batch/s]\n",
      "Epoch 97: 100%|██████████| 14985/14985 [18:43<00:00, 13.33batch/s]\n"
     ]
    },
    {
     "name": "stdout",
     "output_type": "stream",
     "text": [
      "starting epoch 98\n"
     ]
    },
    {
     "name": "stderr",
     "output_type": "stream",
     "text": [
      "100%|██████████| 62/62 [00:52<00:00,  1.17class/s]\n"
     ]
    },
    {
     "name": "stdout",
     "output_type": "stream",
     "text": [
      "samples_per_class 3000\n"
     ]
    },
    {
     "name": "stderr",
     "output_type": "stream",
     "text": [
      "Epoch 98: 100%|██████████| 6623/6623 [30:50<00:00,  3.58batch/s]\n",
      "Epoch 98: 100%|██████████| 14985/14985 [18:45<00:00, 13.32batch/s]\n"
     ]
    },
    {
     "name": "stdout",
     "output_type": "stream",
     "text": [
      "starting epoch 99\n"
     ]
    },
    {
     "name": "stderr",
     "output_type": "stream",
     "text": [
      "100%|██████████| 62/62 [00:51<00:00,  1.21class/s]\n"
     ]
    },
    {
     "name": "stdout",
     "output_type": "stream",
     "text": [
      "samples_per_class 3000\n"
     ]
    },
    {
     "name": "stderr",
     "output_type": "stream",
     "text": [
      "Epoch 99: 100%|██████████| 6623/6623 [30:47<00:00,  3.58batch/s]\n",
      "Epoch 99: 100%|██████████| 14985/14985 [18:49<00:00, 13.27batch/s]\n"
     ]
    }
   ],
   "source": [
    "samples_per_class = 500\n",
    "max_per_class = 3000\n",
    "increase_by = 100\n",
    "\n",
    "index_lists = {}\n",
    "classdict = data_val.classdict.copy() # so we use the same labels for training later\n",
    "\n",
    "start_epoch = 0\n",
    "max_epochs = 100\n",
    "\n",
    "for epoch in range(start_epoch, max_epochs):\n",
    "    \n",
    "    print('starting epoch', epoch)\n",
    "    \n",
    "    ########################################\n",
    "    # TRAIN\n",
    "    ########################################\n",
    "    train_total = 0\n",
    "    train_correct = 0\n",
    "    train_loss = 0\n",
    "    model.train()\n",
    "    \n",
    "    # NOTE: i pull fresh training data examples each epoch to counter the huge class imbalance.\n",
    "    #       i keep the validation data the same each epoch though to make sure i'm consistently\n",
    "    #       measuring validation accuracy/loss.\n",
    "    train_loader, index_lists, classdict = get_fresh_training_data(samples_per_class,\n",
    "                                                                   index_lists=index_lists,\n",
    "                                                                   classdict=classdict)\n",
    "    print(\"samples_per_class\", samples_per_class)\n",
    "    # NOTE: increasing the number of samples per class will mess up the loss curve because i am\n",
    "    #       adding more examples and thus more potential loss each epoch. comment the next line out\n",
    "    #       if you wish to avoid this.\n",
    "    if samples_per_class < max_per_class:\n",
    "        samples_per_class += increase_by\n",
    "\n",
    "    #for i, (x, t) in enumerate(train_loader):\n",
    "    with tqdm(train_loader, unit=\"batch\") as tepoch:\n",
    "        for x, t in tepoch:\n",
    "            tepoch.set_description(f\"Epoch {epoch}\")\n",
    "\n",
    "            #if i%5000==0:\n",
    "            #    print(i, \"/\", len(train_loader))\n",
    "\n",
    "            optimizer.zero_grad()\n",
    "\n",
    "            x = x.to(device)\n",
    "            t = t.to(device)\n",
    "\n",
    "            y = model(x)\n",
    "\n",
    "            _, prediction = torch.max(y.data, 1)\n",
    "            # sometimes at the end of an epoch, prediction.shape can be < t.shape\n",
    "            if prediction.shape[0] != t.shape[0]:\n",
    "                #print(t)\n",
    "                t = t[:-(t.shape[0]-prediction.shape[0])]\n",
    "                #print(t)\n",
    "            train_total += t.shape[0]\n",
    "            train_correct += (prediction == t).sum().item()\n",
    "\n",
    "            loss = loss_function(y, t)\n",
    "            train_loss += loss\n",
    "\n",
    "            loss.backward()\n",
    "\n",
    "            optimizer.step()\n",
    "    tepoch.close()\n",
    "\n",
    "    ########################################\n",
    "    # TEST\n",
    "    ########################################\n",
    "    test_total = 0\n",
    "    test_correct = 0\n",
    "    test_loss = 0\n",
    "    \n",
    "    with torch.no_grad():\n",
    "        model.eval()\n",
    "        \n",
    "        #for i, (x, t) in enumerate(val_loader):\n",
    "        with tqdm(val_loader, unit=\"batch\") as tepoch:\n",
    "            for x, t in tepoch:\n",
    "                tepoch.set_description(f\"Epoch {epoch}\")\n",
    "                \n",
    "                #if i%5000==0:\n",
    "                #    print(i, \"/\", len(val_loader))\n",
    "\n",
    "                x = x.to(device)\n",
    "                t = t.to(device)\n",
    "\n",
    "                y = model(x)\n",
    "\n",
    "                _, prediction = torch.max(y.data, 1)\n",
    "                if prediction.shape[0] != t.shape[0]:\n",
    "                    #print(t)\n",
    "                    t = t[:-(t.shape[0]-prediction.shape[0])]\n",
    "                    #print(t)\n",
    "                test_total += t.shape[0]\n",
    "                test_correct += (prediction == t).sum().item()\n",
    "\n",
    "                loss = loss_function(y, t)\n",
    "                test_loss += loss\n",
    "\n",
    "    train_accuracy = train_correct/train_total*100.\n",
    "    test_accuracy = test_correct/test_total*100.\n",
    "\n",
    "    #print(f\"epoch {epoch} | train accuracy: {train_accuracy}\")\n",
    "    #print(f\"epoch {epoch} | train loss: {train_loss.item()}\")\n",
    "    #print(f\"epoch {epoch} | test accuracy: {test_accuracy}\")\n",
    "    #print(f\"epoch {epoch} | test loss: {test_loss.item()}\")\n",
    "\n",
    "    tepoch.set_postfix({\"train_accuracy\":train_accuracy, \n",
    "                        \"train_loss\":train_loss.item(),\n",
    "                        \"test_accuracy\":test_accuracy,\n",
    "                        \"test_loss\":test_loss.item()})\n",
    "    tepoch.close()\n",
    "    time.sleep(0.5)\n",
    "    \n",
    "    save_the_results(cyclic_group, epoch, train_accuracy, train_loss.item(), test_accuracy, test_loss.item(), dataname)\n",
    "    save_the_model(model, cyclic_group, epoch, train_accuracy, train_loss.item(), test_accuracy, test_loss.item(), dataname)\n"
   ]
  },
  {
   "cell_type": "code",
   "execution_count": 28,
   "metadata": {},
   "outputs": [],
   "source": [
    "# save_the_results(cyclic_group, epoch, train_accuracy, train_loss.item(), test_accuracy, test_loss.item(), dataname)\n",
    "# save_the_model(model, cyclic_group, epoch, train_accuracy, train_loss.item(), test_accuracy, test_loss.item(), dataname)"
   ]
  },
  {
   "cell_type": "code",
   "execution_count": 29,
   "metadata": {},
   "outputs": [],
   "source": [
    "# train_accuracy = train_correct/train_total*100.\n",
    "# print(train_correct, train_total, train_accuracy)\n",
    "#save_the_results(cyclic_group, epoch, train_accuracy, train_loss.item(), test_accuracy, test_loss.item())\n",
    "#save_the_model(model, cyclic_group, epoch, train_accuracy, train_loss.item(), test_accuracy, test_loss.item())"
   ]
  },
  {
   "cell_type": "code",
   "execution_count": 30,
   "metadata": {},
   "outputs": [],
   "source": [
    "# print(prediction.shape, t.shape)\n",
    "# print(prediction)\n",
    "# print(t)\n",
    "# print(t[:-1])\n",
    "# print(y.shape)\n",
    "# print(torch.max(y.data, 1)) # 1 is the dimension"
   ]
  },
  {
   "cell_type": "code",
   "execution_count": 31,
   "metadata": {},
   "outputs": [],
   "source": [
    "# epoch -1 | test accuracy: 10.011096469935502\n",
    "# epoch -1 | test loss: 2109988.5\n",
    "\n",
    "# epoch 0 | train accuracy: 52.91684784257414\n",
    "# epoch 0 | train loss: 42925.43359375\n",
    "# epoch 0 | test accuracy: 18.846660656078782\n",
    "# epoch 0 | test loss: 201328.765625"
   ]
  },
  {
   "cell_type": "code",
   "execution_count": 32,
   "metadata": {},
   "outputs": [],
   "source": [
    "#data_test = TheDataset(mode='test', dataname=dataname)"
   ]
  },
  {
   "cell_type": "code",
   "execution_count": 33,
   "metadata": {},
   "outputs": [
    {
     "name": "stdout",
     "output_type": "stream",
     "text": [
      "\n",
      "##########################################################################################\n",
      "angle |       0       1       2       3       4       5       6       7       8       9      10      11      12      13      14\n",
      "  0:[ -3.1454  -4.0015  -2.7524  -2.8747   2.268   -3.7672  -5.7331  -2.3572  -3.4632  -5.0219   4.8337  -2.8381   3.3266  -8.311   -5.5774  -7.1562  -8.4448  -6.6916   0.3418  -6.5449  -8.6987 -10.9164\n",
      "  -6.5281  -6.2351  -7.9325   1.0007 -12.1102  -9.1635 -11.7663 -11.3258  -3.3917  -4.5088  -8.0938  -0.078   -2.6732  -2.6682  -4.1058  -7.8122  -3.7439 -11.6543 -11.6646  -6.7615  -1.8079  -2.4354\n",
      "   8.1308 -12.4295   2.3163  -1.3611  -8.6112 -10.6518  -9.8802  -1.0802   1.656    1.2707  -4.9756  -3.1231  -7.518  -10.4124 -10.2725  -3.4223   3.4528  -6.4931]\n",
      " 45:[ -3.2861  -3.2909  -2.7522  -3.3987   2.2829  -3.8788  -5.9907  -2.1532  -3.058   -5.3947   4.9027  -2.5717   3.2171  -8.0521  -6.1488  -7.2831  -8.6573  -7.1848   0.3348  -7.4199  -8.8396 -10.2773\n",
      "  -6.344   -6.8752  -7.9814   1.1586 -12.215   -9.506  -10.977  -12.0947  -3.3708  -4.5363  -8.8269  -0.307   -3.0652  -2.4869  -3.1825  -7.2345  -3.8648 -11.6668 -12.1243  -6.7427  -1.7354  -1.9761\n",
      "   8.3604 -12.1289   2.3722  -0.9566  -8.6121 -11.5347 -10.4718  -0.9001   1.6055   1.7982  -5.3029  -3.3889  -6.8922 -10.5811 -10.0479  -3.7232   3.6976  -6.9466]\n",
      " 90:[ -3.7506  -3.8433  -3.2487  -2.8693   2.1856  -3.3783  -6.3397  -2.5832  -3.6626  -5.9852   5.0112  -2.8262   3.2672  -8.03    -5.7434  -6.6442  -8.6968  -6.9061  -0.0918  -6.8617  -8.9238 -10.5092\n",
      "  -6.9115  -6.2838  -8.1489   0.9916 -12.4728 -10.19   -11.4869 -12.0659  -3.1207  -4.6414  -8.5857  -0.4129  -2.9725  -3.1257  -3.5998  -7.6856  -4.4125 -12.065  -12.0473  -7.0348  -1.444   -2.2669\n",
      "   8.3008 -12.661    2.3811  -1.6617  -9.1833 -11.1665 -10.4745  -1.7335   1.601    1.6871  -4.9964  -3.5095  -6.9759 -10.5556 -10.4064  -3.6137   3.1202  -7.1424]\n",
      "135:[ -3.4753  -3.2679  -3.0383  -2.6246   2.2327  -3.8326  -6.5712  -2.5385  -3.5428  -5.53     4.8996  -2.0318   3.6616  -8.1396  -6.2506  -5.9143  -8.4693  -6.2056   0.8545  -6.745   -8.6671 -10.3815\n",
      "  -6.4043  -6.516   -8.8336   1.1663 -12.0772  -9.3881 -10.9529 -11.5928  -3.078   -4.4543  -8.4232  -0.2569  -2.4626  -3.1079  -3.1613  -7.5406  -4.5061 -11.6731 -11.8538  -6.608   -1.788   -2.2962\n",
      "   8.6499 -12.5902   2.3305  -0.9949  -8.6968 -10.8034 -10.1779  -0.9551   0.7058   1.8327  -4.4248  -3.5029  -6.3111 -10.6915 -10.0056  -3.6167   3.3901  -6.7384]\n",
      "180:[ -3.4226  -3.2601  -3.1428  -2.8724   2.1878  -3.784   -5.8761  -2.4794  -3.5343  -5.7147   4.8521  -2.0843   3.5766  -8.02    -5.6942  -6.3596  -8.3575  -7.2856   0.3112  -6.8149  -8.7111 -10.0974\n",
      "  -6.2326  -7.0398  -8.5362   1.0368 -11.9402  -9.8575 -11.0795 -12.1948  -3.1166  -4.358   -8.5349   0.0442  -2.8601  -3.2713  -2.7985  -7.0938  -4.3791 -12.1781 -12.2465  -6.6447  -1.4463  -2.6475\n",
      "   8.3604 -12.0543   2.3604  -1.0645  -8.7273 -11.1341 -10.3542  -1.1446   1.298    1.8619  -4.7797  -3.9172  -6.0218 -10.0832  -9.6338  -3.939    3.4547  -7.0524]\n",
      "225:[ -2.9094  -3.2634  -2.3587  -2.1578   2.1846  -3.6434  -5.7409  -2.0994  -4.0671  -5.7613   4.9405  -1.7888   3.9705  -7.877   -6.0155  -6.4021  -8.4814  -6.4706   0.0996  -6.6629  -7.7333 -10.2878\n",
      "  -6.1635  -6.845   -8.3016   0.8865 -11.9734  -9.6814 -10.4388 -11.9657  -2.854   -3.9005  -8.3259   0.3317  -2.1491  -2.3375  -2.8506  -7.1421  -3.7188 -11.4877 -11.7176  -6.5053  -1.2368  -2.2485\n",
      "   8.3009 -11.7006   2.3298  -0.6786  -8.359  -10.59    -9.7692  -1.1513   1.5886   1.4352  -4.768   -3.4859  -6.3219 -10.3489 -10.5684  -3.4922   3.412   -6.4451]\n",
      "270:[ -2.7612  -3.8289  -3.0778  -2.4108   2.2156  -3.017   -5.9468  -1.9016  -4.0791  -5.5699   4.8322  -1.6475   3.7684  -8.2548  -6.1954  -7.3072  -9.1999  -6.5899   0.8992  -6.0395  -8.1649 -10.7252\n",
      "  -6.8621  -6.9348  -8.8446   0.4352 -12.009  -10.0756 -10.8933 -11.2154  -3.3315  -4.8166  -8.1627   0.0248  -2.6981  -2.4983  -3.4685  -8.0004  -3.873  -11.9203 -11.0549  -7.2823  -2.014   -2.219\n",
      "   8.2359 -11.9038   2.3382  -0.8921  -8.7869 -10.864  -10.5745  -1.1724   1.159    1.4934  -4.676   -3.5278  -7.2413 -10.7456  -9.9656  -3.613    3.5862  -6.3596]\n",
      "315:[ -3.0622  -3.6938  -3.1633  -3.0029   2.3122  -3.3939  -5.9529  -2.8861  -3.9856  -5.8392   4.9446  -2.5585   3.4602  -8.3654  -5.9469  -6.6187  -8.7492  -7.1487   1.0855  -7.0107  -9.9265 -10.7279\n",
      "  -6.2322  -6.8547  -8.9393   0.8192 -11.9806  -9.9693 -10.7961 -11.7016  -3.2917  -4.7876  -8.8884  -0.5179  -3.0906  -2.6037  -2.9817  -7.7789  -4.0556 -12.1817 -11.8079  -7.0759  -2.2156  -2.1014\n",
      "   8.6857 -12.3871   2.5425  -1.4305  -8.9946 -11.247  -10.1896  -1.4632   1.853    1.815   -5.0923  -3.714   -7.5443 -10.9849 -10.1804  -3.73     3.5056  -7.2949]\n",
      "##########################################################################################\n",
      "\n"
     ]
    }
   ],
   "source": [
    "# retrieve the first image from the test set\n",
    "x, y = next(iter(data_val))\n",
    "\n",
    "# evaluate the model\n",
    "test_model(model, x)"
   ]
  },
  {
   "cell_type": "code",
   "execution_count": 34,
   "metadata": {},
   "outputs": [
    {
     "name": "stderr",
     "output_type": "stream",
     "text": [
      "100%|██████████| 14985/14985 [17:45<00:00, 14.07batch/s]\n"
     ]
    }
   ],
   "source": [
    "n_classes = 62 # 15\n",
    "\n",
    "confusion_matrix = torch.zeros(n_classes, n_classes)\n",
    "with torch.no_grad():\n",
    "#     for i, (x, t) in enumerate(val_loader):\n",
    "#         if i%1000==0:\n",
    "#             print(i, \"/\", len(val_loader))\n",
    "    with tqdm(val_loader, unit=\"batch\") as tepoch:\n",
    "        for x, t in tepoch:\n",
    "            x = x.to(device)\n",
    "            t = t.to(device)\n",
    "            y = model(x)\n",
    "            _, preds = torch.max(y, 1)\n",
    "            for t2, p in zip(t.view(-1), preds.view(-1)):\n",
    "                confusion_matrix[t2.long(), p.long()] += 1"
   ]
  },
  {
   "cell_type": "code",
   "execution_count": 35,
   "metadata": {},
   "outputs": [
    {
     "name": "stdout",
     "output_type": "stream",
     "text": [
      "tensor([[  0.,   0.,   0.,  ...,   0.,   3.,   0.],\n",
      "        [  0.,   0.,   0.,  ...,   0.,   1.,   0.],\n",
      "        [  0.,   0.,   3.,  ...,   0.,   1.,   0.],\n",
      "        ...,\n",
      "        [  0.,   0.,   0.,  ...,  77.,   3.,   0.],\n",
      "        [  1.,   0.,   0.,  ...,   5., 400.,   6.],\n",
      "        [  0.,   0.,   0.,  ...,   0.,   9.,  35.]])\n"
     ]
    }
   ],
   "source": [
    "print(confusion_matrix)"
   ]
  },
  {
   "cell_type": "code",
   "execution_count": 36,
   "metadata": {},
   "outputs": [
    {
     "name": "stdout",
     "output_type": "stream",
     "text": [
      "[[    0     0     0     0     4     0     0     0     0     0     0     0     1     0     1     0     0     0     1     0     0     0     0     0     0     0     0     0     0     0     0     0     0\n",
      "      0     0     0     0     0     0     0     0     0     0     0     0     0     0     0     0     0     0     0     0     0     0     1     0     0     0     0     3     0]\n",
      " [    0     0     0     0     2     0     0     0     0     0     0     0     0     0     0     0     0     0     0     0     0     0     0     0     0     0     0     0     0     0     0     0     0\n",
      "      0     0     0     0     0     0     0     0     0     0     0     0     0     0     0     0     0     0     0     0     0     0     0     0     0     0     0     1     0]\n",
      " [    0     0     3     0    27     0     0     1     0     0     2     0     0     0     1     0     0     0     1     0     0     0     0     0     0     0     0     0     0     0     0     0     0\n",
      "      0     1     0     0     0     0     0     0     0     1     0     2     0     0     0     0     0     0     0     0     0     0     0     0     0     0     0     1     0]\n",
      " [    0     0     0     1    23     0     0     0     0     0     2     0     2     0     0     0     0     0     4     0     0     0     0     0     0     0     0     0     0     0     0     0     1\n",
      "      0     0     0     0     0     0     0     0     0     0     0     2     0     0     0     0     0     0     0     0     1     0     0     0     0     1     0     3     0]\n",
      " [    3     2    37    22 48495   433   386   120   793    13   309    36    30    15   721   210    13   131   464    36   144    11    17    83     4    81     6    18   220    10    78    49   169\n",
      "      4   155   154    33    55     0     6   120     3   352   208  1397    51   917   625     4     7    13    14   803  2155    68   833   144    10    25   313  1210   104]\n",
      " [    0     0     1     0    65   377    15     0   141     3     0     1     0     1     3    11     0     5     0     2     5     0     0     3     0     0     0     0     2     0     3     1    22\n",
      "      0    23    19     5     0     0     0     8     1     6    14     3     1   209     1     0     1     0     0    58   207     4    53     7     5     2    65     5     2]\n",
      " [    0     0     0     0    54     6   160     0     9     0     0     0     0     0     4     0     0     1     0     0     4     0     2     2     0     0     0     1     1     0     0     1     1\n",
      "      0     6     1     0     1     0     0     1     0     0     7     2     0    11     0     0     6     0     0    15    26     0    17     3     0     0     4     0     0]\n",
      " [    0     0     0     0    40     0     0    78     0     0     3     1     0     0     2     1     0     0     1     0     0     1     0     0     0     0     0     0     0     0     0     0     0\n",
      "      0     0     0     0     0     0     0     2     0     0     0     6     2     0     0     0     0     0     0     1     4     0     1     0     0     0     0    12     0]\n",
      " [    0     0     0     0   116    90     6     0   187     1     0     1     0     0     3    18     0     3     0     1     1     0     0     4     1     0     0     0     4     0     0     1    17\n",
      "      0     1    33     4     0     0     0     8     1     5     6     7     1   184     6     0     0     0     0    29   289     6    61    16     1     0    61     7     1]\n",
      " [    0     0     0     0     5     8     1     0     7     3     0     0     0     0     0     0     0     0     0     0     0     0     0     0     0     0     0     0     0     0     0     0     1\n",
      "      0     0     0     0     0     0     0     1     0     0     0     0     0    12     0     0     0     0     0     1    19     0     2     0     0     0     5     0     0]\n",
      " [    0     0     0     0    80     0     0     0     0     0   124     0     0     0     5     0     0     1     7     0     0     0     0     0     0     0     0     0     0     0     1     0     0\n",
      "      0     0     0     0     2     0     0     0     0     0     0    10     0     0     0     0     0     0     0     0     2     0     2     1     0     0     1    19     1]\n",
      " [    0     0     0     0    21     1     0     0     0     0     1     3     0     0     1     0     0     0     3     1     0     0     0     0     0     0     0     0     0     0     0     0     1\n",
      "      0     0     0     0     1     0     0     1     0     0     0     3     0     1     0     0     0     0     1     1     2     0     0     0     0     0     0     7     0]\n",
      " [    0     0     0     0    21     1     0     0     0     0     4     1     7     0     0     0     0     0     0     1     1     0     0     0     0     0     0     0     0     1     1     1     0\n",
      "      0     0     0     0     0     0     0     0     0     0     0    12     0     0     1     0     0     0     1     0     1     0     1     0     0     2     0     9     0]\n",
      " [    0     0     1     0     7     1     2     0     1     0     0     0     0     2     0     3     0     2     0     0     2     0     0     0     0     0     0     0     0     0     0     0     0\n",
      "      0     0     1     0     0     0     0     1     0     0     0     1     0     2     0     0     0     0     0     2     3     0     1     1     0     0     0     0     0]\n",
      " [    0     0     0     1   146     3     1     0     1     0     2     0     1     0     9     2     0     2     1     0     4     0     0     0     0     1     0     0     0     0     0     0     1\n",
      "      1     0     0     0     1     0     1     1     0     1     0     5     1     3     1     0     0     0     0     0     5     1     1     2     0     1     1     5     0]\n",
      " [    0     0     0     0    24     6     2     0    15     1     1     0     0     0     0    34     1    10     0     0     2     0     0     6     0     0     0     0     0     0     0     0     4\n",
      "      0     1     3     0     0     0     1     1     1     0     1     0     0    30     0     0     1     0     0     5    83     3     5     4     0     0    10     0     0]\n",
      " [    0     0     0     0     9     2     0     0     1     0     1     0     0     0     0     0     0     1     0     0     0     0     0     1     0     0     0     0     0     0     0     0     1\n",
      "      0     0     0     0     0     0     0     0     0     0     2     1     1     7     0     0     0     0     0     2     4     1     1     2     0     0     0     3     0]\n",
      " [    0     0     0     0    23     4     2     0     9     0     0     0     0     1     1    12     0    26     0     0     2     0     0     7     2     2     0     0     1     0     1     1     2\n",
      "      0     0     1     2     0     0     0     3     0     0     2     0     0     8     0     0     0     0     0     6    35     0     9     1     0     0     1     1     1]\n",
      " [    0     1     0     0   113     0     0     2     0     0     7     0     1     0     1     0     0     0    19     1     0     0     0     0     0     0     0     1     1     0     1     0     0\n",
      "      0     0     0     0     1     0     0     0     0     0     0    14     0     0     4     0     0     0     1     1     1     0     1     0     0     0     0    20     0]\n",
      " [    0     0     1     0    13     0     0     0     0     1     0     0     0     0     0     0     0     0     0     3     1     0     0     0     0     0     0     0     0     1     3     0     0\n",
      "      0     0     0     0     0     0     0     0     0     0     0     2     1     0     0     1     0     0     1     1     1     0     2     1     0     1     0     2     1]\n",
      " [    0     0     0     0    33     9     0     0     4     0     0     3     0     1     0     2     0     2     0     3    24     0     0     2     1     1     0     0     0     0     3     1     5\n",
      "      0     1     1     1     0     0     0     2     0     0     0     3     0    12     0     0     0     0     0     7    13     0     4     2     0     0     3    10     0]\n",
      " [    0     0     0     0     7     0     0     1     0     0     0     0     0     0     2     0     0     0     0     0     1     0     0     0     0     0     0     0     0     0     0     0     0\n",
      "      0     0     0     0     0     0     0     1     0     0     0     1     0     0     0     0     0     0     0     0     1     0     0     0     0     0     0     0     0]\n",
      " [    0     0     0     0    11     0     3     0     0     0     0     0     0     0     0     1     0     0     0     0     2     0     1     0     0     0     0     0     1     0     0     0     0\n",
      "      0     1     0     0     0     0     0     0     0     0     0     1     0     2     0     0     0     0     0     0     4     0     2     0     0     0     1     0     0]\n",
      " [    0     0     0     0    10     1     1     0     4     0     1     0     0     0     0     3     0    10     0     0     5     0     0     6     1     0     0     1     0     1     0     0     0\n",
      "      0     0     2     0     0     0     0     0     0     1     1     1     0    19     0     0     0     0     0     3    27     2     3     0     1     0     3     0     0]\n",
      " [    0     0     0     0     2     0     0     0     1     0     0     0     0     0     0     0     0     0     0     0     0     0     0     1     0     0     0     0     0     0     0     0     0\n",
      "      0     0     0     1     0     0     0     0     0     0     0     0     0     2     0     0     0     0     0     0     2     0     1     0     0     0     0     0     0]\n",
      " [    0     0     0     0    38     0     0     0     1     0     1     0     0     0     1     1     0     0     0     0     0     0     0     0     0    11     0     0     0     1     0     0     0\n",
      "      0     0     0     0     0     0     0     0     0     0     0    11     0     0     0     0     0     0     0     2     2     0     1     0     0     0     0     0     0]\n",
      " [    0     0     0     0     3     0     0     1     1     0     0     0     0     0     1     0     0     0     0     0     1     0     0     0     0     0     0     0     0     0     0     0     0\n",
      "      0     0     1     0     1     0     0     0     0     0     0     1     0     1     0     0     0     0     0     0     0     0     0     1     0     0     0     3     0]\n",
      " [    0     0     1     0    15     0     0     0     0     0     1     0     0     0     1     0     0     0     0     0     1     0     0     0     0     0     0     3     0     0     0     0     0\n",
      "      0     0     0     0     0     0     0     0     0     0     0     1     0     3     1     0     0     0     0     0     2     0     0     0     0     0     0     1     0]\n",
      " [    0     0     0     0    59     0     2     0     0     0     0     0     0     1     0     0     0     0     0     0     0     0     1     0     0     0     0     0    58     0     0     0     0\n",
      "      0     1     1     1     1     0     0     0     0     3     0     2     0     8     5     0     0     0     0     4     8     0     2     0     0     0     0     2     0]\n",
      " [    0     0     0     0     9     2     2     0     0     0     0     1     0     0     0     0     0     0     0     0     2     0     0     1     0     0     0     0     0     2     0     0     0\n",
      "      0     5     0     0     0     0     0     0     0     1     0     0     0     0     0     0     0     0     0     0     2     0     3     0     0     0     2     1     0]\n",
      " [    0     0     0     0    45     6     2     0     4     0     3     3     1     0     1     0     0     0     3     1     4     0     0     0     0     0     0     0     0     0    11     2     6\n",
      "      0     0     1     0     0     0     0     1     0     0     0     8     0     8     1     0     0     0     2     1     6     1     1     1     0     1     2     9     3]\n",
      " [    0     0     0     0    35     1     0     0     1     0     2     2     0     0     2     0     0     1     2     1     1     0     0     0     0     0     0     0     0     0     1     1     0\n",
      "      0     0     0     0     1     0     0     0     0     1     0     7     0     0     1     0     0     0     0     3     5     0     1     1     0     0     1     3     1]\n",
      " [    0     0     0     0    34    23     0     0    21     1     0     0     0     0     2     5     0     0     0     0     6     0     0     1     0     0     0     0     0     0     1     0    57\n",
      "      0     0     6     1     0     0     0    25     0     1     0     0     0    38     0     0     0     0     0     5    37     2     3     3     2     0    12     3     1]\n",
      " [    0     0     0     1     4     0     0     0     0     0     0     0     3     0     0     0     0     0     0     0     0     0     0     0     0     0     0     0     0     0     3     1     0\n",
      "      2     0     0     0     0     0     0     0     0     0     0     2     0     0     0     0     0     0     0     0     0     0     0     0     0     0     0     2     0]\n",
      " [    0     0     0     0    24     4    10     1     3     0     0     0     0     0     0     0     0     0     0     0     0     0     0     0     0     0     0     1     1     0     0     1     1\n",
      "      0   217     1     0     1     0     0     0     0     0     0     9     0     0     3     0     0     0     0     2    11     0    15     0     1     0     0     1     0]\n",
      " [    0     0     0     0     7    13     2     0    23     0     0     0     0     0     0     4     0     0     0     0     0     0     0     0     0     0     0     0     2     0     2     0     3\n",
      "      0     1    83    10     0     0     0     1     0     0     4     0     0   355     2     0     0     0     0     5    35     1     2     0     0     0    30     0     0]\n",
      " [    0     0     0     0     3     1     0     0     7     1     0     0     0     0     1     2     0     1     0     0     0     0     0     0     0     0     0     0     0     0     0     0     0\n",
      "      0     0    11    29     0     0     0     0     0     0     0     0     0   127     0     0     0     0     0     0    28     0     0     0     0     0    16     0     0]\n",
      " [    0     0     0     0    27     0     3     0     0     0     5     0     0     0     1     0     0     0     1     0     2     0     0     0     0     0     0     0     0     0     1     0     0\n",
      "      0     1     0     0    30     0     0     0     0     0     0     0     0     1     1     0     0     0     0     2     4     0     4     1     0     0     0     3     0]\n",
      " [    0     0     0     0     2     0     0     0     0     0     0     0     0     0     0     0     0     0     0     0     0     0     0     0     0     0     0     0     0     0     0     0     0\n",
      "      0     0     0     0     0     0     0     0     0     0     0     0     0     0     0     0     0     0     0     0     0     0     0     1     0     0     0     0     0]\n",
      " [    0     0     0     0    10     0     0     0     0     0     0     0     0     0     1     1     0     0     0     0     0     0     0     0     0     0     0     0     0     0     0     0     0\n",
      "      0     0     0     0     0     0     0     0     0     0     0     0     0     1     0     0     0     0     0     0     2     1     0     0     0     0     0     0     0]\n",
      " [    0     0     0     0    14     2     0     0     4     0     0     0     0     0     2     3     0     1     0     1     2     0     0     1     0     0     0     0     0     0     1     0    16\n",
      "      0     0     1     2     0     0     0    43     0     0     0     1     0    17     0     0     0     0     0     0    10     2     2     1     0     0     5     1     2]\n",
      " [    0     0     0     0     5     1     0     0     0     0     0     0     0     0     0     0     0     0     0     0     0     0     0     1     0     0     0     0     0     0     0     0     0\n",
      "      0     0     0     0     0     0     0     0     0     0     0     0     0     4     0     0     0     0     0     0     5     1     0     0     0     0     2     0     0]\n",
      " [    0     0     0     0   148     2     4     1    14     1     0     0     0     0     3     3     0     1     1     0     1     0     0     0     0     1     0     0     2     0     0     2     2\n",
      "      0     1     5     0     0     0     0     3     0    11     2     3     0    14     5     0     0     0     0     8    21     0     3     0     0     0     3     2     0]\n",
      " [    0     0     0     0    75    22    18     0    20     0     0     0     0     0     0     4     0     0     0     0     0     0     0     2     1     0     0     0     1     0     1     0     0\n",
      "      0     2     3     1     1     0     0     3     0     3    53     3     0    14     2     0     0     0     0    31    38     3    13     3     0     0     7     1     0]\n",
      " [    0     1     0     0   239     2     0     4     2     0    10     0     3     0     6     1     0     0     8     2     1     0     0     0     0     5     0     0     1     0     0     0     0\n",
      "      0     2     0     0     4     0     0     3     0     0     0   136     0     1     7     0     0     0     0     3     7     0    16     0     0     0     1    16     1]\n",
      " [    0     0     0     0    29     0     0     3     2     0     1     0     0     0     1     0     0     0     0     0     0     0     0     1     1     0     0     0     0     0     0     0     2\n",
      "      0     0     0     0     0     0     0     1     0     0     1     0    10     1     0     0     0     0     0     2     7     0     1     1     0     0     4     2     0]\n",
      " [    0     0     0     0   248   588    19     0  1017    22     4     0     1     3    12   102     6    23     1     0    27     0     1    56     5     2     1     0    20     1    16     0   200\n",
      "      0    14  1595   481     0     0     2    70     1    37    26    18    13 32893    42     1     0     1     0   135  2493   116   116    61     3     0  1687    11     3]\n",
      " [    0     0     0     0   199     7     0     1     6     0     2     0     1     0     0     0     0     0     2     0     0     0     0     0     0     0     0     0     3     0     0     0     0\n",
      "      0     2     1     0     2     0     0     1     0     1     0     6     2    22    64     0     0     0     0     3    11     0     2     0     0     0     2     2     0]\n",
      " [    0     0     0     0     5     0     0     0     0     0     0     1     0     0     0     0     0     0     0     0     0     0     0     0     0     0     0     0     0     0     1     0     0\n",
      "      0     0     0     0     0     0     0     0     0     0     0     1     0     0     1     0     0     0     0     0     0     0     0     0     0     0     0     1     0]\n",
      " [    0     0     0     0     1     1     3     0     1     0     0     0     0     0     0     0     0     0     0     0     0     0     0     0     0     0     0     0     0     0     0     0     0\n",
      "      0     1     0     0     0     0     0     0     0     0     0     0     0     2     0     0    12     0     0     0     2     0     1     0     0     0     0     0     0]\n",
      " [    0     0     0     0     8     0     1     0     0     0     0     0     0     0     0     0     0     0     0     0     0     0     0     0     0     0     0     0     0     0     0     0     0\n",
      "      0     0     0     0     0     0     0     0     0     0     0     1     0     0     1     0     0     0     0     0     2     0     0     0     0     0     1     0     1]\n",
      " [    0     0     0     0    12     0     0     0     1     0     1     1     0     0     0     1     0     0     1     0     0     0     0     0     0     0     0     0     0     0     1     0     0\n",
      "      1     1     0     0     0     0     0     0     0     0     0     2     0     0     0     0     0     0     0     0     1     0     0     0     1     0     0     2     0]\n",
      " [    0     0     0     0   164    79    24     3    46     1     1     0     0     1     5     7     1     4     1     1     2     0     0     1     0     0     0     0     3     1     2     0     5\n",
      "      0    11     6     3     0     0     0     5     0     6    16     9     0    21     2     0     0     0     0   207   135     1    49     2     1     0    14     4     1]\n",
      " [    0     0     0     0   238   158    18     1   230     7     3     0     0     3     4    55     1    26     1     0     7     1     1    18     3     0     1     1     4     1     6     1    26\n",
      "      0     7    39    19     2     0     0    11     1     7     9    16     3   531     5     0     0     0     0    69   645    16   126    34     0     0   100    21     1]\n",
      " [    0     0     0     0    14     8     0     0     9     0     0     0     0     0     0     5     0     0     0     0     0     0     0     0     0     0     0     0     0     0     0     0     1\n",
      "      0     1     2     3     1     0     0     2     0     1     1     0     0    37     0     0     0     0     0     4    35    21     7     4     1     0     5     4     0]\n",
      " [    0     0     0     1   144    32    13     1    39     0     0     0     0     0     2     8     0     3     2     1     5     0     0     1     1     0     0     0     1     1     1     0     5\n",
      "      0    16     2     0     1     0     0     3     1     1     6    10     1    13     0     0     0     1     0    24   114     2   214    28     2     1    11    11     4]\n",
      " [    0     0     0     0    26     8     4     0    11     0     0     0     0     2     1     7     0     2     0     1     1     0     0     2     0     1     0     0     0     0     0     0     4\n",
      "      0     1     0     1     0     0     0     0     0     0     2     4     0    11     1     0     0     0     0     1    43     0    31     9     0     0     4     8     0]\n",
      " [    0     0     0     0     4     5     1     0     2     0     0     0     0     0     0     0     0     0     0     1     1     0     0     0     0     0     0     0     0     0     0     0     0\n",
      "      0     2     0     0     0     0     0     0     0     0     0     0     1     3     0     0     0     0     0     1     9     0     1     0     0     0     2     0     1]\n",
      " [    0     0     0     1    15     2     0     0     1     0     0     1     1     0     0     0     0     0     0     3     2     0     0     0     0     0     0     0     0     0     5     1     2\n",
      "      1     1     0     1     0     0     0     1     0     0     0     1     0     0     0     0     0     0     0     0     1     0     4     0     0     0     3     7     1]\n",
      " [    0     0     0     0    16    45     1     0    68     1     0     0     0     1     0     7     0     1     1     0     3     0     0     1     0     0     0     0     0     0     2     0    10\n",
      "      0     0    37    15     0     0     0     2     1     0     1     2     1   316     0     0     0     0     0     6   122     2     9     1     1     0    77     3     0]\n",
      " [    1     0     0     0   253     4     1     2     8     1    17     0     3     0     9     3     0     0    13     1     4     0     1     0     0     1     0     0     0     0     3     1     2\n",
      "      2     0     1     0     0     0     0     2     0     3     1    15     2    13     2     0     0     1     0     4    24     2    11     3     0     1     5   400     6]\n",
      " [    0     0     0     0    32     1     0     2     1     0     0     0     0     0     0     0     0     0     0     1     1     0     0     0     0     0     0     0     0     0     1     0     5\n",
      "      0     0     0     0     0     0     0     3     0     0     1     0     0     0     1     0     0     1     0     0     0     0     0     0     0     0     0     9    35]]\n"
     ]
    }
   ],
   "source": [
    "import sys\n",
    "np.set_printoptions(threshold=sys.maxsize)\n",
    "cm = confusion_matrix.numpy().copy()\n",
    "cm = cm.astype('int32')\n",
    "print(cm)"
   ]
  },
  {
   "cell_type": "code",
   "execution_count": 37,
   "metadata": {},
   "outputs": [
    {
     "name": "stdout",
     "output_type": "stream",
     "text": [
      "['75', '82', 'Aircraft Hangar', 'Barge', 'Building', 'Bus', 'Cargo Car', 'Cargo Plane', 'Cargo Truck', 'Cement Mixer', 'Construction Site', 'Container Crane', 'Container Ship', 'Crane Truck', 'Damaged Building', 'Dump Truck', 'Engineering Vehicle', 'Excavator', 'Facility', 'Ferry', 'Fishing Vessel', 'Fixed-wing Aircraft', 'Flat Car', 'Front loader Bulldozer', 'Ground Grader', 'Haul Truck', 'Helicopter', 'Helipad', 'Hut Tent', 'Locomotive', 'Maritime Vessel', 'Mobile Crane', 'Motorboat', 'Oil Tanker', 'Passenger Car', 'Passenger Vehicle', 'Pickup Truck', 'Pylon', 'Railway Vehicle', 'Reach Stacker', 'Sailboat', 'Scraper Tractor', 'Shed', 'Shipping Container', 'Shipping container lot', 'Small Aircraft', 'Small Car', 'Storage Tank', 'Straddle Carrier', 'Tank car', 'Tower', 'Tower crane', 'Trailer', 'Truck', 'Truck Tractor', 'Truck w Box', 'Truck w Flatbed', 'Truck w Liquid', 'Tugboat', 'Utility Truck', 'Vehicle Lot', 'Yacht']\n"
     ]
    }
   ],
   "source": [
    "for root, dirs, filenames in os.walk(data_val.chipdir, topdown=False):\n",
    "    pass\n",
    "print(dirs)"
   ]
  },
  {
   "cell_type": "code",
   "execution_count": 38,
   "metadata": {},
   "outputs": [
    {
     "data": {
      "image/png": "[encoded data removed]",
      "text/plain": [
       "<Figure size 1296x1296 with 2 Axes>"
      ]
     },
     "metadata": {
      "needs_background": "light"
     },
     "output_type": "display_data"
    }
   ],
   "source": [
    "if EQUIVARIANT:\n",
    "    cnum = \"8\"\n",
    "else:\n",
    "    cnum = \"1\"\n",
    "\n",
    "dfcm = pd.DataFrame(cm,\n",
    "                    index = dirs,\n",
    "                    columns=dirs)\n",
    "plt.figure(figsize = (18,18))\n",
    "sns.heatmap(dfcm, annot=True, cmap=\"Blues\", fmt='d')\n",
    "plt.savefig(\"results/c\"+cnum+\"_confusion_matrix_\"+dataname+\"_counts.png\",\n",
    "            dpi=100,\n",
    "            bbox_inches='tight')"
   ]
  },
  {
   "cell_type": "code",
   "execution_count": 39,
   "metadata": {},
   "outputs": [
    {
     "name": "stdout",
     "output_type": "stream",
     "text": [
      "tensor([ 0.0000,  0.0000,  7.5000,  2.5000, 77.0471, 27.7206, 46.2428, 50.3226,\n",
      "        15.8340,  4.6154, 48.4375,  6.1224, 10.6061,  6.0606,  4.3689, 13.3333,\n",
      "         0.0000, 15.6627,  9.9476,  8.1081, 15.6863,  0.0000,  3.3333,  5.6075,\n",
      "         0.0000, 15.7143,  0.0000, 10.0000, 36.4780,  6.0606,  7.9710,  1.3333,\n",
      "        19.6552, 11.1111, 70.6840, 14.1880, 12.7753, 34.4828,  0.0000,  0.0000,\n",
      "        32.0896,  0.0000,  4.1199, 16.3077, 28.2158, 14.2857, 77.9566, 18.7134,\n",
      "         0.0000, 50.0000,  0.0000,  0.0000, 24.4970, 26.0396, 12.6506, 29.4360,\n",
      "         4.8387,  0.0000,  0.0000, 10.2258, 48.4262, 37.2340])\n"
     ]
    }
   ],
   "source": [
    "print(100*confusion_matrix.diag()/confusion_matrix.sum(1))"
   ]
  },
  {
   "cell_type": "code",
   "execution_count": 40,
   "metadata": {},
   "outputs": [
    {
     "name": "stdout",
     "output_type": "stream",
     "text": [
      "[[0.0000e+00 0.0000e+00 0.0000e+00 0.0000e+00 4.0000e+00 0.0000e+00 0.0000e+00 0.0000e+00 0.0000e+00 0.0000e+00 0.0000e+00 0.0000e+00 1.0000e+00 0.0000e+00 1.0000e+00 0.0000e+00 0.0000e+00 0.0000e+00\n",
      "  1.0000e+00 0.0000e+00 0.0000e+00 0.0000e+00 0.0000e+00 0.0000e+00 0.0000e+00 0.0000e+00 0.0000e+00 0.0000e+00 0.0000e+00 0.0000e+00 0.0000e+00 0.0000e+00 0.0000e+00 0.0000e+00 0.0000e+00 0.0000e+00\n",
      "  0.0000e+00 0.0000e+00 0.0000e+00 0.0000e+00 0.0000e+00 0.0000e+00 0.0000e+00 0.0000e+00 0.0000e+00 0.0000e+00 0.0000e+00 0.0000e+00 0.0000e+00 0.0000e+00 0.0000e+00 0.0000e+00 0.0000e+00 0.0000e+00\n",
      "  0.0000e+00 1.0000e+00 0.0000e+00 0.0000e+00 0.0000e+00 0.0000e+00 3.0000e+00 0.0000e+00]\n",
      " [0.0000e+00 0.0000e+00 0.0000e+00 0.0000e+00 2.0000e+00 0.0000e+00 0.0000e+00 0.0000e+00 0.0000e+00 0.0000e+00 0.0000e+00 0.0000e+00 0.0000e+00 0.0000e+00 0.0000e+00 0.0000e+00 0.0000e+00 0.0000e+00\n",
      "  0.0000e+00 0.0000e+00 0.0000e+00 0.0000e+00 0.0000e+00 0.0000e+00 0.0000e+00 0.0000e+00 0.0000e+00 0.0000e+00 0.0000e+00 0.0000e+00 0.0000e+00 0.0000e+00 0.0000e+00 0.0000e+00 0.0000e+00 0.0000e+00\n",
      "  0.0000e+00 0.0000e+00 0.0000e+00 0.0000e+00 0.0000e+00 0.0000e+00 0.0000e+00 0.0000e+00 0.0000e+00 0.0000e+00 0.0000e+00 0.0000e+00 0.0000e+00 0.0000e+00 0.0000e+00 0.0000e+00 0.0000e+00 0.0000e+00\n",
      "  0.0000e+00 0.0000e+00 0.0000e+00 0.0000e+00 0.0000e+00 0.0000e+00 1.0000e+00 0.0000e+00]\n",
      " [0.0000e+00 0.0000e+00 3.0000e+00 0.0000e+00 2.7000e+01 0.0000e+00 0.0000e+00 1.0000e+00 0.0000e+00 0.0000e+00 2.0000e+00 0.0000e+00 0.0000e+00 0.0000e+00 1.0000e+00 0.0000e+00 0.0000e+00 0.0000e+00\n",
      "  1.0000e+00 0.0000e+00 0.0000e+00 0.0000e+00 0.0000e+00 0.0000e+00 0.0000e+00 0.0000e+00 0.0000e+00 0.0000e+00 0.0000e+00 0.0000e+00 0.0000e+00 0.0000e+00 0.0000e+00 0.0000e+00 1.0000e+00 0.0000e+00\n",
      "  0.0000e+00 0.0000e+00 0.0000e+00 0.0000e+00 0.0000e+00 0.0000e+00 1.0000e+00 0.0000e+00 2.0000e+00 0.0000e+00 0.0000e+00 0.0000e+00 0.0000e+00 0.0000e+00 0.0000e+00 0.0000e+00 0.0000e+00 0.0000e+00\n",
      "  0.0000e+00 0.0000e+00 0.0000e+00 0.0000e+00 0.0000e+00 0.0000e+00 1.0000e+00 0.0000e+00]\n",
      " [0.0000e+00 0.0000e+00 0.0000e+00 1.0000e+00 2.3000e+01 0.0000e+00 0.0000e+00 0.0000e+00 0.0000e+00 0.0000e+00 2.0000e+00 0.0000e+00 2.0000e+00 0.0000e+00 0.0000e+00 0.0000e+00 0.0000e+00 0.0000e+00\n",
      "  4.0000e+00 0.0000e+00 0.0000e+00 0.0000e+00 0.0000e+00 0.0000e+00 0.0000e+00 0.0000e+00 0.0000e+00 0.0000e+00 0.0000e+00 0.0000e+00 0.0000e+00 0.0000e+00 1.0000e+00 0.0000e+00 0.0000e+00 0.0000e+00\n",
      "  0.0000e+00 0.0000e+00 0.0000e+00 0.0000e+00 0.0000e+00 0.0000e+00 0.0000e+00 0.0000e+00 2.0000e+00 0.0000e+00 0.0000e+00 0.0000e+00 0.0000e+00 0.0000e+00 0.0000e+00 0.0000e+00 0.0000e+00 1.0000e+00\n",
      "  0.0000e+00 0.0000e+00 0.0000e+00 0.0000e+00 1.0000e+00 0.0000e+00 3.0000e+00 0.0000e+00]\n",
      " [3.0000e+00 2.0000e+00 3.7000e+01 2.2000e+01 4.8495e+04 4.3300e+02 3.8600e+02 1.2000e+02 7.9300e+02 1.3000e+01 3.0900e+02 3.6000e+01 3.0000e+01 1.5000e+01 7.2100e+02 2.1000e+02 1.3000e+01 1.3100e+02\n",
      "  4.6400e+02 3.6000e+01 1.4400e+02 1.1000e+01 1.7000e+01 8.3000e+01 4.0000e+00 8.1000e+01 6.0000e+00 1.8000e+01 2.2000e+02 1.0000e+01 7.8000e+01 4.9000e+01 1.6900e+02 4.0000e+00 1.5500e+02 1.5400e+02\n",
      "  3.3000e+01 5.5000e+01 0.0000e+00 6.0000e+00 1.2000e+02 3.0000e+00 3.5200e+02 2.0800e+02 1.3970e+03 5.1000e+01 9.1700e+02 6.2500e+02 4.0000e+00 7.0000e+00 1.3000e+01 1.4000e+01 8.0300e+02 2.1550e+03\n",
      "  6.8000e+01 8.3300e+02 1.4400e+02 1.0000e+01 2.5000e+01 3.1300e+02 1.2100e+03 1.0400e+02]\n",
      " [0.0000e+00 0.0000e+00 1.0000e+00 0.0000e+00 6.5000e+01 3.7700e+02 1.5000e+01 0.0000e+00 1.4100e+02 3.0000e+00 0.0000e+00 1.0000e+00 0.0000e+00 1.0000e+00 3.0000e+00 1.1000e+01 0.0000e+00 5.0000e+00\n",
      "  0.0000e+00 2.0000e+00 5.0000e+00 0.0000e+00 0.0000e+00 3.0000e+00 0.0000e+00 0.0000e+00 0.0000e+00 0.0000e+00 2.0000e+00 0.0000e+00 3.0000e+00 1.0000e+00 2.2000e+01 0.0000e+00 2.3000e+01 1.9000e+01\n",
      "  5.0000e+00 0.0000e+00 0.0000e+00 0.0000e+00 8.0000e+00 1.0000e+00 6.0000e+00 1.4000e+01 3.0000e+00 1.0000e+00 2.0900e+02 1.0000e+00 0.0000e+00 1.0000e+00 0.0000e+00 0.0000e+00 5.8000e+01 2.0700e+02\n",
      "  4.0000e+00 5.3000e+01 7.0000e+00 5.0000e+00 2.0000e+00 6.5000e+01 5.0000e+00 2.0000e+00]\n",
      " [0.0000e+00 0.0000e+00 0.0000e+00 0.0000e+00 5.4000e+01 6.0000e+00 1.6000e+02 0.0000e+00 9.0000e+00 0.0000e+00 0.0000e+00 0.0000e+00 0.0000e+00 0.0000e+00 4.0000e+00 0.0000e+00 0.0000e+00 1.0000e+00\n",
      "  0.0000e+00 0.0000e+00 4.0000e+00 0.0000e+00 2.0000e+00 2.0000e+00 0.0000e+00 0.0000e+00 0.0000e+00 1.0000e+00 1.0000e+00 0.0000e+00 0.0000e+00 1.0000e+00 1.0000e+00 0.0000e+00 6.0000e+00 1.0000e+00\n",
      "  0.0000e+00 1.0000e+00 0.0000e+00 0.0000e+00 1.0000e+00 0.0000e+00 0.0000e+00 7.0000e+00 2.0000e+00 0.0000e+00 1.1000e+01 0.0000e+00 0.0000e+00 6.0000e+00 0.0000e+00 0.0000e+00 1.5000e+01 2.6000e+01\n",
      "  0.0000e+00 1.7000e+01 3.0000e+00 0.0000e+00 0.0000e+00 4.0000e+00 0.0000e+00 0.0000e+00]\n",
      " [0.0000e+00 0.0000e+00 0.0000e+00 0.0000e+00 4.0000e+01 0.0000e+00 0.0000e+00 7.8000e+01 0.0000e+00 0.0000e+00 3.0000e+00 1.0000e+00 0.0000e+00 0.0000e+00 2.0000e+00 1.0000e+00 0.0000e+00 0.0000e+00\n",
      "  1.0000e+00 0.0000e+00 0.0000e+00 1.0000e+00 0.0000e+00 0.0000e+00 0.0000e+00 0.0000e+00 0.0000e+00 0.0000e+00 0.0000e+00 0.0000e+00 0.0000e+00 0.0000e+00 0.0000e+00 0.0000e+00 0.0000e+00 0.0000e+00\n",
      "  0.0000e+00 0.0000e+00 0.0000e+00 0.0000e+00 2.0000e+00 0.0000e+00 0.0000e+00 0.0000e+00 6.0000e+00 2.0000e+00 0.0000e+00 0.0000e+00 0.0000e+00 0.0000e+00 0.0000e+00 0.0000e+00 1.0000e+00 4.0000e+00\n",
      "  0.0000e+00 1.0000e+00 0.0000e+00 0.0000e+00 0.0000e+00 0.0000e+00 1.2000e+01 0.0000e+00]\n",
      " [0.0000e+00 0.0000e+00 0.0000e+00 0.0000e+00 1.1600e+02 9.0000e+01 6.0000e+00 0.0000e+00 1.8700e+02 1.0000e+00 0.0000e+00 1.0000e+00 0.0000e+00 0.0000e+00 3.0000e+00 1.8000e+01 0.0000e+00 3.0000e+00\n",
      "  0.0000e+00 1.0000e+00 1.0000e+00 0.0000e+00 0.0000e+00 4.0000e+00 1.0000e+00 0.0000e+00 0.0000e+00 0.0000e+00 4.0000e+00 0.0000e+00 0.0000e+00 1.0000e+00 1.7000e+01 0.0000e+00 1.0000e+00 3.3000e+01\n",
      "  4.0000e+00 0.0000e+00 0.0000e+00 0.0000e+00 8.0000e+00 1.0000e+00 5.0000e+00 6.0000e+00 7.0000e+00 1.0000e+00 1.8400e+02 6.0000e+00 0.0000e+00 0.0000e+00 0.0000e+00 0.0000e+00 2.9000e+01 2.8900e+02\n",
      "  6.0000e+00 6.1000e+01 1.6000e+01 1.0000e+00 0.0000e+00 6.1000e+01 7.0000e+00 1.0000e+00]\n",
      " [0.0000e+00 0.0000e+00 0.0000e+00 0.0000e+00 5.0000e+00 8.0000e+00 1.0000e+00 0.0000e+00 7.0000e+00 3.0000e+00 0.0000e+00 0.0000e+00 0.0000e+00 0.0000e+00 0.0000e+00 0.0000e+00 0.0000e+00 0.0000e+00\n",
      "  0.0000e+00 0.0000e+00 0.0000e+00 0.0000e+00 0.0000e+00 0.0000e+00 0.0000e+00 0.0000e+00 0.0000e+00 0.0000e+00 0.0000e+00 0.0000e+00 0.0000e+00 0.0000e+00 1.0000e+00 0.0000e+00 0.0000e+00 0.0000e+00\n",
      "  0.0000e+00 0.0000e+00 0.0000e+00 0.0000e+00 1.0000e+00 0.0000e+00 0.0000e+00 0.0000e+00 0.0000e+00 0.0000e+00 1.2000e+01 0.0000e+00 0.0000e+00 0.0000e+00 0.0000e+00 0.0000e+00 1.0000e+00 1.9000e+01\n",
      "  0.0000e+00 2.0000e+00 0.0000e+00 0.0000e+00 0.0000e+00 5.0000e+00 0.0000e+00 0.0000e+00]\n",
      " [0.0000e+00 0.0000e+00 0.0000e+00 0.0000e+00 8.0000e+01 0.0000e+00 0.0000e+00 0.0000e+00 0.0000e+00 0.0000e+00 1.2400e+02 0.0000e+00 0.0000e+00 0.0000e+00 5.0000e+00 0.0000e+00 0.0000e+00 1.0000e+00\n",
      "  7.0000e+00 0.0000e+00 0.0000e+00 0.0000e+00 0.0000e+00 0.0000e+00 0.0000e+00 0.0000e+00 0.0000e+00 0.0000e+00 0.0000e+00 0.0000e+00 1.0000e+00 0.0000e+00 0.0000e+00 0.0000e+00 0.0000e+00 0.0000e+00\n",
      "  0.0000e+00 2.0000e+00 0.0000e+00 0.0000e+00 0.0000e+00 0.0000e+00 0.0000e+00 0.0000e+00 1.0000e+01 0.0000e+00 0.0000e+00 0.0000e+00 0.0000e+00 0.0000e+00 0.0000e+00 0.0000e+00 0.0000e+00 2.0000e+00\n",
      "  0.0000e+00 2.0000e+00 1.0000e+00 0.0000e+00 0.0000e+00 1.0000e+00 1.9000e+01 1.0000e+00]\n",
      " [0.0000e+00 0.0000e+00 0.0000e+00 0.0000e+00 2.1000e+01 1.0000e+00 0.0000e+00 0.0000e+00 0.0000e+00 0.0000e+00 1.0000e+00 3.0000e+00 0.0000e+00 0.0000e+00 1.0000e+00 0.0000e+00 0.0000e+00 0.0000e+00\n",
      "  3.0000e+00 1.0000e+00 0.0000e+00 0.0000e+00 0.0000e+00 0.0000e+00 0.0000e+00 0.0000e+00 0.0000e+00 0.0000e+00 0.0000e+00 0.0000e+00 0.0000e+00 0.0000e+00 1.0000e+00 0.0000e+00 0.0000e+00 0.0000e+00\n",
      "  0.0000e+00 1.0000e+00 0.0000e+00 0.0000e+00 1.0000e+00 0.0000e+00 0.0000e+00 0.0000e+00 3.0000e+00 0.0000e+00 1.0000e+00 0.0000e+00 0.0000e+00 0.0000e+00 0.0000e+00 1.0000e+00 1.0000e+00 2.0000e+00\n",
      "  0.0000e+00 0.0000e+00 0.0000e+00 0.0000e+00 0.0000e+00 0.0000e+00 7.0000e+00 0.0000e+00]\n",
      " [0.0000e+00 0.0000e+00 0.0000e+00 0.0000e+00 2.1000e+01 1.0000e+00 0.0000e+00 0.0000e+00 0.0000e+00 0.0000e+00 4.0000e+00 1.0000e+00 7.0000e+00 0.0000e+00 0.0000e+00 0.0000e+00 0.0000e+00 0.0000e+00\n",
      "  0.0000e+00 1.0000e+00 1.0000e+00 0.0000e+00 0.0000e+00 0.0000e+00 0.0000e+00 0.0000e+00 0.0000e+00 0.0000e+00 0.0000e+00 1.0000e+00 1.0000e+00 1.0000e+00 0.0000e+00 0.0000e+00 0.0000e+00 0.0000e+00\n",
      "  0.0000e+00 0.0000e+00 0.0000e+00 0.0000e+00 0.0000e+00 0.0000e+00 0.0000e+00 0.0000e+00 1.2000e+01 0.0000e+00 0.0000e+00 1.0000e+00 0.0000e+00 0.0000e+00 0.0000e+00 1.0000e+00 0.0000e+00 1.0000e+00\n",
      "  0.0000e+00 1.0000e+00 0.0000e+00 0.0000e+00 2.0000e+00 0.0000e+00 9.0000e+00 0.0000e+00]\n",
      " [0.0000e+00 0.0000e+00 1.0000e+00 0.0000e+00 7.0000e+00 1.0000e+00 2.0000e+00 0.0000e+00 1.0000e+00 0.0000e+00 0.0000e+00 0.0000e+00 0.0000e+00 2.0000e+00 0.0000e+00 3.0000e+00 0.0000e+00 2.0000e+00\n",
      "  0.0000e+00 0.0000e+00 2.0000e+00 0.0000e+00 0.0000e+00 0.0000e+00 0.0000e+00 0.0000e+00 0.0000e+00 0.0000e+00 0.0000e+00 0.0000e+00 0.0000e+00 0.0000e+00 0.0000e+00 0.0000e+00 0.0000e+00 1.0000e+00\n",
      "  0.0000e+00 0.0000e+00 0.0000e+00 0.0000e+00 1.0000e+00 0.0000e+00 0.0000e+00 0.0000e+00 1.0000e+00 0.0000e+00 2.0000e+00 0.0000e+00 0.0000e+00 0.0000e+00 0.0000e+00 0.0000e+00 2.0000e+00 3.0000e+00\n",
      "  0.0000e+00 1.0000e+00 1.0000e+00 0.0000e+00 0.0000e+00 0.0000e+00 0.0000e+00 0.0000e+00]\n",
      " [0.0000e+00 0.0000e+00 0.0000e+00 1.0000e+00 1.4600e+02 3.0000e+00 1.0000e+00 0.0000e+00 1.0000e+00 0.0000e+00 2.0000e+00 0.0000e+00 1.0000e+00 0.0000e+00 9.0000e+00 2.0000e+00 0.0000e+00 2.0000e+00\n",
      "  1.0000e+00 0.0000e+00 4.0000e+00 0.0000e+00 0.0000e+00 0.0000e+00 0.0000e+00 1.0000e+00 0.0000e+00 0.0000e+00 0.0000e+00 0.0000e+00 0.0000e+00 0.0000e+00 1.0000e+00 1.0000e+00 0.0000e+00 0.0000e+00\n",
      "  0.0000e+00 1.0000e+00 0.0000e+00 1.0000e+00 1.0000e+00 0.0000e+00 1.0000e+00 0.0000e+00 5.0000e+00 1.0000e+00 3.0000e+00 1.0000e+00 0.0000e+00 0.0000e+00 0.0000e+00 0.0000e+00 0.0000e+00 5.0000e+00\n",
      "  1.0000e+00 1.0000e+00 2.0000e+00 0.0000e+00 1.0000e+00 1.0000e+00 5.0000e+00 0.0000e+00]\n",
      " [0.0000e+00 0.0000e+00 0.0000e+00 0.0000e+00 2.4000e+01 6.0000e+00 2.0000e+00 0.0000e+00 1.5000e+01 1.0000e+00 1.0000e+00 0.0000e+00 0.0000e+00 0.0000e+00 0.0000e+00 3.4000e+01 1.0000e+00 1.0000e+01\n",
      "  0.0000e+00 0.0000e+00 2.0000e+00 0.0000e+00 0.0000e+00 6.0000e+00 0.0000e+00 0.0000e+00 0.0000e+00 0.0000e+00 0.0000e+00 0.0000e+00 0.0000e+00 0.0000e+00 4.0000e+00 0.0000e+00 1.0000e+00 3.0000e+00\n",
      "  0.0000e+00 0.0000e+00 0.0000e+00 1.0000e+00 1.0000e+00 1.0000e+00 0.0000e+00 1.0000e+00 0.0000e+00 0.0000e+00 3.0000e+01 0.0000e+00 0.0000e+00 1.0000e+00 0.0000e+00 0.0000e+00 5.0000e+00 8.3000e+01\n",
      "  3.0000e+00 5.0000e+00 4.0000e+00 0.0000e+00 0.0000e+00 1.0000e+01 0.0000e+00 0.0000e+00]\n",
      " [0.0000e+00 0.0000e+00 0.0000e+00 0.0000e+00 9.0000e+00 2.0000e+00 0.0000e+00 0.0000e+00 1.0000e+00 0.0000e+00 1.0000e+00 0.0000e+00 0.0000e+00 0.0000e+00 0.0000e+00 0.0000e+00 0.0000e+00 1.0000e+00\n",
      "  0.0000e+00 0.0000e+00 0.0000e+00 0.0000e+00 0.0000e+00 1.0000e+00 0.0000e+00 0.0000e+00 0.0000e+00 0.0000e+00 0.0000e+00 0.0000e+00 0.0000e+00 0.0000e+00 1.0000e+00 0.0000e+00 0.0000e+00 0.0000e+00\n",
      "  0.0000e+00 0.0000e+00 0.0000e+00 0.0000e+00 0.0000e+00 0.0000e+00 0.0000e+00 2.0000e+00 1.0000e+00 1.0000e+00 7.0000e+00 0.0000e+00 0.0000e+00 0.0000e+00 0.0000e+00 0.0000e+00 2.0000e+00 4.0000e+00\n",
      "  1.0000e+00 1.0000e+00 2.0000e+00 0.0000e+00 0.0000e+00 0.0000e+00 3.0000e+00 0.0000e+00]\n",
      " [0.0000e+00 0.0000e+00 0.0000e+00 0.0000e+00 2.3000e+01 4.0000e+00 2.0000e+00 0.0000e+00 9.0000e+00 0.0000e+00 0.0000e+00 0.0000e+00 0.0000e+00 1.0000e+00 1.0000e+00 1.2000e+01 0.0000e+00 2.6000e+01\n",
      "  0.0000e+00 0.0000e+00 2.0000e+00 0.0000e+00 0.0000e+00 7.0000e+00 2.0000e+00 2.0000e+00 0.0000e+00 0.0000e+00 1.0000e+00 0.0000e+00 1.0000e+00 1.0000e+00 2.0000e+00 0.0000e+00 0.0000e+00 1.0000e+00\n",
      "  2.0000e+00 0.0000e+00 0.0000e+00 0.0000e+00 3.0000e+00 0.0000e+00 0.0000e+00 2.0000e+00 0.0000e+00 0.0000e+00 8.0000e+00 0.0000e+00 0.0000e+00 0.0000e+00 0.0000e+00 0.0000e+00 6.0000e+00 3.5000e+01\n",
      "  0.0000e+00 9.0000e+00 1.0000e+00 0.0000e+00 0.0000e+00 1.0000e+00 1.0000e+00 1.0000e+00]\n",
      " [0.0000e+00 1.0000e+00 0.0000e+00 0.0000e+00 1.1300e+02 0.0000e+00 0.0000e+00 2.0000e+00 0.0000e+00 0.0000e+00 7.0000e+00 0.0000e+00 1.0000e+00 0.0000e+00 1.0000e+00 0.0000e+00 0.0000e+00 0.0000e+00\n",
      "  1.9000e+01 1.0000e+00 0.0000e+00 0.0000e+00 0.0000e+00 0.0000e+00 0.0000e+00 0.0000e+00 0.0000e+00 1.0000e+00 1.0000e+00 0.0000e+00 1.0000e+00 0.0000e+00 0.0000e+00 0.0000e+00 0.0000e+00 0.0000e+00\n",
      "  0.0000e+00 1.0000e+00 0.0000e+00 0.0000e+00 0.0000e+00 0.0000e+00 0.0000e+00 0.0000e+00 1.4000e+01 0.0000e+00 0.0000e+00 4.0000e+00 0.0000e+00 0.0000e+00 0.0000e+00 1.0000e+00 1.0000e+00 1.0000e+00\n",
      "  0.0000e+00 1.0000e+00 0.0000e+00 0.0000e+00 0.0000e+00 0.0000e+00 2.0000e+01 0.0000e+00]\n",
      " [0.0000e+00 0.0000e+00 1.0000e+00 0.0000e+00 1.3000e+01 0.0000e+00 0.0000e+00 0.0000e+00 0.0000e+00 1.0000e+00 0.0000e+00 0.0000e+00 0.0000e+00 0.0000e+00 0.0000e+00 0.0000e+00 0.0000e+00 0.0000e+00\n",
      "  0.0000e+00 3.0000e+00 1.0000e+00 0.0000e+00 0.0000e+00 0.0000e+00 0.0000e+00 0.0000e+00 0.0000e+00 0.0000e+00 0.0000e+00 1.0000e+00 3.0000e+00 0.0000e+00 0.0000e+00 0.0000e+00 0.0000e+00 0.0000e+00\n",
      "  0.0000e+00 0.0000e+00 0.0000e+00 0.0000e+00 0.0000e+00 0.0000e+00 0.0000e+00 0.0000e+00 2.0000e+00 1.0000e+00 0.0000e+00 0.0000e+00 1.0000e+00 0.0000e+00 0.0000e+00 1.0000e+00 1.0000e+00 1.0000e+00\n",
      "  0.0000e+00 2.0000e+00 1.0000e+00 0.0000e+00 1.0000e+00 0.0000e+00 2.0000e+00 1.0000e+00]\n",
      " [0.0000e+00 0.0000e+00 0.0000e+00 0.0000e+00 3.3000e+01 9.0000e+00 0.0000e+00 0.0000e+00 4.0000e+00 0.0000e+00 0.0000e+00 3.0000e+00 0.0000e+00 1.0000e+00 0.0000e+00 2.0000e+00 0.0000e+00 2.0000e+00\n",
      "  0.0000e+00 3.0000e+00 2.4000e+01 0.0000e+00 0.0000e+00 2.0000e+00 1.0000e+00 1.0000e+00 0.0000e+00 0.0000e+00 0.0000e+00 0.0000e+00 3.0000e+00 1.0000e+00 5.0000e+00 0.0000e+00 1.0000e+00 1.0000e+00\n",
      "  1.0000e+00 0.0000e+00 0.0000e+00 0.0000e+00 2.0000e+00 0.0000e+00 0.0000e+00 0.0000e+00 3.0000e+00 0.0000e+00 1.2000e+01 0.0000e+00 0.0000e+00 0.0000e+00 0.0000e+00 0.0000e+00 7.0000e+00 1.3000e+01\n",
      "  0.0000e+00 4.0000e+00 2.0000e+00 0.0000e+00 0.0000e+00 3.0000e+00 1.0000e+01 0.0000e+00]\n",
      " [0.0000e+00 0.0000e+00 0.0000e+00 0.0000e+00 7.0000e+00 0.0000e+00 0.0000e+00 1.0000e+00 0.0000e+00 0.0000e+00 0.0000e+00 0.0000e+00 0.0000e+00 0.0000e+00 2.0000e+00 0.0000e+00 0.0000e+00 0.0000e+00\n",
      "  0.0000e+00 0.0000e+00 1.0000e+00 0.0000e+00 0.0000e+00 0.0000e+00 0.0000e+00 0.0000e+00 0.0000e+00 0.0000e+00 0.0000e+00 0.0000e+00 0.0000e+00 0.0000e+00 0.0000e+00 0.0000e+00 0.0000e+00 0.0000e+00\n",
      "  0.0000e+00 0.0000e+00 0.0000e+00 0.0000e+00 1.0000e+00 0.0000e+00 0.0000e+00 0.0000e+00 1.0000e+00 0.0000e+00 0.0000e+00 0.0000e+00 0.0000e+00 0.0000e+00 0.0000e+00 0.0000e+00 0.0000e+00 1.0000e+00\n",
      "  0.0000e+00 0.0000e+00 0.0000e+00 0.0000e+00 0.0000e+00 0.0000e+00 0.0000e+00 0.0000e+00]\n",
      " [0.0000e+00 0.0000e+00 0.0000e+00 0.0000e+00 1.1000e+01 0.0000e+00 3.0000e+00 0.0000e+00 0.0000e+00 0.0000e+00 0.0000e+00 0.0000e+00 0.0000e+00 0.0000e+00 0.0000e+00 1.0000e+00 0.0000e+00 0.0000e+00\n",
      "  0.0000e+00 0.0000e+00 2.0000e+00 0.0000e+00 1.0000e+00 0.0000e+00 0.0000e+00 0.0000e+00 0.0000e+00 0.0000e+00 1.0000e+00 0.0000e+00 0.0000e+00 0.0000e+00 0.0000e+00 0.0000e+00 1.0000e+00 0.0000e+00\n",
      "  0.0000e+00 0.0000e+00 0.0000e+00 0.0000e+00 0.0000e+00 0.0000e+00 0.0000e+00 0.0000e+00 1.0000e+00 0.0000e+00 2.0000e+00 0.0000e+00 0.0000e+00 0.0000e+00 0.0000e+00 0.0000e+00 0.0000e+00 4.0000e+00\n",
      "  0.0000e+00 2.0000e+00 0.0000e+00 0.0000e+00 0.0000e+00 1.0000e+00 0.0000e+00 0.0000e+00]\n",
      " [0.0000e+00 0.0000e+00 0.0000e+00 0.0000e+00 1.0000e+01 1.0000e+00 1.0000e+00 0.0000e+00 4.0000e+00 0.0000e+00 1.0000e+00 0.0000e+00 0.0000e+00 0.0000e+00 0.0000e+00 3.0000e+00 0.0000e+00 1.0000e+01\n",
      "  0.0000e+00 0.0000e+00 5.0000e+00 0.0000e+00 0.0000e+00 6.0000e+00 1.0000e+00 0.0000e+00 0.0000e+00 1.0000e+00 0.0000e+00 1.0000e+00 0.0000e+00 0.0000e+00 0.0000e+00 0.0000e+00 0.0000e+00 2.0000e+00\n",
      "  0.0000e+00 0.0000e+00 0.0000e+00 0.0000e+00 0.0000e+00 0.0000e+00 1.0000e+00 1.0000e+00 1.0000e+00 0.0000e+00 1.9000e+01 0.0000e+00 0.0000e+00 0.0000e+00 0.0000e+00 0.0000e+00 3.0000e+00 2.7000e+01\n",
      "  2.0000e+00 3.0000e+00 0.0000e+00 1.0000e+00 0.0000e+00 3.0000e+00 0.0000e+00 0.0000e+00]\n",
      " [0.0000e+00 0.0000e+00 0.0000e+00 0.0000e+00 2.0000e+00 0.0000e+00 0.0000e+00 0.0000e+00 1.0000e+00 0.0000e+00 0.0000e+00 0.0000e+00 0.0000e+00 0.0000e+00 0.0000e+00 0.0000e+00 0.0000e+00 0.0000e+00\n",
      "  0.0000e+00 0.0000e+00 0.0000e+00 0.0000e+00 0.0000e+00 1.0000e+00 0.0000e+00 0.0000e+00 0.0000e+00 0.0000e+00 0.0000e+00 0.0000e+00 0.0000e+00 0.0000e+00 0.0000e+00 0.0000e+00 0.0000e+00 0.0000e+00\n",
      "  1.0000e+00 0.0000e+00 0.0000e+00 0.0000e+00 0.0000e+00 0.0000e+00 0.0000e+00 0.0000e+00 0.0000e+00 0.0000e+00 2.0000e+00 0.0000e+00 0.0000e+00 0.0000e+00 0.0000e+00 0.0000e+00 0.0000e+00 2.0000e+00\n",
      "  0.0000e+00 1.0000e+00 0.0000e+00 0.0000e+00 0.0000e+00 0.0000e+00 0.0000e+00 0.0000e+00]\n",
      " [0.0000e+00 0.0000e+00 0.0000e+00 0.0000e+00 3.8000e+01 0.0000e+00 0.0000e+00 0.0000e+00 1.0000e+00 0.0000e+00 1.0000e+00 0.0000e+00 0.0000e+00 0.0000e+00 1.0000e+00 1.0000e+00 0.0000e+00 0.0000e+00\n",
      "  0.0000e+00 0.0000e+00 0.0000e+00 0.0000e+00 0.0000e+00 0.0000e+00 0.0000e+00 1.1000e+01 0.0000e+00 0.0000e+00 0.0000e+00 1.0000e+00 0.0000e+00 0.0000e+00 0.0000e+00 0.0000e+00 0.0000e+00 0.0000e+00\n",
      "  0.0000e+00 0.0000e+00 0.0000e+00 0.0000e+00 0.0000e+00 0.0000e+00 0.0000e+00 0.0000e+00 1.1000e+01 0.0000e+00 0.0000e+00 0.0000e+00 0.0000e+00 0.0000e+00 0.0000e+00 0.0000e+00 2.0000e+00 2.0000e+00\n",
      "  0.0000e+00 1.0000e+00 0.0000e+00 0.0000e+00 0.0000e+00 0.0000e+00 0.0000e+00 0.0000e+00]\n",
      " [0.0000e+00 0.0000e+00 0.0000e+00 0.0000e+00 3.0000e+00 0.0000e+00 0.0000e+00 1.0000e+00 1.0000e+00 0.0000e+00 0.0000e+00 0.0000e+00 0.0000e+00 0.0000e+00 1.0000e+00 0.0000e+00 0.0000e+00 0.0000e+00\n",
      "  0.0000e+00 0.0000e+00 1.0000e+00 0.0000e+00 0.0000e+00 0.0000e+00 0.0000e+00 0.0000e+00 0.0000e+00 0.0000e+00 0.0000e+00 0.0000e+00 0.0000e+00 0.0000e+00 0.0000e+00 0.0000e+00 0.0000e+00 1.0000e+00\n",
      "  0.0000e+00 1.0000e+00 0.0000e+00 0.0000e+00 0.0000e+00 0.0000e+00 0.0000e+00 0.0000e+00 1.0000e+00 0.0000e+00 1.0000e+00 0.0000e+00 0.0000e+00 0.0000e+00 0.0000e+00 0.0000e+00 0.0000e+00 0.0000e+00\n",
      "  0.0000e+00 0.0000e+00 1.0000e+00 0.0000e+00 0.0000e+00 0.0000e+00 3.0000e+00 0.0000e+00]\n",
      " [0.0000e+00 0.0000e+00 1.0000e+00 0.0000e+00 1.5000e+01 0.0000e+00 0.0000e+00 0.0000e+00 0.0000e+00 0.0000e+00 1.0000e+00 0.0000e+00 0.0000e+00 0.0000e+00 1.0000e+00 0.0000e+00 0.0000e+00 0.0000e+00\n",
      "  0.0000e+00 0.0000e+00 1.0000e+00 0.0000e+00 0.0000e+00 0.0000e+00 0.0000e+00 0.0000e+00 0.0000e+00 3.0000e+00 0.0000e+00 0.0000e+00 0.0000e+00 0.0000e+00 0.0000e+00 0.0000e+00 0.0000e+00 0.0000e+00\n",
      "  0.0000e+00 0.0000e+00 0.0000e+00 0.0000e+00 0.0000e+00 0.0000e+00 0.0000e+00 0.0000e+00 1.0000e+00 0.0000e+00 3.0000e+00 1.0000e+00 0.0000e+00 0.0000e+00 0.0000e+00 0.0000e+00 0.0000e+00 2.0000e+00\n",
      "  0.0000e+00 0.0000e+00 0.0000e+00 0.0000e+00 0.0000e+00 0.0000e+00 1.0000e+00 0.0000e+00]\n",
      " [0.0000e+00 0.0000e+00 0.0000e+00 0.0000e+00 5.9000e+01 0.0000e+00 2.0000e+00 0.0000e+00 0.0000e+00 0.0000e+00 0.0000e+00 0.0000e+00 0.0000e+00 1.0000e+00 0.0000e+00 0.0000e+00 0.0000e+00 0.0000e+00\n",
      "  0.0000e+00 0.0000e+00 0.0000e+00 0.0000e+00 1.0000e+00 0.0000e+00 0.0000e+00 0.0000e+00 0.0000e+00 0.0000e+00 5.8000e+01 0.0000e+00 0.0000e+00 0.0000e+00 0.0000e+00 0.0000e+00 1.0000e+00 1.0000e+00\n",
      "  1.0000e+00 1.0000e+00 0.0000e+00 0.0000e+00 0.0000e+00 0.0000e+00 3.0000e+00 0.0000e+00 2.0000e+00 0.0000e+00 8.0000e+00 5.0000e+00 0.0000e+00 0.0000e+00 0.0000e+00 0.0000e+00 4.0000e+00 8.0000e+00\n",
      "  0.0000e+00 2.0000e+00 0.0000e+00 0.0000e+00 0.0000e+00 0.0000e+00 2.0000e+00 0.0000e+00]\n",
      " [0.0000e+00 0.0000e+00 0.0000e+00 0.0000e+00 9.0000e+00 2.0000e+00 2.0000e+00 0.0000e+00 0.0000e+00 0.0000e+00 0.0000e+00 1.0000e+00 0.0000e+00 0.0000e+00 0.0000e+00 0.0000e+00 0.0000e+00 0.0000e+00\n",
      "  0.0000e+00 0.0000e+00 2.0000e+00 0.0000e+00 0.0000e+00 1.0000e+00 0.0000e+00 0.0000e+00 0.0000e+00 0.0000e+00 0.0000e+00 2.0000e+00 0.0000e+00 0.0000e+00 0.0000e+00 0.0000e+00 5.0000e+00 0.0000e+00\n",
      "  0.0000e+00 0.0000e+00 0.0000e+00 0.0000e+00 0.0000e+00 0.0000e+00 1.0000e+00 0.0000e+00 0.0000e+00 0.0000e+00 0.0000e+00 0.0000e+00 0.0000e+00 0.0000e+00 0.0000e+00 0.0000e+00 0.0000e+00 2.0000e+00\n",
      "  0.0000e+00 3.0000e+00 0.0000e+00 0.0000e+00 0.0000e+00 2.0000e+00 1.0000e+00 0.0000e+00]\n",
      " [0.0000e+00 0.0000e+00 0.0000e+00 0.0000e+00 4.5000e+01 6.0000e+00 2.0000e+00 0.0000e+00 4.0000e+00 0.0000e+00 3.0000e+00 3.0000e+00 1.0000e+00 0.0000e+00 1.0000e+00 0.0000e+00 0.0000e+00 0.0000e+00\n",
      "  3.0000e+00 1.0000e+00 4.0000e+00 0.0000e+00 0.0000e+00 0.0000e+00 0.0000e+00 0.0000e+00 0.0000e+00 0.0000e+00 0.0000e+00 0.0000e+00 1.1000e+01 2.0000e+00 6.0000e+00 0.0000e+00 0.0000e+00 1.0000e+00\n",
      "  0.0000e+00 0.0000e+00 0.0000e+00 0.0000e+00 1.0000e+00 0.0000e+00 0.0000e+00 0.0000e+00 8.0000e+00 0.0000e+00 8.0000e+00 1.0000e+00 0.0000e+00 0.0000e+00 0.0000e+00 2.0000e+00 1.0000e+00 6.0000e+00\n",
      "  1.0000e+00 1.0000e+00 1.0000e+00 0.0000e+00 1.0000e+00 2.0000e+00 9.0000e+00 3.0000e+00]\n",
      " [0.0000e+00 0.0000e+00 0.0000e+00 0.0000e+00 3.5000e+01 1.0000e+00 0.0000e+00 0.0000e+00 1.0000e+00 0.0000e+00 2.0000e+00 2.0000e+00 0.0000e+00 0.0000e+00 2.0000e+00 0.0000e+00 0.0000e+00 1.0000e+00\n",
      "  2.0000e+00 1.0000e+00 1.0000e+00 0.0000e+00 0.0000e+00 0.0000e+00 0.0000e+00 0.0000e+00 0.0000e+00 0.0000e+00 0.0000e+00 0.0000e+00 1.0000e+00 1.0000e+00 0.0000e+00 0.0000e+00 0.0000e+00 0.0000e+00\n",
      "  0.0000e+00 1.0000e+00 0.0000e+00 0.0000e+00 0.0000e+00 0.0000e+00 1.0000e+00 0.0000e+00 7.0000e+00 0.0000e+00 0.0000e+00 1.0000e+00 0.0000e+00 0.0000e+00 0.0000e+00 0.0000e+00 3.0000e+00 5.0000e+00\n",
      "  0.0000e+00 1.0000e+00 1.0000e+00 0.0000e+00 0.0000e+00 1.0000e+00 3.0000e+00 1.0000e+00]\n",
      " [0.0000e+00 0.0000e+00 0.0000e+00 0.0000e+00 3.4000e+01 2.3000e+01 0.0000e+00 0.0000e+00 2.1000e+01 1.0000e+00 0.0000e+00 0.0000e+00 0.0000e+00 0.0000e+00 2.0000e+00 5.0000e+00 0.0000e+00 0.0000e+00\n",
      "  0.0000e+00 0.0000e+00 6.0000e+00 0.0000e+00 0.0000e+00 1.0000e+00 0.0000e+00 0.0000e+00 0.0000e+00 0.0000e+00 0.0000e+00 0.0000e+00 1.0000e+00 0.0000e+00 5.7000e+01 0.0000e+00 0.0000e+00 6.0000e+00\n",
      "  1.0000e+00 0.0000e+00 0.0000e+00 0.0000e+00 2.5000e+01 0.0000e+00 1.0000e+00 0.0000e+00 0.0000e+00 0.0000e+00 3.8000e+01 0.0000e+00 0.0000e+00 0.0000e+00 0.0000e+00 0.0000e+00 5.0000e+00 3.7000e+01\n",
      "  2.0000e+00 3.0000e+00 3.0000e+00 2.0000e+00 0.0000e+00 1.2000e+01 3.0000e+00 1.0000e+00]\n",
      " [0.0000e+00 0.0000e+00 0.0000e+00 1.0000e+00 4.0000e+00 0.0000e+00 0.0000e+00 0.0000e+00 0.0000e+00 0.0000e+00 0.0000e+00 0.0000e+00 3.0000e+00 0.0000e+00 0.0000e+00 0.0000e+00 0.0000e+00 0.0000e+00\n",
      "  0.0000e+00 0.0000e+00 0.0000e+00 0.0000e+00 0.0000e+00 0.0000e+00 0.0000e+00 0.0000e+00 0.0000e+00 0.0000e+00 0.0000e+00 0.0000e+00 3.0000e+00 1.0000e+00 0.0000e+00 2.0000e+00 0.0000e+00 0.0000e+00\n",
      "  0.0000e+00 0.0000e+00 0.0000e+00 0.0000e+00 0.0000e+00 0.0000e+00 0.0000e+00 0.0000e+00 2.0000e+00 0.0000e+00 0.0000e+00 0.0000e+00 0.0000e+00 0.0000e+00 0.0000e+00 0.0000e+00 0.0000e+00 0.0000e+00\n",
      "  0.0000e+00 0.0000e+00 0.0000e+00 0.0000e+00 0.0000e+00 0.0000e+00 2.0000e+00 0.0000e+00]\n",
      " [0.0000e+00 0.0000e+00 0.0000e+00 0.0000e+00 2.4000e+01 4.0000e+00 1.0000e+01 1.0000e+00 3.0000e+00 0.0000e+00 0.0000e+00 0.0000e+00 0.0000e+00 0.0000e+00 0.0000e+00 0.0000e+00 0.0000e+00 0.0000e+00\n",
      "  0.0000e+00 0.0000e+00 0.0000e+00 0.0000e+00 0.0000e+00 0.0000e+00 0.0000e+00 0.0000e+00 0.0000e+00 1.0000e+00 1.0000e+00 0.0000e+00 0.0000e+00 1.0000e+00 1.0000e+00 0.0000e+00 2.1700e+02 1.0000e+00\n",
      "  0.0000e+00 1.0000e+00 0.0000e+00 0.0000e+00 0.0000e+00 0.0000e+00 0.0000e+00 0.0000e+00 9.0000e+00 0.0000e+00 0.0000e+00 3.0000e+00 0.0000e+00 0.0000e+00 0.0000e+00 0.0000e+00 2.0000e+00 1.1000e+01\n",
      "  0.0000e+00 1.5000e+01 0.0000e+00 1.0000e+00 0.0000e+00 0.0000e+00 1.0000e+00 0.0000e+00]\n",
      " [0.0000e+00 0.0000e+00 0.0000e+00 0.0000e+00 7.0000e+00 1.3000e+01 2.0000e+00 0.0000e+00 2.3000e+01 0.0000e+00 0.0000e+00 0.0000e+00 0.0000e+00 0.0000e+00 0.0000e+00 4.0000e+00 0.0000e+00 0.0000e+00\n",
      "  0.0000e+00 0.0000e+00 0.0000e+00 0.0000e+00 0.0000e+00 0.0000e+00 0.0000e+00 0.0000e+00 0.0000e+00 0.0000e+00 2.0000e+00 0.0000e+00 2.0000e+00 0.0000e+00 3.0000e+00 0.0000e+00 1.0000e+00 8.3000e+01\n",
      "  1.0000e+01 0.0000e+00 0.0000e+00 0.0000e+00 1.0000e+00 0.0000e+00 0.0000e+00 4.0000e+00 0.0000e+00 0.0000e+00 3.5500e+02 2.0000e+00 0.0000e+00 0.0000e+00 0.0000e+00 0.0000e+00 5.0000e+00 3.5000e+01\n",
      "  1.0000e+00 2.0000e+00 0.0000e+00 0.0000e+00 0.0000e+00 3.0000e+01 0.0000e+00 0.0000e+00]\n",
      " [0.0000e+00 0.0000e+00 0.0000e+00 0.0000e+00 3.0000e+00 1.0000e+00 0.0000e+00 0.0000e+00 7.0000e+00 1.0000e+00 0.0000e+00 0.0000e+00 0.0000e+00 0.0000e+00 1.0000e+00 2.0000e+00 0.0000e+00 1.0000e+00\n",
      "  0.0000e+00 0.0000e+00 0.0000e+00 0.0000e+00 0.0000e+00 0.0000e+00 0.0000e+00 0.0000e+00 0.0000e+00 0.0000e+00 0.0000e+00 0.0000e+00 0.0000e+00 0.0000e+00 0.0000e+00 0.0000e+00 0.0000e+00 1.1000e+01\n",
      "  2.9000e+01 0.0000e+00 0.0000e+00 0.0000e+00 0.0000e+00 0.0000e+00 0.0000e+00 0.0000e+00 0.0000e+00 0.0000e+00 1.2700e+02 0.0000e+00 0.0000e+00 0.0000e+00 0.0000e+00 0.0000e+00 0.0000e+00 2.8000e+01\n",
      "  0.0000e+00 0.0000e+00 0.0000e+00 0.0000e+00 0.0000e+00 1.6000e+01 0.0000e+00 0.0000e+00]\n",
      " [0.0000e+00 0.0000e+00 0.0000e+00 0.0000e+00 2.7000e+01 0.0000e+00 3.0000e+00 0.0000e+00 0.0000e+00 0.0000e+00 5.0000e+00 0.0000e+00 0.0000e+00 0.0000e+00 1.0000e+00 0.0000e+00 0.0000e+00 0.0000e+00\n",
      "  1.0000e+00 0.0000e+00 2.0000e+00 0.0000e+00 0.0000e+00 0.0000e+00 0.0000e+00 0.0000e+00 0.0000e+00 0.0000e+00 0.0000e+00 0.0000e+00 1.0000e+00 0.0000e+00 0.0000e+00 0.0000e+00 1.0000e+00 0.0000e+00\n",
      "  0.0000e+00 3.0000e+01 0.0000e+00 0.0000e+00 0.0000e+00 0.0000e+00 0.0000e+00 0.0000e+00 0.0000e+00 0.0000e+00 1.0000e+00 1.0000e+00 0.0000e+00 0.0000e+00 0.0000e+00 0.0000e+00 2.0000e+00 4.0000e+00\n",
      "  0.0000e+00 4.0000e+00 1.0000e+00 0.0000e+00 0.0000e+00 0.0000e+00 3.0000e+00 0.0000e+00]\n",
      " [0.0000e+00 0.0000e+00 0.0000e+00 0.0000e+00 2.0000e+00 0.0000e+00 0.0000e+00 0.0000e+00 0.0000e+00 0.0000e+00 0.0000e+00 0.0000e+00 0.0000e+00 0.0000e+00 0.0000e+00 0.0000e+00 0.0000e+00 0.0000e+00\n",
      "  0.0000e+00 0.0000e+00 0.0000e+00 0.0000e+00 0.0000e+00 0.0000e+00 0.0000e+00 0.0000e+00 0.0000e+00 0.0000e+00 0.0000e+00 0.0000e+00 0.0000e+00 0.0000e+00 0.0000e+00 0.0000e+00 0.0000e+00 0.0000e+00\n",
      "  0.0000e+00 0.0000e+00 0.0000e+00 0.0000e+00 0.0000e+00 0.0000e+00 0.0000e+00 0.0000e+00 0.0000e+00 0.0000e+00 0.0000e+00 0.0000e+00 0.0000e+00 0.0000e+00 0.0000e+00 0.0000e+00 0.0000e+00 0.0000e+00\n",
      "  0.0000e+00 0.0000e+00 1.0000e+00 0.0000e+00 0.0000e+00 0.0000e+00 0.0000e+00 0.0000e+00]\n",
      " [0.0000e+00 0.0000e+00 0.0000e+00 0.0000e+00 1.0000e+01 0.0000e+00 0.0000e+00 0.0000e+00 0.0000e+00 0.0000e+00 0.0000e+00 0.0000e+00 0.0000e+00 0.0000e+00 1.0000e+00 1.0000e+00 0.0000e+00 0.0000e+00\n",
      "  0.0000e+00 0.0000e+00 0.0000e+00 0.0000e+00 0.0000e+00 0.0000e+00 0.0000e+00 0.0000e+00 0.0000e+00 0.0000e+00 0.0000e+00 0.0000e+00 0.0000e+00 0.0000e+00 0.0000e+00 0.0000e+00 0.0000e+00 0.0000e+00\n",
      "  0.0000e+00 0.0000e+00 0.0000e+00 0.0000e+00 0.0000e+00 0.0000e+00 0.0000e+00 0.0000e+00 0.0000e+00 0.0000e+00 1.0000e+00 0.0000e+00 0.0000e+00 0.0000e+00 0.0000e+00 0.0000e+00 0.0000e+00 2.0000e+00\n",
      "  1.0000e+00 0.0000e+00 0.0000e+00 0.0000e+00 0.0000e+00 0.0000e+00 0.0000e+00 0.0000e+00]\n",
      " [0.0000e+00 0.0000e+00 0.0000e+00 0.0000e+00 1.4000e+01 2.0000e+00 0.0000e+00 0.0000e+00 4.0000e+00 0.0000e+00 0.0000e+00 0.0000e+00 0.0000e+00 0.0000e+00 2.0000e+00 3.0000e+00 0.0000e+00 1.0000e+00\n",
      "  0.0000e+00 1.0000e+00 2.0000e+00 0.0000e+00 0.0000e+00 1.0000e+00 0.0000e+00 0.0000e+00 0.0000e+00 0.0000e+00 0.0000e+00 0.0000e+00 1.0000e+00 0.0000e+00 1.6000e+01 0.0000e+00 0.0000e+00 1.0000e+00\n",
      "  2.0000e+00 0.0000e+00 0.0000e+00 0.0000e+00 4.3000e+01 0.0000e+00 0.0000e+00 0.0000e+00 1.0000e+00 0.0000e+00 1.7000e+01 0.0000e+00 0.0000e+00 0.0000e+00 0.0000e+00 0.0000e+00 0.0000e+00 1.0000e+01\n",
      "  2.0000e+00 2.0000e+00 1.0000e+00 0.0000e+00 0.0000e+00 5.0000e+00 1.0000e+00 2.0000e+00]\n",
      " [0.0000e+00 0.0000e+00 0.0000e+00 0.0000e+00 5.0000e+00 1.0000e+00 0.0000e+00 0.0000e+00 0.0000e+00 0.0000e+00 0.0000e+00 0.0000e+00 0.0000e+00 0.0000e+00 0.0000e+00 0.0000e+00 0.0000e+00 0.0000e+00\n",
      "  0.0000e+00 0.0000e+00 0.0000e+00 0.0000e+00 0.0000e+00 1.0000e+00 0.0000e+00 0.0000e+00 0.0000e+00 0.0000e+00 0.0000e+00 0.0000e+00 0.0000e+00 0.0000e+00 0.0000e+00 0.0000e+00 0.0000e+00 0.0000e+00\n",
      "  0.0000e+00 0.0000e+00 0.0000e+00 0.0000e+00 0.0000e+00 0.0000e+00 0.0000e+00 0.0000e+00 0.0000e+00 0.0000e+00 4.0000e+00 0.0000e+00 0.0000e+00 0.0000e+00 0.0000e+00 0.0000e+00 0.0000e+00 5.0000e+00\n",
      "  1.0000e+00 0.0000e+00 0.0000e+00 0.0000e+00 0.0000e+00 2.0000e+00 0.0000e+00 0.0000e+00]\n",
      " [0.0000e+00 0.0000e+00 0.0000e+00 0.0000e+00 1.4800e+02 2.0000e+00 4.0000e+00 1.0000e+00 1.4000e+01 1.0000e+00 0.0000e+00 0.0000e+00 0.0000e+00 0.0000e+00 3.0000e+00 3.0000e+00 0.0000e+00 1.0000e+00\n",
      "  1.0000e+00 0.0000e+00 1.0000e+00 0.0000e+00 0.0000e+00 0.0000e+00 0.0000e+00 1.0000e+00 0.0000e+00 0.0000e+00 2.0000e+00 0.0000e+00 0.0000e+00 2.0000e+00 2.0000e+00 0.0000e+00 1.0000e+00 5.0000e+00\n",
      "  0.0000e+00 0.0000e+00 0.0000e+00 0.0000e+00 3.0000e+00 0.0000e+00 1.1000e+01 2.0000e+00 3.0000e+00 0.0000e+00 1.4000e+01 5.0000e+00 0.0000e+00 0.0000e+00 0.0000e+00 0.0000e+00 8.0000e+00 2.1000e+01\n",
      "  0.0000e+00 3.0000e+00 0.0000e+00 0.0000e+00 0.0000e+00 3.0000e+00 2.0000e+00 0.0000e+00]\n",
      " [0.0000e+00 0.0000e+00 0.0000e+00 0.0000e+00 7.5000e+01 2.2000e+01 1.8000e+01 0.0000e+00 2.0000e+01 0.0000e+00 0.0000e+00 0.0000e+00 0.0000e+00 0.0000e+00 0.0000e+00 4.0000e+00 0.0000e+00 0.0000e+00\n",
      "  0.0000e+00 0.0000e+00 0.0000e+00 0.0000e+00 0.0000e+00 2.0000e+00 1.0000e+00 0.0000e+00 0.0000e+00 0.0000e+00 1.0000e+00 0.0000e+00 1.0000e+00 0.0000e+00 0.0000e+00 0.0000e+00 2.0000e+00 3.0000e+00\n",
      "  1.0000e+00 1.0000e+00 0.0000e+00 0.0000e+00 3.0000e+00 0.0000e+00 3.0000e+00 5.3000e+01 3.0000e+00 0.0000e+00 1.4000e+01 2.0000e+00 0.0000e+00 0.0000e+00 0.0000e+00 0.0000e+00 3.1000e+01 3.8000e+01\n",
      "  3.0000e+00 1.3000e+01 3.0000e+00 0.0000e+00 0.0000e+00 7.0000e+00 1.0000e+00 0.0000e+00]\n",
      " [0.0000e+00 1.0000e+00 0.0000e+00 0.0000e+00 2.3900e+02 2.0000e+00 0.0000e+00 4.0000e+00 2.0000e+00 0.0000e+00 1.0000e+01 0.0000e+00 3.0000e+00 0.0000e+00 6.0000e+00 1.0000e+00 0.0000e+00 0.0000e+00\n",
      "  8.0000e+00 2.0000e+00 1.0000e+00 0.0000e+00 0.0000e+00 0.0000e+00 0.0000e+00 5.0000e+00 0.0000e+00 0.0000e+00 1.0000e+00 0.0000e+00 0.0000e+00 0.0000e+00 0.0000e+00 0.0000e+00 2.0000e+00 0.0000e+00\n",
      "  0.0000e+00 4.0000e+00 0.0000e+00 0.0000e+00 3.0000e+00 0.0000e+00 0.0000e+00 0.0000e+00 1.3600e+02 0.0000e+00 1.0000e+00 7.0000e+00 0.0000e+00 0.0000e+00 0.0000e+00 0.0000e+00 3.0000e+00 7.0000e+00\n",
      "  0.0000e+00 1.6000e+01 0.0000e+00 0.0000e+00 0.0000e+00 1.0000e+00 1.6000e+01 1.0000e+00]\n",
      " [0.0000e+00 0.0000e+00 0.0000e+00 0.0000e+00 2.9000e+01 0.0000e+00 0.0000e+00 3.0000e+00 2.0000e+00 0.0000e+00 1.0000e+00 0.0000e+00 0.0000e+00 0.0000e+00 1.0000e+00 0.0000e+00 0.0000e+00 0.0000e+00\n",
      "  0.0000e+00 0.0000e+00 0.0000e+00 0.0000e+00 0.0000e+00 1.0000e+00 1.0000e+00 0.0000e+00 0.0000e+00 0.0000e+00 0.0000e+00 0.0000e+00 0.0000e+00 0.0000e+00 2.0000e+00 0.0000e+00 0.0000e+00 0.0000e+00\n",
      "  0.0000e+00 0.0000e+00 0.0000e+00 0.0000e+00 1.0000e+00 0.0000e+00 0.0000e+00 1.0000e+00 0.0000e+00 1.0000e+01 1.0000e+00 0.0000e+00 0.0000e+00 0.0000e+00 0.0000e+00 0.0000e+00 2.0000e+00 7.0000e+00\n",
      "  0.0000e+00 1.0000e+00 1.0000e+00 0.0000e+00 0.0000e+00 4.0000e+00 2.0000e+00 0.0000e+00]\n",
      " [0.0000e+00 0.0000e+00 0.0000e+00 0.0000e+00 2.4800e+02 5.8800e+02 1.9000e+01 0.0000e+00 1.0170e+03 2.2000e+01 4.0000e+00 0.0000e+00 1.0000e+00 3.0000e+00 1.2000e+01 1.0200e+02 6.0000e+00 2.3000e+01\n",
      "  1.0000e+00 0.0000e+00 2.7000e+01 0.0000e+00 1.0000e+00 5.6000e+01 5.0000e+00 2.0000e+00 1.0000e+00 0.0000e+00 2.0000e+01 1.0000e+00 1.6000e+01 0.0000e+00 2.0000e+02 0.0000e+00 1.4000e+01 1.5950e+03\n",
      "  4.8100e+02 0.0000e+00 0.0000e+00 2.0000e+00 7.0000e+01 1.0000e+00 3.7000e+01 2.6000e+01 1.8000e+01 1.3000e+01 3.2893e+04 4.2000e+01 1.0000e+00 0.0000e+00 1.0000e+00 0.0000e+00 1.3500e+02 2.4930e+03\n",
      "  1.1600e+02 1.1600e+02 6.1000e+01 3.0000e+00 0.0000e+00 1.6870e+03 1.1000e+01 3.0000e+00]\n",
      " [0.0000e+00 0.0000e+00 0.0000e+00 0.0000e+00 1.9900e+02 7.0000e+00 0.0000e+00 1.0000e+00 6.0000e+00 0.0000e+00 2.0000e+00 0.0000e+00 1.0000e+00 0.0000e+00 0.0000e+00 0.0000e+00 0.0000e+00 0.0000e+00\n",
      "  2.0000e+00 0.0000e+00 0.0000e+00 0.0000e+00 0.0000e+00 0.0000e+00 0.0000e+00 0.0000e+00 0.0000e+00 0.0000e+00 3.0000e+00 0.0000e+00 0.0000e+00 0.0000e+00 0.0000e+00 0.0000e+00 2.0000e+00 1.0000e+00\n",
      "  0.0000e+00 2.0000e+00 0.0000e+00 0.0000e+00 1.0000e+00 0.0000e+00 1.0000e+00 0.0000e+00 6.0000e+00 2.0000e+00 2.2000e+01 6.4000e+01 0.0000e+00 0.0000e+00 0.0000e+00 0.0000e+00 3.0000e+00 1.1000e+01\n",
      "  0.0000e+00 2.0000e+00 0.0000e+00 0.0000e+00 0.0000e+00 2.0000e+00 2.0000e+00 0.0000e+00]\n",
      " [0.0000e+00 0.0000e+00 0.0000e+00 0.0000e+00 5.0000e+00 0.0000e+00 0.0000e+00 0.0000e+00 0.0000e+00 0.0000e+00 0.0000e+00 1.0000e+00 0.0000e+00 0.0000e+00 0.0000e+00 0.0000e+00 0.0000e+00 0.0000e+00\n",
      "  0.0000e+00 0.0000e+00 0.0000e+00 0.0000e+00 0.0000e+00 0.0000e+00 0.0000e+00 0.0000e+00 0.0000e+00 0.0000e+00 0.0000e+00 0.0000e+00 1.0000e+00 0.0000e+00 0.0000e+00 0.0000e+00 0.0000e+00 0.0000e+00\n",
      "  0.0000e+00 0.0000e+00 0.0000e+00 0.0000e+00 0.0000e+00 0.0000e+00 0.0000e+00 0.0000e+00 1.0000e+00 0.0000e+00 0.0000e+00 1.0000e+00 0.0000e+00 0.0000e+00 0.0000e+00 0.0000e+00 0.0000e+00 0.0000e+00\n",
      "  0.0000e+00 0.0000e+00 0.0000e+00 0.0000e+00 0.0000e+00 0.0000e+00 1.0000e+00 0.0000e+00]\n",
      " [0.0000e+00 0.0000e+00 0.0000e+00 0.0000e+00 1.0000e+00 1.0000e+00 3.0000e+00 0.0000e+00 1.0000e+00 0.0000e+00 0.0000e+00 0.0000e+00 0.0000e+00 0.0000e+00 0.0000e+00 0.0000e+00 0.0000e+00 0.0000e+00\n",
      "  0.0000e+00 0.0000e+00 0.0000e+00 0.0000e+00 0.0000e+00 0.0000e+00 0.0000e+00 0.0000e+00 0.0000e+00 0.0000e+00 0.0000e+00 0.0000e+00 0.0000e+00 0.0000e+00 0.0000e+00 0.0000e+00 1.0000e+00 0.0000e+00\n",
      "  0.0000e+00 0.0000e+00 0.0000e+00 0.0000e+00 0.0000e+00 0.0000e+00 0.0000e+00 0.0000e+00 0.0000e+00 0.0000e+00 2.0000e+00 0.0000e+00 0.0000e+00 1.2000e+01 0.0000e+00 0.0000e+00 0.0000e+00 2.0000e+00\n",
      "  0.0000e+00 1.0000e+00 0.0000e+00 0.0000e+00 0.0000e+00 0.0000e+00 0.0000e+00 0.0000e+00]\n",
      " [0.0000e+00 0.0000e+00 0.0000e+00 0.0000e+00 8.0000e+00 0.0000e+00 1.0000e+00 0.0000e+00 0.0000e+00 0.0000e+00 0.0000e+00 0.0000e+00 0.0000e+00 0.0000e+00 0.0000e+00 0.0000e+00 0.0000e+00 0.0000e+00\n",
      "  0.0000e+00 0.0000e+00 0.0000e+00 0.0000e+00 0.0000e+00 0.0000e+00 0.0000e+00 0.0000e+00 0.0000e+00 0.0000e+00 0.0000e+00 0.0000e+00 0.0000e+00 0.0000e+00 0.0000e+00 0.0000e+00 0.0000e+00 0.0000e+00\n",
      "  0.0000e+00 0.0000e+00 0.0000e+00 0.0000e+00 0.0000e+00 0.0000e+00 0.0000e+00 0.0000e+00 1.0000e+00 0.0000e+00 0.0000e+00 1.0000e+00 0.0000e+00 0.0000e+00 0.0000e+00 0.0000e+00 0.0000e+00 2.0000e+00\n",
      "  0.0000e+00 0.0000e+00 0.0000e+00 0.0000e+00 0.0000e+00 1.0000e+00 0.0000e+00 1.0000e+00]\n",
      " [0.0000e+00 0.0000e+00 0.0000e+00 0.0000e+00 1.2000e+01 0.0000e+00 0.0000e+00 0.0000e+00 1.0000e+00 0.0000e+00 1.0000e+00 1.0000e+00 0.0000e+00 0.0000e+00 0.0000e+00 1.0000e+00 0.0000e+00 0.0000e+00\n",
      "  1.0000e+00 0.0000e+00 0.0000e+00 0.0000e+00 0.0000e+00 0.0000e+00 0.0000e+00 0.0000e+00 0.0000e+00 0.0000e+00 0.0000e+00 0.0000e+00 1.0000e+00 0.0000e+00 0.0000e+00 1.0000e+00 1.0000e+00 0.0000e+00\n",
      "  0.0000e+00 0.0000e+00 0.0000e+00 0.0000e+00 0.0000e+00 0.0000e+00 0.0000e+00 0.0000e+00 2.0000e+00 0.0000e+00 0.0000e+00 0.0000e+00 0.0000e+00 0.0000e+00 0.0000e+00 0.0000e+00 0.0000e+00 1.0000e+00\n",
      "  0.0000e+00 0.0000e+00 0.0000e+00 1.0000e+00 0.0000e+00 0.0000e+00 2.0000e+00 0.0000e+00]\n",
      " [0.0000e+00 0.0000e+00 0.0000e+00 0.0000e+00 1.6400e+02 7.9000e+01 2.4000e+01 3.0000e+00 4.6000e+01 1.0000e+00 1.0000e+00 0.0000e+00 0.0000e+00 1.0000e+00 5.0000e+00 7.0000e+00 1.0000e+00 4.0000e+00\n",
      "  1.0000e+00 1.0000e+00 2.0000e+00 0.0000e+00 0.0000e+00 1.0000e+00 0.0000e+00 0.0000e+00 0.0000e+00 0.0000e+00 3.0000e+00 1.0000e+00 2.0000e+00 0.0000e+00 5.0000e+00 0.0000e+00 1.1000e+01 6.0000e+00\n",
      "  3.0000e+00 0.0000e+00 0.0000e+00 0.0000e+00 5.0000e+00 0.0000e+00 6.0000e+00 1.6000e+01 9.0000e+00 0.0000e+00 2.1000e+01 2.0000e+00 0.0000e+00 0.0000e+00 0.0000e+00 0.0000e+00 2.0700e+02 1.3500e+02\n",
      "  1.0000e+00 4.9000e+01 2.0000e+00 1.0000e+00 0.0000e+00 1.4000e+01 4.0000e+00 1.0000e+00]\n",
      " [0.0000e+00 0.0000e+00 0.0000e+00 0.0000e+00 2.3800e+02 1.5800e+02 1.8000e+01 1.0000e+00 2.3000e+02 7.0000e+00 3.0000e+00 0.0000e+00 0.0000e+00 3.0000e+00 4.0000e+00 5.5000e+01 1.0000e+00 2.6000e+01\n",
      "  1.0000e+00 0.0000e+00 7.0000e+00 1.0000e+00 1.0000e+00 1.8000e+01 3.0000e+00 0.0000e+00 1.0000e+00 1.0000e+00 4.0000e+00 1.0000e+00 6.0000e+00 1.0000e+00 2.6000e+01 0.0000e+00 7.0000e+00 3.9000e+01\n",
      "  1.9000e+01 2.0000e+00 0.0000e+00 0.0000e+00 1.1000e+01 1.0000e+00 7.0000e+00 9.0000e+00 1.6000e+01 3.0000e+00 5.3100e+02 5.0000e+00 0.0000e+00 0.0000e+00 0.0000e+00 0.0000e+00 6.9000e+01 6.4500e+02\n",
      "  1.6000e+01 1.2600e+02 3.4000e+01 0.0000e+00 0.0000e+00 1.0000e+02 2.1000e+01 1.0000e+00]\n",
      " [0.0000e+00 0.0000e+00 0.0000e+00 0.0000e+00 1.4000e+01 8.0000e+00 0.0000e+00 0.0000e+00 9.0000e+00 0.0000e+00 0.0000e+00 0.0000e+00 0.0000e+00 0.0000e+00 0.0000e+00 5.0000e+00 0.0000e+00 0.0000e+00\n",
      "  0.0000e+00 0.0000e+00 0.0000e+00 0.0000e+00 0.0000e+00 0.0000e+00 0.0000e+00 0.0000e+00 0.0000e+00 0.0000e+00 0.0000e+00 0.0000e+00 0.0000e+00 0.0000e+00 1.0000e+00 0.0000e+00 1.0000e+00 2.0000e+00\n",
      "  3.0000e+00 1.0000e+00 0.0000e+00 0.0000e+00 2.0000e+00 0.0000e+00 1.0000e+00 1.0000e+00 0.0000e+00 0.0000e+00 3.7000e+01 0.0000e+00 0.0000e+00 0.0000e+00 0.0000e+00 0.0000e+00 4.0000e+00 3.5000e+01\n",
      "  2.1000e+01 7.0000e+00 4.0000e+00 1.0000e+00 0.0000e+00 5.0000e+00 4.0000e+00 0.0000e+00]\n",
      " [0.0000e+00 0.0000e+00 0.0000e+00 1.0000e+00 1.4400e+02 3.2000e+01 1.3000e+01 1.0000e+00 3.9000e+01 0.0000e+00 0.0000e+00 0.0000e+00 0.0000e+00 0.0000e+00 2.0000e+00 8.0000e+00 0.0000e+00 3.0000e+00\n",
      "  2.0000e+00 1.0000e+00 5.0000e+00 0.0000e+00 0.0000e+00 1.0000e+00 1.0000e+00 0.0000e+00 0.0000e+00 0.0000e+00 1.0000e+00 1.0000e+00 1.0000e+00 0.0000e+00 5.0000e+00 0.0000e+00 1.6000e+01 2.0000e+00\n",
      "  0.0000e+00 1.0000e+00 0.0000e+00 0.0000e+00 3.0000e+00 1.0000e+00 1.0000e+00 6.0000e+00 1.0000e+01 1.0000e+00 1.3000e+01 0.0000e+00 0.0000e+00 0.0000e+00 1.0000e+00 0.0000e+00 2.4000e+01 1.1400e+02\n",
      "  2.0000e+00 2.1400e+02 2.8000e+01 2.0000e+00 1.0000e+00 1.1000e+01 1.1000e+01 4.0000e+00]\n",
      " [0.0000e+00 0.0000e+00 0.0000e+00 0.0000e+00 2.6000e+01 8.0000e+00 4.0000e+00 0.0000e+00 1.1000e+01 0.0000e+00 0.0000e+00 0.0000e+00 0.0000e+00 2.0000e+00 1.0000e+00 7.0000e+00 0.0000e+00 2.0000e+00\n",
      "  0.0000e+00 1.0000e+00 1.0000e+00 0.0000e+00 0.0000e+00 2.0000e+00 0.0000e+00 1.0000e+00 0.0000e+00 0.0000e+00 0.0000e+00 0.0000e+00 0.0000e+00 0.0000e+00 4.0000e+00 0.0000e+00 1.0000e+00 0.0000e+00\n",
      "  1.0000e+00 0.0000e+00 0.0000e+00 0.0000e+00 0.0000e+00 0.0000e+00 0.0000e+00 2.0000e+00 4.0000e+00 0.0000e+00 1.1000e+01 1.0000e+00 0.0000e+00 0.0000e+00 0.0000e+00 0.0000e+00 1.0000e+00 4.3000e+01\n",
      "  0.0000e+00 3.1000e+01 9.0000e+00 0.0000e+00 0.0000e+00 4.0000e+00 8.0000e+00 0.0000e+00]\n",
      " [0.0000e+00 0.0000e+00 0.0000e+00 0.0000e+00 4.0000e+00 5.0000e+00 1.0000e+00 0.0000e+00 2.0000e+00 0.0000e+00 0.0000e+00 0.0000e+00 0.0000e+00 0.0000e+00 0.0000e+00 0.0000e+00 0.0000e+00 0.0000e+00\n",
      "  0.0000e+00 1.0000e+00 1.0000e+00 0.0000e+00 0.0000e+00 0.0000e+00 0.0000e+00 0.0000e+00 0.0000e+00 0.0000e+00 0.0000e+00 0.0000e+00 0.0000e+00 0.0000e+00 0.0000e+00 0.0000e+00 2.0000e+00 0.0000e+00\n",
      "  0.0000e+00 0.0000e+00 0.0000e+00 0.0000e+00 0.0000e+00 0.0000e+00 0.0000e+00 0.0000e+00 0.0000e+00 1.0000e+00 3.0000e+00 0.0000e+00 0.0000e+00 0.0000e+00 0.0000e+00 0.0000e+00 1.0000e+00 9.0000e+00\n",
      "  0.0000e+00 1.0000e+00 0.0000e+00 0.0000e+00 0.0000e+00 2.0000e+00 0.0000e+00 1.0000e+00]\n",
      " [0.0000e+00 0.0000e+00 0.0000e+00 1.0000e+00 1.5000e+01 2.0000e+00 0.0000e+00 0.0000e+00 1.0000e+00 0.0000e+00 0.0000e+00 1.0000e+00 1.0000e+00 0.0000e+00 0.0000e+00 0.0000e+00 0.0000e+00 0.0000e+00\n",
      "  0.0000e+00 3.0000e+00 2.0000e+00 0.0000e+00 0.0000e+00 0.0000e+00 0.0000e+00 0.0000e+00 0.0000e+00 0.0000e+00 0.0000e+00 0.0000e+00 5.0000e+00 1.0000e+00 2.0000e+00 1.0000e+00 1.0000e+00 0.0000e+00\n",
      "  1.0000e+00 0.0000e+00 0.0000e+00 0.0000e+00 1.0000e+00 0.0000e+00 0.0000e+00 0.0000e+00 1.0000e+00 0.0000e+00 0.0000e+00 0.0000e+00 0.0000e+00 0.0000e+00 0.0000e+00 0.0000e+00 0.0000e+00 1.0000e+00\n",
      "  0.0000e+00 4.0000e+00 0.0000e+00 0.0000e+00 0.0000e+00 3.0000e+00 7.0000e+00 1.0000e+00]\n",
      " [0.0000e+00 0.0000e+00 0.0000e+00 0.0000e+00 1.6000e+01 4.5000e+01 1.0000e+00 0.0000e+00 6.8000e+01 1.0000e+00 0.0000e+00 0.0000e+00 0.0000e+00 1.0000e+00 0.0000e+00 7.0000e+00 0.0000e+00 1.0000e+00\n",
      "  1.0000e+00 0.0000e+00 3.0000e+00 0.0000e+00 0.0000e+00 1.0000e+00 0.0000e+00 0.0000e+00 0.0000e+00 0.0000e+00 0.0000e+00 0.0000e+00 2.0000e+00 0.0000e+00 1.0000e+01 0.0000e+00 0.0000e+00 3.7000e+01\n",
      "  1.5000e+01 0.0000e+00 0.0000e+00 0.0000e+00 2.0000e+00 1.0000e+00 0.0000e+00 1.0000e+00 2.0000e+00 1.0000e+00 3.1600e+02 0.0000e+00 0.0000e+00 0.0000e+00 0.0000e+00 0.0000e+00 6.0000e+00 1.2200e+02\n",
      "  2.0000e+00 9.0000e+00 1.0000e+00 1.0000e+00 0.0000e+00 7.7000e+01 3.0000e+00 0.0000e+00]\n",
      " [1.0000e+00 0.0000e+00 0.0000e+00 0.0000e+00 2.5300e+02 4.0000e+00 1.0000e+00 2.0000e+00 8.0000e+00 1.0000e+00 1.7000e+01 0.0000e+00 3.0000e+00 0.0000e+00 9.0000e+00 3.0000e+00 0.0000e+00 0.0000e+00\n",
      "  1.3000e+01 1.0000e+00 4.0000e+00 0.0000e+00 1.0000e+00 0.0000e+00 0.0000e+00 1.0000e+00 0.0000e+00 0.0000e+00 0.0000e+00 0.0000e+00 3.0000e+00 1.0000e+00 2.0000e+00 2.0000e+00 0.0000e+00 1.0000e+00\n",
      "  0.0000e+00 0.0000e+00 0.0000e+00 0.0000e+00 2.0000e+00 0.0000e+00 3.0000e+00 1.0000e+00 1.5000e+01 2.0000e+00 1.3000e+01 2.0000e+00 0.0000e+00 0.0000e+00 1.0000e+00 0.0000e+00 4.0000e+00 2.4000e+01\n",
      "  2.0000e+00 1.1000e+01 3.0000e+00 0.0000e+00 1.0000e+00 5.0000e+00 4.0000e+02 6.0000e+00]\n",
      " [0.0000e+00 0.0000e+00 0.0000e+00 0.0000e+00 3.2000e+01 1.0000e+00 0.0000e+00 2.0000e+00 1.0000e+00 0.0000e+00 0.0000e+00 0.0000e+00 0.0000e+00 0.0000e+00 0.0000e+00 0.0000e+00 0.0000e+00 0.0000e+00\n",
      "  0.0000e+00 1.0000e+00 1.0000e+00 0.0000e+00 0.0000e+00 0.0000e+00 0.0000e+00 0.0000e+00 0.0000e+00 0.0000e+00 0.0000e+00 0.0000e+00 1.0000e+00 0.0000e+00 5.0000e+00 0.0000e+00 0.0000e+00 0.0000e+00\n",
      "  0.0000e+00 0.0000e+00 0.0000e+00 0.0000e+00 3.0000e+00 0.0000e+00 0.0000e+00 1.0000e+00 0.0000e+00 0.0000e+00 0.0000e+00 1.0000e+00 0.0000e+00 0.0000e+00 1.0000e+00 0.0000e+00 0.0000e+00 0.0000e+00\n",
      "  0.0000e+00 0.0000e+00 0.0000e+00 0.0000e+00 0.0000e+00 0.0000e+00 9.0000e+00 3.5000e+01]]\n"
     ]
    }
   ],
   "source": [
    "cm2 = confusion_matrix.numpy().copy()\n",
    "#cm2 = cm2.astype('int32')\n",
    "print(cm2)"
   ]
  },
  {
   "cell_type": "code",
   "execution_count": 41,
   "metadata": {},
   "outputs": [
    {
     "name": "stdout",
     "output_type": "stream",
     "text": [
      "tensor([1.1000e+01, 3.0000e+00, 4.0000e+01, 4.0000e+01, 6.2942e+04, 1.3600e+03,\n",
      "        3.4600e+02, 1.5500e+02, 1.1810e+03, 6.5000e+01, 2.5600e+02, 4.9000e+01,\n",
      "        6.6000e+01, 3.3000e+01, 2.0600e+02, 2.5500e+02, 4.0000e+01, 1.6600e+02,\n",
      "        1.9100e+02, 3.7000e+01, 1.5300e+02, 1.4000e+01, 3.0000e+01, 1.0700e+02,\n",
      "        1.0000e+01, 7.0000e+01, 1.5000e+01, 3.0000e+01, 1.5900e+02, 3.3000e+01,\n",
      "        1.3800e+02, 7.5000e+01, 2.9000e+02, 1.8000e+01, 3.0700e+02, 5.8500e+02,\n",
      "        2.2700e+02, 8.7000e+01, 3.0000e+00, 1.6000e+01, 1.3400e+02, 1.9000e+01,\n",
      "        2.6700e+02, 3.2500e+02, 4.8200e+02, 7.0000e+01, 4.2194e+04, 3.4200e+02,\n",
      "        1.0000e+01, 2.4000e+01, 1.5000e+01, 2.6000e+01, 8.4500e+02, 2.4770e+03,\n",
      "        1.6600e+02, 7.2700e+02, 1.8600e+02, 3.4000e+01, 5.5000e+01, 7.5300e+02,\n",
      "        8.2600e+02, 9.4000e+01])\n"
     ]
    }
   ],
   "source": [
    "print(confusion_matrix.sum(1))"
   ]
  },
  {
   "cell_type": "code",
   "execution_count": 42,
   "metadata": {},
   "outputs": [],
   "source": [
    "for row in range(len(cm2)):\n",
    "    for col in range(len(cm2[row])):\n",
    "        cm2[row, col] = (100 * cm2[row, col]) / (confusion_matrix.sum(1)[row])"
   ]
  },
  {
   "cell_type": "code",
   "execution_count": 43,
   "metadata": {},
   "outputs": [
    {
     "name": "stdout",
     "output_type": "stream",
     "text": [
      "[[0.0000e+00 0.0000e+00 0.0000e+00 0.0000e+00 3.6364e+01 0.0000e+00 0.0000e+00 0.0000e+00 0.0000e+00 0.0000e+00 0.0000e+00 0.0000e+00 9.0909e+00 0.0000e+00 9.0909e+00 0.0000e+00 0.0000e+00 0.0000e+00\n",
      "  9.0909e+00 0.0000e+00 0.0000e+00 0.0000e+00 0.0000e+00 0.0000e+00 0.0000e+00 0.0000e+00 0.0000e+00 0.0000e+00 0.0000e+00 0.0000e+00 0.0000e+00 0.0000e+00 0.0000e+00 0.0000e+00 0.0000e+00 0.0000e+00\n",
      "  0.0000e+00 0.0000e+00 0.0000e+00 0.0000e+00 0.0000e+00 0.0000e+00 0.0000e+00 0.0000e+00 0.0000e+00 0.0000e+00 0.0000e+00 0.0000e+00 0.0000e+00 0.0000e+00 0.0000e+00 0.0000e+00 0.0000e+00 0.0000e+00\n",
      "  0.0000e+00 9.0909e+00 0.0000e+00 0.0000e+00 0.0000e+00 0.0000e+00 2.7273e+01 0.0000e+00]\n",
      " [0.0000e+00 0.0000e+00 0.0000e+00 0.0000e+00 6.6667e+01 0.0000e+00 0.0000e+00 0.0000e+00 0.0000e+00 0.0000e+00 0.0000e+00 0.0000e+00 0.0000e+00 0.0000e+00 0.0000e+00 0.0000e+00 0.0000e+00 0.0000e+00\n",
      "  0.0000e+00 0.0000e+00 0.0000e+00 0.0000e+00 0.0000e+00 0.0000e+00 0.0000e+00 0.0000e+00 0.0000e+00 0.0000e+00 0.0000e+00 0.0000e+00 0.0000e+00 0.0000e+00 0.0000e+00 0.0000e+00 0.0000e+00 0.0000e+00\n",
      "  0.0000e+00 0.0000e+00 0.0000e+00 0.0000e+00 0.0000e+00 0.0000e+00 0.0000e+00 0.0000e+00 0.0000e+00 0.0000e+00 0.0000e+00 0.0000e+00 0.0000e+00 0.0000e+00 0.0000e+00 0.0000e+00 0.0000e+00 0.0000e+00\n",
      "  0.0000e+00 0.0000e+00 0.0000e+00 0.0000e+00 0.0000e+00 0.0000e+00 3.3333e+01 0.0000e+00]\n",
      " [0.0000e+00 0.0000e+00 7.5000e+00 0.0000e+00 6.7500e+01 0.0000e+00 0.0000e+00 2.5000e+00 0.0000e+00 0.0000e+00 5.0000e+00 0.0000e+00 0.0000e+00 0.0000e+00 2.5000e+00 0.0000e+00 0.0000e+00 0.0000e+00\n",
      "  2.5000e+00 0.0000e+00 0.0000e+00 0.0000e+00 0.0000e+00 0.0000e+00 0.0000e+00 0.0000e+00 0.0000e+00 0.0000e+00 0.0000e+00 0.0000e+00 0.0000e+00 0.0000e+00 0.0000e+00 0.0000e+00 2.5000e+00 0.0000e+00\n",
      "  0.0000e+00 0.0000e+00 0.0000e+00 0.0000e+00 0.0000e+00 0.0000e+00 2.5000e+00 0.0000e+00 5.0000e+00 0.0000e+00 0.0000e+00 0.0000e+00 0.0000e+00 0.0000e+00 0.0000e+00 0.0000e+00 0.0000e+00 0.0000e+00\n",
      "  0.0000e+00 0.0000e+00 0.0000e+00 0.0000e+00 0.0000e+00 0.0000e+00 2.5000e+00 0.0000e+00]\n",
      " [0.0000e+00 0.0000e+00 0.0000e+00 2.5000e+00 5.7500e+01 0.0000e+00 0.0000e+00 0.0000e+00 0.0000e+00 0.0000e+00 5.0000e+00 0.0000e+00 5.0000e+00 0.0000e+00 0.0000e+00 0.0000e+00 0.0000e+00 0.0000e+00\n",
      "  1.0000e+01 0.0000e+00 0.0000e+00 0.0000e+00 0.0000e+00 0.0000e+00 0.0000e+00 0.0000e+00 0.0000e+00 0.0000e+00 0.0000e+00 0.0000e+00 0.0000e+00 0.0000e+00 2.5000e+00 0.0000e+00 0.0000e+00 0.0000e+00\n",
      "  0.0000e+00 0.0000e+00 0.0000e+00 0.0000e+00 0.0000e+00 0.0000e+00 0.0000e+00 0.0000e+00 5.0000e+00 0.0000e+00 0.0000e+00 0.0000e+00 0.0000e+00 0.0000e+00 0.0000e+00 0.0000e+00 0.0000e+00 2.5000e+00\n",
      "  0.0000e+00 0.0000e+00 0.0000e+00 0.0000e+00 2.5000e+00 0.0000e+00 7.5000e+00 0.0000e+00]\n",
      " [4.7663e-03 3.1775e-03 5.8784e-02 3.4953e-02 7.7047e+01 6.8793e-01 6.1326e-01 1.9065e-01 1.2599e+00 2.0654e-02 4.9093e-01 5.7196e-02 4.7663e-02 2.3831e-02 1.1455e+00 3.3364e-01 2.0654e-02 2.0813e-01\n",
      "  7.3719e-01 5.7196e-02 2.2878e-01 1.7476e-02 2.7009e-02 1.3187e-01 6.3551e-03 1.2869e-01 9.5326e-03 2.8598e-02 3.4953e-01 1.5888e-02 1.2392e-01 7.7849e-02 2.6850e-01 6.3551e-03 2.4626e-01 2.4467e-01\n",
      "  5.2429e-02 8.7382e-02 0.0000e+00 9.5326e-03 1.9065e-01 4.7663e-03 5.5925e-01 3.3046e-01 2.2195e+00 8.1027e-02 1.4569e+00 9.9298e-01 6.3551e-03 1.1121e-02 2.0654e-02 2.2243e-02 1.2758e+00 3.4238e+00\n",
      "  1.0804e-01 1.3234e+00 2.2878e-01 1.5888e-02 3.9719e-02 4.9728e-01 1.9224e+00 1.6523e-01]\n",
      " [0.0000e+00 0.0000e+00 7.3529e-02 0.0000e+00 4.7794e+00 2.7721e+01 1.1029e+00 0.0000e+00 1.0368e+01 2.2059e-01 0.0000e+00 7.3529e-02 0.0000e+00 7.3529e-02 2.2059e-01 8.0882e-01 0.0000e+00 3.6765e-01\n",
      "  0.0000e+00 1.4706e-01 3.6765e-01 0.0000e+00 0.0000e+00 2.2059e-01 0.0000e+00 0.0000e+00 0.0000e+00 0.0000e+00 1.4706e-01 0.0000e+00 2.2059e-01 7.3529e-02 1.6176e+00 0.0000e+00 1.6912e+00 1.3971e+00\n",
      "  3.6765e-01 0.0000e+00 0.0000e+00 0.0000e+00 5.8824e-01 7.3529e-02 4.4118e-01 1.0294e+00 2.2059e-01 7.3529e-02 1.5368e+01 7.3529e-02 0.0000e+00 7.3529e-02 0.0000e+00 0.0000e+00 4.2647e+00 1.5221e+01\n",
      "  2.9412e-01 3.8971e+00 5.1471e-01 3.6765e-01 1.4706e-01 4.7794e+00 3.6765e-01 1.4706e-01]\n",
      " [0.0000e+00 0.0000e+00 0.0000e+00 0.0000e+00 1.5607e+01 1.7341e+00 4.6243e+01 0.0000e+00 2.6012e+00 0.0000e+00 0.0000e+00 0.0000e+00 0.0000e+00 0.0000e+00 1.1561e+00 0.0000e+00 0.0000e+00 2.8902e-01\n",
      "  0.0000e+00 0.0000e+00 1.1561e+00 0.0000e+00 5.7803e-01 5.7803e-01 0.0000e+00 0.0000e+00 0.0000e+00 2.8902e-01 2.8902e-01 0.0000e+00 0.0000e+00 2.8902e-01 2.8902e-01 0.0000e+00 1.7341e+00 2.8902e-01\n",
      "  0.0000e+00 2.8902e-01 0.0000e+00 0.0000e+00 2.8902e-01 0.0000e+00 0.0000e+00 2.0231e+00 5.7803e-01 0.0000e+00 3.1792e+00 0.0000e+00 0.0000e+00 1.7341e+00 0.0000e+00 0.0000e+00 4.3353e+00 7.5145e+00\n",
      "  0.0000e+00 4.9133e+00 8.6705e-01 0.0000e+00 0.0000e+00 1.1561e+00 0.0000e+00 0.0000e+00]\n",
      " [0.0000e+00 0.0000e+00 0.0000e+00 0.0000e+00 2.5806e+01 0.0000e+00 0.0000e+00 5.0323e+01 0.0000e+00 0.0000e+00 1.9355e+00 6.4516e-01 0.0000e+00 0.0000e+00 1.2903e+00 6.4516e-01 0.0000e+00 0.0000e+00\n",
      "  6.4516e-01 0.0000e+00 0.0000e+00 6.4516e-01 0.0000e+00 0.0000e+00 0.0000e+00 0.0000e+00 0.0000e+00 0.0000e+00 0.0000e+00 0.0000e+00 0.0000e+00 0.0000e+00 0.0000e+00 0.0000e+00 0.0000e+00 0.0000e+00\n",
      "  0.0000e+00 0.0000e+00 0.0000e+00 0.0000e+00 1.2903e+00 0.0000e+00 0.0000e+00 0.0000e+00 3.8710e+00 1.2903e+00 0.0000e+00 0.0000e+00 0.0000e+00 0.0000e+00 0.0000e+00 0.0000e+00 6.4516e-01 2.5806e+00\n",
      "  0.0000e+00 6.4516e-01 0.0000e+00 0.0000e+00 0.0000e+00 0.0000e+00 7.7419e+00 0.0000e+00]\n",
      " [0.0000e+00 0.0000e+00 0.0000e+00 0.0000e+00 9.8222e+00 7.6207e+00 5.0804e-01 0.0000e+00 1.5834e+01 8.4674e-02 0.0000e+00 8.4674e-02 0.0000e+00 0.0000e+00 2.5402e-01 1.5241e+00 0.0000e+00 2.5402e-01\n",
      "  0.0000e+00 8.4674e-02 8.4674e-02 0.0000e+00 0.0000e+00 3.3870e-01 8.4674e-02 0.0000e+00 0.0000e+00 0.0000e+00 3.3870e-01 0.0000e+00 0.0000e+00 8.4674e-02 1.4395e+00 0.0000e+00 8.4674e-02 2.7942e+00\n",
      "  3.3870e-01 0.0000e+00 0.0000e+00 0.0000e+00 6.7739e-01 8.4674e-02 4.2337e-01 5.0804e-01 5.9272e-01 8.4674e-02 1.5580e+01 5.0804e-01 0.0000e+00 0.0000e+00 0.0000e+00 0.0000e+00 2.4555e+00 2.4471e+01\n",
      "  5.0804e-01 5.1651e+00 1.3548e+00 8.4674e-02 0.0000e+00 5.1651e+00 5.9272e-01 8.4674e-02]\n",
      " [0.0000e+00 0.0000e+00 0.0000e+00 0.0000e+00 7.6923e+00 1.2308e+01 1.5385e+00 0.0000e+00 1.0769e+01 4.6154e+00 0.0000e+00 0.0000e+00 0.0000e+00 0.0000e+00 0.0000e+00 0.0000e+00 0.0000e+00 0.0000e+00\n",
      "  0.0000e+00 0.0000e+00 0.0000e+00 0.0000e+00 0.0000e+00 0.0000e+00 0.0000e+00 0.0000e+00 0.0000e+00 0.0000e+00 0.0000e+00 0.0000e+00 0.0000e+00 0.0000e+00 1.5385e+00 0.0000e+00 0.0000e+00 0.0000e+00\n",
      "  0.0000e+00 0.0000e+00 0.0000e+00 0.0000e+00 1.5385e+00 0.0000e+00 0.0000e+00 0.0000e+00 0.0000e+00 0.0000e+00 1.8462e+01 0.0000e+00 0.0000e+00 0.0000e+00 0.0000e+00 0.0000e+00 1.5385e+00 2.9231e+01\n",
      "  0.0000e+00 3.0769e+00 0.0000e+00 0.0000e+00 0.0000e+00 7.6923e+00 0.0000e+00 0.0000e+00]\n",
      " [0.0000e+00 0.0000e+00 0.0000e+00 0.0000e+00 3.1250e+01 0.0000e+00 0.0000e+00 0.0000e+00 0.0000e+00 0.0000e+00 4.8438e+01 0.0000e+00 0.0000e+00 0.0000e+00 1.9531e+00 0.0000e+00 0.0000e+00 3.9062e-01\n",
      "  2.7344e+00 0.0000e+00 0.0000e+00 0.0000e+00 0.0000e+00 0.0000e+00 0.0000e+00 0.0000e+00 0.0000e+00 0.0000e+00 0.0000e+00 0.0000e+00 3.9062e-01 0.0000e+00 0.0000e+00 0.0000e+00 0.0000e+00 0.0000e+00\n",
      "  0.0000e+00 7.8125e-01 0.0000e+00 0.0000e+00 0.0000e+00 0.0000e+00 0.0000e+00 0.0000e+00 3.9062e+00 0.0000e+00 0.0000e+00 0.0000e+00 0.0000e+00 0.0000e+00 0.0000e+00 0.0000e+00 0.0000e+00 7.8125e-01\n",
      "  0.0000e+00 7.8125e-01 3.9062e-01 0.0000e+00 0.0000e+00 3.9062e-01 7.4219e+00 3.9062e-01]\n",
      " [0.0000e+00 0.0000e+00 0.0000e+00 0.0000e+00 4.2857e+01 2.0408e+00 0.0000e+00 0.0000e+00 0.0000e+00 0.0000e+00 2.0408e+00 6.1224e+00 0.0000e+00 0.0000e+00 2.0408e+00 0.0000e+00 0.0000e+00 0.0000e+00\n",
      "  6.1224e+00 2.0408e+00 0.0000e+00 0.0000e+00 0.0000e+00 0.0000e+00 0.0000e+00 0.0000e+00 0.0000e+00 0.0000e+00 0.0000e+00 0.0000e+00 0.0000e+00 0.0000e+00 2.0408e+00 0.0000e+00 0.0000e+00 0.0000e+00\n",
      "  0.0000e+00 2.0408e+00 0.0000e+00 0.0000e+00 2.0408e+00 0.0000e+00 0.0000e+00 0.0000e+00 6.1224e+00 0.0000e+00 2.0408e+00 0.0000e+00 0.0000e+00 0.0000e+00 0.0000e+00 2.0408e+00 2.0408e+00 4.0816e+00\n",
      "  0.0000e+00 0.0000e+00 0.0000e+00 0.0000e+00 0.0000e+00 0.0000e+00 1.4286e+01 0.0000e+00]\n",
      " [0.0000e+00 0.0000e+00 0.0000e+00 0.0000e+00 3.1818e+01 1.5152e+00 0.0000e+00 0.0000e+00 0.0000e+00 0.0000e+00 6.0606e+00 1.5152e+00 1.0606e+01 0.0000e+00 0.0000e+00 0.0000e+00 0.0000e+00 0.0000e+00\n",
      "  0.0000e+00 1.5152e+00 1.5152e+00 0.0000e+00 0.0000e+00 0.0000e+00 0.0000e+00 0.0000e+00 0.0000e+00 0.0000e+00 0.0000e+00 1.5152e+00 1.5152e+00 1.5152e+00 0.0000e+00 0.0000e+00 0.0000e+00 0.0000e+00\n",
      "  0.0000e+00 0.0000e+00 0.0000e+00 0.0000e+00 0.0000e+00 0.0000e+00 0.0000e+00 0.0000e+00 1.8182e+01 0.0000e+00 0.0000e+00 1.5152e+00 0.0000e+00 0.0000e+00 0.0000e+00 1.5152e+00 0.0000e+00 1.5152e+00\n",
      "  0.0000e+00 1.5152e+00 0.0000e+00 0.0000e+00 3.0303e+00 0.0000e+00 1.3636e+01 0.0000e+00]\n",
      " [0.0000e+00 0.0000e+00 3.0303e+00 0.0000e+00 2.1212e+01 3.0303e+00 6.0606e+00 0.0000e+00 3.0303e+00 0.0000e+00 0.0000e+00 0.0000e+00 0.0000e+00 6.0606e+00 0.0000e+00 9.0909e+00 0.0000e+00 6.0606e+00\n",
      "  0.0000e+00 0.0000e+00 6.0606e+00 0.0000e+00 0.0000e+00 0.0000e+00 0.0000e+00 0.0000e+00 0.0000e+00 0.0000e+00 0.0000e+00 0.0000e+00 0.0000e+00 0.0000e+00 0.0000e+00 0.0000e+00 0.0000e+00 3.0303e+00\n",
      "  0.0000e+00 0.0000e+00 0.0000e+00 0.0000e+00 3.0303e+00 0.0000e+00 0.0000e+00 0.0000e+00 3.0303e+00 0.0000e+00 6.0606e+00 0.0000e+00 0.0000e+00 0.0000e+00 0.0000e+00 0.0000e+00 6.0606e+00 9.0909e+00\n",
      "  0.0000e+00 3.0303e+00 3.0303e+00 0.0000e+00 0.0000e+00 0.0000e+00 0.0000e+00 0.0000e+00]\n",
      " [0.0000e+00 0.0000e+00 0.0000e+00 4.8544e-01 7.0874e+01 1.4563e+00 4.8544e-01 0.0000e+00 4.8544e-01 0.0000e+00 9.7087e-01 0.0000e+00 4.8544e-01 0.0000e+00 4.3689e+00 9.7087e-01 0.0000e+00 9.7087e-01\n",
      "  4.8544e-01 0.0000e+00 1.9417e+00 0.0000e+00 0.0000e+00 0.0000e+00 0.0000e+00 4.8544e-01 0.0000e+00 0.0000e+00 0.0000e+00 0.0000e+00 0.0000e+00 0.0000e+00 4.8544e-01 4.8544e-01 0.0000e+00 0.0000e+00\n",
      "  0.0000e+00 4.8544e-01 0.0000e+00 4.8544e-01 4.8544e-01 0.0000e+00 4.8544e-01 0.0000e+00 2.4272e+00 4.8544e-01 1.4563e+00 4.8544e-01 0.0000e+00 0.0000e+00 0.0000e+00 0.0000e+00 0.0000e+00 2.4272e+00\n",
      "  4.8544e-01 4.8544e-01 9.7087e-01 0.0000e+00 4.8544e-01 4.8544e-01 2.4272e+00 0.0000e+00]\n",
      " [0.0000e+00 0.0000e+00 0.0000e+00 0.0000e+00 9.4118e+00 2.3529e+00 7.8431e-01 0.0000e+00 5.8824e+00 3.9216e-01 3.9216e-01 0.0000e+00 0.0000e+00 0.0000e+00 0.0000e+00 1.3333e+01 3.9216e-01 3.9216e+00\n",
      "  0.0000e+00 0.0000e+00 7.8431e-01 0.0000e+00 0.0000e+00 2.3529e+00 0.0000e+00 0.0000e+00 0.0000e+00 0.0000e+00 0.0000e+00 0.0000e+00 0.0000e+00 0.0000e+00 1.5686e+00 0.0000e+00 3.9216e-01 1.1765e+00\n",
      "  0.0000e+00 0.0000e+00 0.0000e+00 3.9216e-01 3.9216e-01 3.9216e-01 0.0000e+00 3.9216e-01 0.0000e+00 0.0000e+00 1.1765e+01 0.0000e+00 0.0000e+00 3.9216e-01 0.0000e+00 0.0000e+00 1.9608e+00 3.2549e+01\n",
      "  1.1765e+00 1.9608e+00 1.5686e+00 0.0000e+00 0.0000e+00 3.9216e+00 0.0000e+00 0.0000e+00]\n",
      " [0.0000e+00 0.0000e+00 0.0000e+00 0.0000e+00 2.2500e+01 5.0000e+00 0.0000e+00 0.0000e+00 2.5000e+00 0.0000e+00 2.5000e+00 0.0000e+00 0.0000e+00 0.0000e+00 0.0000e+00 0.0000e+00 0.0000e+00 2.5000e+00\n",
      "  0.0000e+00 0.0000e+00 0.0000e+00 0.0000e+00 0.0000e+00 2.5000e+00 0.0000e+00 0.0000e+00 0.0000e+00 0.0000e+00 0.0000e+00 0.0000e+00 0.0000e+00 0.0000e+00 2.5000e+00 0.0000e+00 0.0000e+00 0.0000e+00\n",
      "  0.0000e+00 0.0000e+00 0.0000e+00 0.0000e+00 0.0000e+00 0.0000e+00 0.0000e+00 5.0000e+00 2.5000e+00 2.5000e+00 1.7500e+01 0.0000e+00 0.0000e+00 0.0000e+00 0.0000e+00 0.0000e+00 5.0000e+00 1.0000e+01\n",
      "  2.5000e+00 2.5000e+00 5.0000e+00 0.0000e+00 0.0000e+00 0.0000e+00 7.5000e+00 0.0000e+00]\n",
      " [0.0000e+00 0.0000e+00 0.0000e+00 0.0000e+00 1.3855e+01 2.4096e+00 1.2048e+00 0.0000e+00 5.4217e+00 0.0000e+00 0.0000e+00 0.0000e+00 0.0000e+00 6.0241e-01 6.0241e-01 7.2289e+00 0.0000e+00 1.5663e+01\n",
      "  0.0000e+00 0.0000e+00 1.2048e+00 0.0000e+00 0.0000e+00 4.2169e+00 1.2048e+00 1.2048e+00 0.0000e+00 0.0000e+00 6.0241e-01 0.0000e+00 6.0241e-01 6.0241e-01 1.2048e+00 0.0000e+00 0.0000e+00 6.0241e-01\n",
      "  1.2048e+00 0.0000e+00 0.0000e+00 0.0000e+00 1.8072e+00 0.0000e+00 0.0000e+00 1.2048e+00 0.0000e+00 0.0000e+00 4.8193e+00 0.0000e+00 0.0000e+00 0.0000e+00 0.0000e+00 0.0000e+00 3.6145e+00 2.1084e+01\n",
      "  0.0000e+00 5.4217e+00 6.0241e-01 0.0000e+00 0.0000e+00 6.0241e-01 6.0241e-01 6.0241e-01]\n",
      " [0.0000e+00 5.2356e-01 0.0000e+00 0.0000e+00 5.9162e+01 0.0000e+00 0.0000e+00 1.0471e+00 0.0000e+00 0.0000e+00 3.6649e+00 0.0000e+00 5.2356e-01 0.0000e+00 5.2356e-01 0.0000e+00 0.0000e+00 0.0000e+00\n",
      "  9.9476e+00 5.2356e-01 0.0000e+00 0.0000e+00 0.0000e+00 0.0000e+00 0.0000e+00 0.0000e+00 0.0000e+00 5.2356e-01 5.2356e-01 0.0000e+00 5.2356e-01 0.0000e+00 0.0000e+00 0.0000e+00 0.0000e+00 0.0000e+00\n",
      "  0.0000e+00 5.2356e-01 0.0000e+00 0.0000e+00 0.0000e+00 0.0000e+00 0.0000e+00 0.0000e+00 7.3298e+00 0.0000e+00 0.0000e+00 2.0942e+00 0.0000e+00 0.0000e+00 0.0000e+00 5.2356e-01 5.2356e-01 5.2356e-01\n",
      "  0.0000e+00 5.2356e-01 0.0000e+00 0.0000e+00 0.0000e+00 0.0000e+00 1.0471e+01 0.0000e+00]\n",
      " [0.0000e+00 0.0000e+00 2.7027e+00 0.0000e+00 3.5135e+01 0.0000e+00 0.0000e+00 0.0000e+00 0.0000e+00 2.7027e+00 0.0000e+00 0.0000e+00 0.0000e+00 0.0000e+00 0.0000e+00 0.0000e+00 0.0000e+00 0.0000e+00\n",
      "  0.0000e+00 8.1081e+00 2.7027e+00 0.0000e+00 0.0000e+00 0.0000e+00 0.0000e+00 0.0000e+00 0.0000e+00 0.0000e+00 0.0000e+00 2.7027e+00 8.1081e+00 0.0000e+00 0.0000e+00 0.0000e+00 0.0000e+00 0.0000e+00\n",
      "  0.0000e+00 0.0000e+00 0.0000e+00 0.0000e+00 0.0000e+00 0.0000e+00 0.0000e+00 0.0000e+00 5.4054e+00 2.7027e+00 0.0000e+00 0.0000e+00 2.7027e+00 0.0000e+00 0.0000e+00 2.7027e+00 2.7027e+00 2.7027e+00\n",
      "  0.0000e+00 5.4054e+00 2.7027e+00 0.0000e+00 2.7027e+00 0.0000e+00 5.4054e+00 2.7027e+00]\n",
      " [0.0000e+00 0.0000e+00 0.0000e+00 0.0000e+00 2.1569e+01 5.8824e+00 0.0000e+00 0.0000e+00 2.6144e+00 0.0000e+00 0.0000e+00 1.9608e+00 0.0000e+00 6.5359e-01 0.0000e+00 1.3072e+00 0.0000e+00 1.3072e+00\n",
      "  0.0000e+00 1.9608e+00 1.5686e+01 0.0000e+00 0.0000e+00 1.3072e+00 6.5359e-01 6.5359e-01 0.0000e+00 0.0000e+00 0.0000e+00 0.0000e+00 1.9608e+00 6.5359e-01 3.2680e+00 0.0000e+00 6.5359e-01 6.5359e-01\n",
      "  6.5359e-01 0.0000e+00 0.0000e+00 0.0000e+00 1.3072e+00 0.0000e+00 0.0000e+00 0.0000e+00 1.9608e+00 0.0000e+00 7.8431e+00 0.0000e+00 0.0000e+00 0.0000e+00 0.0000e+00 0.0000e+00 4.5752e+00 8.4967e+00\n",
      "  0.0000e+00 2.6144e+00 1.3072e+00 0.0000e+00 0.0000e+00 1.9608e+00 6.5359e+00 0.0000e+00]\n",
      " [0.0000e+00 0.0000e+00 0.0000e+00 0.0000e+00 5.0000e+01 0.0000e+00 0.0000e+00 7.1429e+00 0.0000e+00 0.0000e+00 0.0000e+00 0.0000e+00 0.0000e+00 0.0000e+00 1.4286e+01 0.0000e+00 0.0000e+00 0.0000e+00\n",
      "  0.0000e+00 0.0000e+00 7.1429e+00 0.0000e+00 0.0000e+00 0.0000e+00 0.0000e+00 0.0000e+00 0.0000e+00 0.0000e+00 0.0000e+00 0.0000e+00 0.0000e+00 0.0000e+00 0.0000e+00 0.0000e+00 0.0000e+00 0.0000e+00\n",
      "  0.0000e+00 0.0000e+00 0.0000e+00 0.0000e+00 7.1429e+00 0.0000e+00 0.0000e+00 0.0000e+00 7.1429e+00 0.0000e+00 0.0000e+00 0.0000e+00 0.0000e+00 0.0000e+00 0.0000e+00 0.0000e+00 0.0000e+00 7.1429e+00\n",
      "  0.0000e+00 0.0000e+00 0.0000e+00 0.0000e+00 0.0000e+00 0.0000e+00 0.0000e+00 0.0000e+00]\n",
      " [0.0000e+00 0.0000e+00 0.0000e+00 0.0000e+00 3.6667e+01 0.0000e+00 1.0000e+01 0.0000e+00 0.0000e+00 0.0000e+00 0.0000e+00 0.0000e+00 0.0000e+00 0.0000e+00 0.0000e+00 3.3333e+00 0.0000e+00 0.0000e+00\n",
      "  0.0000e+00 0.0000e+00 6.6667e+00 0.0000e+00 3.3333e+00 0.0000e+00 0.0000e+00 0.0000e+00 0.0000e+00 0.0000e+00 3.3333e+00 0.0000e+00 0.0000e+00 0.0000e+00 0.0000e+00 0.0000e+00 3.3333e+00 0.0000e+00\n",
      "  0.0000e+00 0.0000e+00 0.0000e+00 0.0000e+00 0.0000e+00 0.0000e+00 0.0000e+00 0.0000e+00 3.3333e+00 0.0000e+00 6.6667e+00 0.0000e+00 0.0000e+00 0.0000e+00 0.0000e+00 0.0000e+00 0.0000e+00 1.3333e+01\n",
      "  0.0000e+00 6.6667e+00 0.0000e+00 0.0000e+00 0.0000e+00 3.3333e+00 0.0000e+00 0.0000e+00]\n",
      " [0.0000e+00 0.0000e+00 0.0000e+00 0.0000e+00 9.3458e+00 9.3458e-01 9.3458e-01 0.0000e+00 3.7383e+00 0.0000e+00 9.3458e-01 0.0000e+00 0.0000e+00 0.0000e+00 0.0000e+00 2.8037e+00 0.0000e+00 9.3458e+00\n",
      "  0.0000e+00 0.0000e+00 4.6729e+00 0.0000e+00 0.0000e+00 5.6075e+00 9.3458e-01 0.0000e+00 0.0000e+00 9.3458e-01 0.0000e+00 9.3458e-01 0.0000e+00 0.0000e+00 0.0000e+00 0.0000e+00 0.0000e+00 1.8692e+00\n",
      "  0.0000e+00 0.0000e+00 0.0000e+00 0.0000e+00 0.0000e+00 0.0000e+00 9.3458e-01 9.3458e-01 9.3458e-01 0.0000e+00 1.7757e+01 0.0000e+00 0.0000e+00 0.0000e+00 0.0000e+00 0.0000e+00 2.8037e+00 2.5234e+01\n",
      "  1.8692e+00 2.8037e+00 0.0000e+00 9.3458e-01 0.0000e+00 2.8037e+00 0.0000e+00 0.0000e+00]\n",
      " [0.0000e+00 0.0000e+00 0.0000e+00 0.0000e+00 2.0000e+01 0.0000e+00 0.0000e+00 0.0000e+00 1.0000e+01 0.0000e+00 0.0000e+00 0.0000e+00 0.0000e+00 0.0000e+00 0.0000e+00 0.0000e+00 0.0000e+00 0.0000e+00\n",
      "  0.0000e+00 0.0000e+00 0.0000e+00 0.0000e+00 0.0000e+00 1.0000e+01 0.0000e+00 0.0000e+00 0.0000e+00 0.0000e+00 0.0000e+00 0.0000e+00 0.0000e+00 0.0000e+00 0.0000e+00 0.0000e+00 0.0000e+00 0.0000e+00\n",
      "  1.0000e+01 0.0000e+00 0.0000e+00 0.0000e+00 0.0000e+00 0.0000e+00 0.0000e+00 0.0000e+00 0.0000e+00 0.0000e+00 2.0000e+01 0.0000e+00 0.0000e+00 0.0000e+00 0.0000e+00 0.0000e+00 0.0000e+00 2.0000e+01\n",
      "  0.0000e+00 1.0000e+01 0.0000e+00 0.0000e+00 0.0000e+00 0.0000e+00 0.0000e+00 0.0000e+00]\n",
      " [0.0000e+00 0.0000e+00 0.0000e+00 0.0000e+00 5.4286e+01 0.0000e+00 0.0000e+00 0.0000e+00 1.4286e+00 0.0000e+00 1.4286e+00 0.0000e+00 0.0000e+00 0.0000e+00 1.4286e+00 1.4286e+00 0.0000e+00 0.0000e+00\n",
      "  0.0000e+00 0.0000e+00 0.0000e+00 0.0000e+00 0.0000e+00 0.0000e+00 0.0000e+00 1.5714e+01 0.0000e+00 0.0000e+00 0.0000e+00 1.4286e+00 0.0000e+00 0.0000e+00 0.0000e+00 0.0000e+00 0.0000e+00 0.0000e+00\n",
      "  0.0000e+00 0.0000e+00 0.0000e+00 0.0000e+00 0.0000e+00 0.0000e+00 0.0000e+00 0.0000e+00 1.5714e+01 0.0000e+00 0.0000e+00 0.0000e+00 0.0000e+00 0.0000e+00 0.0000e+00 0.0000e+00 2.8571e+00 2.8571e+00\n",
      "  0.0000e+00 1.4286e+00 0.0000e+00 0.0000e+00 0.0000e+00 0.0000e+00 0.0000e+00 0.0000e+00]\n",
      " [0.0000e+00 0.0000e+00 0.0000e+00 0.0000e+00 2.0000e+01 0.0000e+00 0.0000e+00 6.6667e+00 6.6667e+00 0.0000e+00 0.0000e+00 0.0000e+00 0.0000e+00 0.0000e+00 6.6667e+00 0.0000e+00 0.0000e+00 0.0000e+00\n",
      "  0.0000e+00 0.0000e+00 6.6667e+00 0.0000e+00 0.0000e+00 0.0000e+00 0.0000e+00 0.0000e+00 0.0000e+00 0.0000e+00 0.0000e+00 0.0000e+00 0.0000e+00 0.0000e+00 0.0000e+00 0.0000e+00 0.0000e+00 6.6667e+00\n",
      "  0.0000e+00 6.6667e+00 0.0000e+00 0.0000e+00 0.0000e+00 0.0000e+00 0.0000e+00 0.0000e+00 6.6667e+00 0.0000e+00 6.6667e+00 0.0000e+00 0.0000e+00 0.0000e+00 0.0000e+00 0.0000e+00 0.0000e+00 0.0000e+00\n",
      "  0.0000e+00 0.0000e+00 6.6667e+00 0.0000e+00 0.0000e+00 0.0000e+00 2.0000e+01 0.0000e+00]\n",
      " [0.0000e+00 0.0000e+00 3.3333e+00 0.0000e+00 5.0000e+01 0.0000e+00 0.0000e+00 0.0000e+00 0.0000e+00 0.0000e+00 3.3333e+00 0.0000e+00 0.0000e+00 0.0000e+00 3.3333e+00 0.0000e+00 0.0000e+00 0.0000e+00\n",
      "  0.0000e+00 0.0000e+00 3.3333e+00 0.0000e+00 0.0000e+00 0.0000e+00 0.0000e+00 0.0000e+00 0.0000e+00 1.0000e+01 0.0000e+00 0.0000e+00 0.0000e+00 0.0000e+00 0.0000e+00 0.0000e+00 0.0000e+00 0.0000e+00\n",
      "  0.0000e+00 0.0000e+00 0.0000e+00 0.0000e+00 0.0000e+00 0.0000e+00 0.0000e+00 0.0000e+00 3.3333e+00 0.0000e+00 1.0000e+01 3.3333e+00 0.0000e+00 0.0000e+00 0.0000e+00 0.0000e+00 0.0000e+00 6.6667e+00\n",
      "  0.0000e+00 0.0000e+00 0.0000e+00 0.0000e+00 0.0000e+00 0.0000e+00 3.3333e+00 0.0000e+00]\n",
      " [0.0000e+00 0.0000e+00 0.0000e+00 0.0000e+00 3.7107e+01 0.0000e+00 1.2579e+00 0.0000e+00 0.0000e+00 0.0000e+00 0.0000e+00 0.0000e+00 0.0000e+00 6.2893e-01 0.0000e+00 0.0000e+00 0.0000e+00 0.0000e+00\n",
      "  0.0000e+00 0.0000e+00 0.0000e+00 0.0000e+00 6.2893e-01 0.0000e+00 0.0000e+00 0.0000e+00 0.0000e+00 0.0000e+00 3.6478e+01 0.0000e+00 0.0000e+00 0.0000e+00 0.0000e+00 0.0000e+00 6.2893e-01 6.2893e-01\n",
      "  6.2893e-01 6.2893e-01 0.0000e+00 0.0000e+00 0.0000e+00 0.0000e+00 1.8868e+00 0.0000e+00 1.2579e+00 0.0000e+00 5.0314e+00 3.1447e+00 0.0000e+00 0.0000e+00 0.0000e+00 0.0000e+00 2.5157e+00 5.0314e+00\n",
      "  0.0000e+00 1.2579e+00 0.0000e+00 0.0000e+00 0.0000e+00 0.0000e+00 1.2579e+00 0.0000e+00]\n",
      " [0.0000e+00 0.0000e+00 0.0000e+00 0.0000e+00 2.7273e+01 6.0606e+00 6.0606e+00 0.0000e+00 0.0000e+00 0.0000e+00 0.0000e+00 3.0303e+00 0.0000e+00 0.0000e+00 0.0000e+00 0.0000e+00 0.0000e+00 0.0000e+00\n",
      "  0.0000e+00 0.0000e+00 6.0606e+00 0.0000e+00 0.0000e+00 3.0303e+00 0.0000e+00 0.0000e+00 0.0000e+00 0.0000e+00 0.0000e+00 6.0606e+00 0.0000e+00 0.0000e+00 0.0000e+00 0.0000e+00 1.5152e+01 0.0000e+00\n",
      "  0.0000e+00 0.0000e+00 0.0000e+00 0.0000e+00 0.0000e+00 0.0000e+00 3.0303e+00 0.0000e+00 0.0000e+00 0.0000e+00 0.0000e+00 0.0000e+00 0.0000e+00 0.0000e+00 0.0000e+00 0.0000e+00 0.0000e+00 6.0606e+00\n",
      "  0.0000e+00 9.0909e+00 0.0000e+00 0.0000e+00 0.0000e+00 6.0606e+00 3.0303e+00 0.0000e+00]\n",
      " [0.0000e+00 0.0000e+00 0.0000e+00 0.0000e+00 3.2609e+01 4.3478e+00 1.4493e+00 0.0000e+00 2.8986e+00 0.0000e+00 2.1739e+00 2.1739e+00 7.2464e-01 0.0000e+00 7.2464e-01 0.0000e+00 0.0000e+00 0.0000e+00\n",
      "  2.1739e+00 7.2464e-01 2.8986e+00 0.0000e+00 0.0000e+00 0.0000e+00 0.0000e+00 0.0000e+00 0.0000e+00 0.0000e+00 0.0000e+00 0.0000e+00 7.9710e+00 1.4493e+00 4.3478e+00 0.0000e+00 0.0000e+00 7.2464e-01\n",
      "  0.0000e+00 0.0000e+00 0.0000e+00 0.0000e+00 7.2464e-01 0.0000e+00 0.0000e+00 0.0000e+00 5.7971e+00 0.0000e+00 5.7971e+00 7.2464e-01 0.0000e+00 0.0000e+00 0.0000e+00 1.4493e+00 7.2464e-01 4.3478e+00\n",
      "  7.2464e-01 7.2464e-01 7.2464e-01 0.0000e+00 7.2464e-01 1.4493e+00 6.5217e+00 2.1739e+00]\n",
      " [0.0000e+00 0.0000e+00 0.0000e+00 0.0000e+00 4.6667e+01 1.3333e+00 0.0000e+00 0.0000e+00 1.3333e+00 0.0000e+00 2.6667e+00 2.6667e+00 0.0000e+00 0.0000e+00 2.6667e+00 0.0000e+00 0.0000e+00 1.3333e+00\n",
      "  2.6667e+00 1.3333e+00 1.3333e+00 0.0000e+00 0.0000e+00 0.0000e+00 0.0000e+00 0.0000e+00 0.0000e+00 0.0000e+00 0.0000e+00 0.0000e+00 1.3333e+00 1.3333e+00 0.0000e+00 0.0000e+00 0.0000e+00 0.0000e+00\n",
      "  0.0000e+00 1.3333e+00 0.0000e+00 0.0000e+00 0.0000e+00 0.0000e+00 1.3333e+00 0.0000e+00 9.3333e+00 0.0000e+00 0.0000e+00 1.3333e+00 0.0000e+00 0.0000e+00 0.0000e+00 0.0000e+00 4.0000e+00 6.6667e+00\n",
      "  0.0000e+00 1.3333e+00 1.3333e+00 0.0000e+00 0.0000e+00 1.3333e+00 4.0000e+00 1.3333e+00]\n",
      " [0.0000e+00 0.0000e+00 0.0000e+00 0.0000e+00 1.1724e+01 7.9310e+00 0.0000e+00 0.0000e+00 7.2414e+00 3.4483e-01 0.0000e+00 0.0000e+00 0.0000e+00 0.0000e+00 6.8966e-01 1.7241e+00 0.0000e+00 0.0000e+00\n",
      "  0.0000e+00 0.0000e+00 2.0690e+00 0.0000e+00 0.0000e+00 3.4483e-01 0.0000e+00 0.0000e+00 0.0000e+00 0.0000e+00 0.0000e+00 0.0000e+00 3.4483e-01 0.0000e+00 1.9655e+01 0.0000e+00 0.0000e+00 2.0690e+00\n",
      "  3.4483e-01 0.0000e+00 0.0000e+00 0.0000e+00 8.6207e+00 0.0000e+00 3.4483e-01 0.0000e+00 0.0000e+00 0.0000e+00 1.3103e+01 0.0000e+00 0.0000e+00 0.0000e+00 0.0000e+00 0.0000e+00 1.7241e+00 1.2759e+01\n",
      "  6.8966e-01 1.0345e+00 1.0345e+00 6.8966e-01 0.0000e+00 4.1379e+00 1.0345e+00 3.4483e-01]\n",
      " [0.0000e+00 0.0000e+00 0.0000e+00 5.5556e+00 2.2222e+01 0.0000e+00 0.0000e+00 0.0000e+00 0.0000e+00 0.0000e+00 0.0000e+00 0.0000e+00 1.6667e+01 0.0000e+00 0.0000e+00 0.0000e+00 0.0000e+00 0.0000e+00\n",
      "  0.0000e+00 0.0000e+00 0.0000e+00 0.0000e+00 0.0000e+00 0.0000e+00 0.0000e+00 0.0000e+00 0.0000e+00 0.0000e+00 0.0000e+00 0.0000e+00 1.6667e+01 5.5556e+00 0.0000e+00 1.1111e+01 0.0000e+00 0.0000e+00\n",
      "  0.0000e+00 0.0000e+00 0.0000e+00 0.0000e+00 0.0000e+00 0.0000e+00 0.0000e+00 0.0000e+00 1.1111e+01 0.0000e+00 0.0000e+00 0.0000e+00 0.0000e+00 0.0000e+00 0.0000e+00 0.0000e+00 0.0000e+00 0.0000e+00\n",
      "  0.0000e+00 0.0000e+00 0.0000e+00 0.0000e+00 0.0000e+00 0.0000e+00 1.1111e+01 0.0000e+00]\n",
      " [0.0000e+00 0.0000e+00 0.0000e+00 0.0000e+00 7.8176e+00 1.3029e+00 3.2573e+00 3.2573e-01 9.7720e-01 0.0000e+00 0.0000e+00 0.0000e+00 0.0000e+00 0.0000e+00 0.0000e+00 0.0000e+00 0.0000e+00 0.0000e+00\n",
      "  0.0000e+00 0.0000e+00 0.0000e+00 0.0000e+00 0.0000e+00 0.0000e+00 0.0000e+00 0.0000e+00 0.0000e+00 3.2573e-01 3.2573e-01 0.0000e+00 0.0000e+00 3.2573e-01 3.2573e-01 0.0000e+00 7.0684e+01 3.2573e-01\n",
      "  0.0000e+00 3.2573e-01 0.0000e+00 0.0000e+00 0.0000e+00 0.0000e+00 0.0000e+00 0.0000e+00 2.9316e+00 0.0000e+00 0.0000e+00 9.7720e-01 0.0000e+00 0.0000e+00 0.0000e+00 0.0000e+00 6.5147e-01 3.5831e+00\n",
      "  0.0000e+00 4.8860e+00 0.0000e+00 3.2573e-01 0.0000e+00 0.0000e+00 3.2573e-01 0.0000e+00]\n",
      " [0.0000e+00 0.0000e+00 0.0000e+00 0.0000e+00 1.1966e+00 2.2222e+00 3.4188e-01 0.0000e+00 3.9316e+00 0.0000e+00 0.0000e+00 0.0000e+00 0.0000e+00 0.0000e+00 0.0000e+00 6.8376e-01 0.0000e+00 0.0000e+00\n",
      "  0.0000e+00 0.0000e+00 0.0000e+00 0.0000e+00 0.0000e+00 0.0000e+00 0.0000e+00 0.0000e+00 0.0000e+00 0.0000e+00 3.4188e-01 0.0000e+00 3.4188e-01 0.0000e+00 5.1282e-01 0.0000e+00 1.7094e-01 1.4188e+01\n",
      "  1.7094e+00 0.0000e+00 0.0000e+00 0.0000e+00 1.7094e-01 0.0000e+00 0.0000e+00 6.8376e-01 0.0000e+00 0.0000e+00 6.0684e+01 3.4188e-01 0.0000e+00 0.0000e+00 0.0000e+00 0.0000e+00 8.5470e-01 5.9829e+00\n",
      "  1.7094e-01 3.4188e-01 0.0000e+00 0.0000e+00 0.0000e+00 5.1282e+00 0.0000e+00 0.0000e+00]\n",
      " [0.0000e+00 0.0000e+00 0.0000e+00 0.0000e+00 1.3216e+00 4.4053e-01 0.0000e+00 0.0000e+00 3.0837e+00 4.4053e-01 0.0000e+00 0.0000e+00 0.0000e+00 0.0000e+00 4.4053e-01 8.8106e-01 0.0000e+00 4.4053e-01\n",
      "  0.0000e+00 0.0000e+00 0.0000e+00 0.0000e+00 0.0000e+00 0.0000e+00 0.0000e+00 0.0000e+00 0.0000e+00 0.0000e+00 0.0000e+00 0.0000e+00 0.0000e+00 0.0000e+00 0.0000e+00 0.0000e+00 0.0000e+00 4.8458e+00\n",
      "  1.2775e+01 0.0000e+00 0.0000e+00 0.0000e+00 0.0000e+00 0.0000e+00 0.0000e+00 0.0000e+00 0.0000e+00 0.0000e+00 5.5947e+01 0.0000e+00 0.0000e+00 0.0000e+00 0.0000e+00 0.0000e+00 0.0000e+00 1.2335e+01\n",
      "  0.0000e+00 0.0000e+00 0.0000e+00 0.0000e+00 0.0000e+00 7.0485e+00 0.0000e+00 0.0000e+00]\n",
      " [0.0000e+00 0.0000e+00 0.0000e+00 0.0000e+00 3.1034e+01 0.0000e+00 3.4483e+00 0.0000e+00 0.0000e+00 0.0000e+00 5.7471e+00 0.0000e+00 0.0000e+00 0.0000e+00 1.1494e+00 0.0000e+00 0.0000e+00 0.0000e+00\n",
      "  1.1494e+00 0.0000e+00 2.2989e+00 0.0000e+00 0.0000e+00 0.0000e+00 0.0000e+00 0.0000e+00 0.0000e+00 0.0000e+00 0.0000e+00 0.0000e+00 1.1494e+00 0.0000e+00 0.0000e+00 0.0000e+00 1.1494e+00 0.0000e+00\n",
      "  0.0000e+00 3.4483e+01 0.0000e+00 0.0000e+00 0.0000e+00 0.0000e+00 0.0000e+00 0.0000e+00 0.0000e+00 0.0000e+00 1.1494e+00 1.1494e+00 0.0000e+00 0.0000e+00 0.0000e+00 0.0000e+00 2.2989e+00 4.5977e+00\n",
      "  0.0000e+00 4.5977e+00 1.1494e+00 0.0000e+00 0.0000e+00 0.0000e+00 3.4483e+00 0.0000e+00]\n",
      " [0.0000e+00 0.0000e+00 0.0000e+00 0.0000e+00 6.6667e+01 0.0000e+00 0.0000e+00 0.0000e+00 0.0000e+00 0.0000e+00 0.0000e+00 0.0000e+00 0.0000e+00 0.0000e+00 0.0000e+00 0.0000e+00 0.0000e+00 0.0000e+00\n",
      "  0.0000e+00 0.0000e+00 0.0000e+00 0.0000e+00 0.0000e+00 0.0000e+00 0.0000e+00 0.0000e+00 0.0000e+00 0.0000e+00 0.0000e+00 0.0000e+00 0.0000e+00 0.0000e+00 0.0000e+00 0.0000e+00 0.0000e+00 0.0000e+00\n",
      "  0.0000e+00 0.0000e+00 0.0000e+00 0.0000e+00 0.0000e+00 0.0000e+00 0.0000e+00 0.0000e+00 0.0000e+00 0.0000e+00 0.0000e+00 0.0000e+00 0.0000e+00 0.0000e+00 0.0000e+00 0.0000e+00 0.0000e+00 0.0000e+00\n",
      "  0.0000e+00 0.0000e+00 3.3333e+01 0.0000e+00 0.0000e+00 0.0000e+00 0.0000e+00 0.0000e+00]\n",
      " [0.0000e+00 0.0000e+00 0.0000e+00 0.0000e+00 6.2500e+01 0.0000e+00 0.0000e+00 0.0000e+00 0.0000e+00 0.0000e+00 0.0000e+00 0.0000e+00 0.0000e+00 0.0000e+00 6.2500e+00 6.2500e+00 0.0000e+00 0.0000e+00\n",
      "  0.0000e+00 0.0000e+00 0.0000e+00 0.0000e+00 0.0000e+00 0.0000e+00 0.0000e+00 0.0000e+00 0.0000e+00 0.0000e+00 0.0000e+00 0.0000e+00 0.0000e+00 0.0000e+00 0.0000e+00 0.0000e+00 0.0000e+00 0.0000e+00\n",
      "  0.0000e+00 0.0000e+00 0.0000e+00 0.0000e+00 0.0000e+00 0.0000e+00 0.0000e+00 0.0000e+00 0.0000e+00 0.0000e+00 6.2500e+00 0.0000e+00 0.0000e+00 0.0000e+00 0.0000e+00 0.0000e+00 0.0000e+00 1.2500e+01\n",
      "  6.2500e+00 0.0000e+00 0.0000e+00 0.0000e+00 0.0000e+00 0.0000e+00 0.0000e+00 0.0000e+00]\n",
      " [0.0000e+00 0.0000e+00 0.0000e+00 0.0000e+00 1.0448e+01 1.4925e+00 0.0000e+00 0.0000e+00 2.9851e+00 0.0000e+00 0.0000e+00 0.0000e+00 0.0000e+00 0.0000e+00 1.4925e+00 2.2388e+00 0.0000e+00 7.4627e-01\n",
      "  0.0000e+00 7.4627e-01 1.4925e+00 0.0000e+00 0.0000e+00 7.4627e-01 0.0000e+00 0.0000e+00 0.0000e+00 0.0000e+00 0.0000e+00 0.0000e+00 7.4627e-01 0.0000e+00 1.1940e+01 0.0000e+00 0.0000e+00 7.4627e-01\n",
      "  1.4925e+00 0.0000e+00 0.0000e+00 0.0000e+00 3.2090e+01 0.0000e+00 0.0000e+00 0.0000e+00 7.4627e-01 0.0000e+00 1.2687e+01 0.0000e+00 0.0000e+00 0.0000e+00 0.0000e+00 0.0000e+00 0.0000e+00 7.4627e+00\n",
      "  1.4925e+00 1.4925e+00 7.4627e-01 0.0000e+00 0.0000e+00 3.7313e+00 7.4627e-01 1.4925e+00]\n",
      " [0.0000e+00 0.0000e+00 0.0000e+00 0.0000e+00 2.6316e+01 5.2632e+00 0.0000e+00 0.0000e+00 0.0000e+00 0.0000e+00 0.0000e+00 0.0000e+00 0.0000e+00 0.0000e+00 0.0000e+00 0.0000e+00 0.0000e+00 0.0000e+00\n",
      "  0.0000e+00 0.0000e+00 0.0000e+00 0.0000e+00 0.0000e+00 5.2632e+00 0.0000e+00 0.0000e+00 0.0000e+00 0.0000e+00 0.0000e+00 0.0000e+00 0.0000e+00 0.0000e+00 0.0000e+00 0.0000e+00 0.0000e+00 0.0000e+00\n",
      "  0.0000e+00 0.0000e+00 0.0000e+00 0.0000e+00 0.0000e+00 0.0000e+00 0.0000e+00 0.0000e+00 0.0000e+00 0.0000e+00 2.1053e+01 0.0000e+00 0.0000e+00 0.0000e+00 0.0000e+00 0.0000e+00 0.0000e+00 2.6316e+01\n",
      "  5.2632e+00 0.0000e+00 0.0000e+00 0.0000e+00 0.0000e+00 1.0526e+01 0.0000e+00 0.0000e+00]\n",
      " [0.0000e+00 0.0000e+00 0.0000e+00 0.0000e+00 5.5431e+01 7.4906e-01 1.4981e+00 3.7453e-01 5.2434e+00 3.7453e-01 0.0000e+00 0.0000e+00 0.0000e+00 0.0000e+00 1.1236e+00 1.1236e+00 0.0000e+00 3.7453e-01\n",
      "  3.7453e-01 0.0000e+00 3.7453e-01 0.0000e+00 0.0000e+00 0.0000e+00 0.0000e+00 3.7453e-01 0.0000e+00 0.0000e+00 7.4906e-01 0.0000e+00 0.0000e+00 7.4906e-01 7.4906e-01 0.0000e+00 3.7453e-01 1.8727e+00\n",
      "  0.0000e+00 0.0000e+00 0.0000e+00 0.0000e+00 1.1236e+00 0.0000e+00 4.1199e+00 7.4906e-01 1.1236e+00 0.0000e+00 5.2434e+00 1.8727e+00 0.0000e+00 0.0000e+00 0.0000e+00 0.0000e+00 2.9963e+00 7.8652e+00\n",
      "  0.0000e+00 1.1236e+00 0.0000e+00 0.0000e+00 0.0000e+00 1.1236e+00 7.4906e-01 0.0000e+00]\n",
      " [0.0000e+00 0.0000e+00 0.0000e+00 0.0000e+00 2.3077e+01 6.7692e+00 5.5385e+00 0.0000e+00 6.1538e+00 0.0000e+00 0.0000e+00 0.0000e+00 0.0000e+00 0.0000e+00 0.0000e+00 1.2308e+00 0.0000e+00 0.0000e+00\n",
      "  0.0000e+00 0.0000e+00 0.0000e+00 0.0000e+00 0.0000e+00 6.1538e-01 3.0769e-01 0.0000e+00 0.0000e+00 0.0000e+00 3.0769e-01 0.0000e+00 3.0769e-01 0.0000e+00 0.0000e+00 0.0000e+00 6.1538e-01 9.2308e-01\n",
      "  3.0769e-01 3.0769e-01 0.0000e+00 0.0000e+00 9.2308e-01 0.0000e+00 9.2308e-01 1.6308e+01 9.2308e-01 0.0000e+00 4.3077e+00 6.1538e-01 0.0000e+00 0.0000e+00 0.0000e+00 0.0000e+00 9.5385e+00 1.1692e+01\n",
      "  9.2308e-01 4.0000e+00 9.2308e-01 0.0000e+00 0.0000e+00 2.1538e+00 3.0769e-01 0.0000e+00]\n",
      " [0.0000e+00 2.0747e-01 0.0000e+00 0.0000e+00 4.9585e+01 4.1494e-01 0.0000e+00 8.2988e-01 4.1494e-01 0.0000e+00 2.0747e+00 0.0000e+00 6.2241e-01 0.0000e+00 1.2448e+00 2.0747e-01 0.0000e+00 0.0000e+00\n",
      "  1.6598e+00 4.1494e-01 2.0747e-01 0.0000e+00 0.0000e+00 0.0000e+00 0.0000e+00 1.0373e+00 0.0000e+00 0.0000e+00 2.0747e-01 0.0000e+00 0.0000e+00 0.0000e+00 0.0000e+00 0.0000e+00 4.1494e-01 0.0000e+00\n",
      "  0.0000e+00 8.2988e-01 0.0000e+00 0.0000e+00 6.2241e-01 0.0000e+00 0.0000e+00 0.0000e+00 2.8216e+01 0.0000e+00 2.0747e-01 1.4523e+00 0.0000e+00 0.0000e+00 0.0000e+00 0.0000e+00 6.2241e-01 1.4523e+00\n",
      "  0.0000e+00 3.3195e+00 0.0000e+00 0.0000e+00 0.0000e+00 2.0747e-01 3.3195e+00 2.0747e-01]\n",
      " [0.0000e+00 0.0000e+00 0.0000e+00 0.0000e+00 4.1429e+01 0.0000e+00 0.0000e+00 4.2857e+00 2.8571e+00 0.0000e+00 1.4286e+00 0.0000e+00 0.0000e+00 0.0000e+00 1.4286e+00 0.0000e+00 0.0000e+00 0.0000e+00\n",
      "  0.0000e+00 0.0000e+00 0.0000e+00 0.0000e+00 0.0000e+00 1.4286e+00 1.4286e+00 0.0000e+00 0.0000e+00 0.0000e+00 0.0000e+00 0.0000e+00 0.0000e+00 0.0000e+00 2.8571e+00 0.0000e+00 0.0000e+00 0.0000e+00\n",
      "  0.0000e+00 0.0000e+00 0.0000e+00 0.0000e+00 1.4286e+00 0.0000e+00 0.0000e+00 1.4286e+00 0.0000e+00 1.4286e+01 1.4286e+00 0.0000e+00 0.0000e+00 0.0000e+00 0.0000e+00 0.0000e+00 2.8571e+00 1.0000e+01\n",
      "  0.0000e+00 1.4286e+00 1.4286e+00 0.0000e+00 0.0000e+00 5.7143e+00 2.8571e+00 0.0000e+00]\n",
      " [0.0000e+00 0.0000e+00 0.0000e+00 0.0000e+00 5.8776e-01 1.3936e+00 4.5030e-02 0.0000e+00 2.4103e+00 5.2140e-02 9.4800e-03 0.0000e+00 2.3700e-03 7.1100e-03 2.8440e-02 2.4174e-01 1.4220e-02 5.4510e-02\n",
      "  2.3700e-03 0.0000e+00 6.3990e-02 0.0000e+00 2.3700e-03 1.3272e-01 1.1850e-02 4.7400e-03 2.3700e-03 0.0000e+00 4.7400e-02 2.3700e-03 3.7920e-02 0.0000e+00 4.7400e-01 0.0000e+00 3.3180e-02 3.7802e+00\n",
      "  1.1400e+00 0.0000e+00 0.0000e+00 4.7400e-03 1.6590e-01 2.3700e-03 8.7690e-02 6.1620e-02 4.2660e-02 3.0810e-02 7.7957e+01 9.9540e-02 2.3700e-03 0.0000e+00 2.3700e-03 0.0000e+00 3.1995e-01 5.9084e+00\n",
      "  2.7492e-01 2.7492e-01 1.4457e-01 7.1100e-03 0.0000e+00 3.9982e+00 2.6070e-02 7.1100e-03]\n",
      " [0.0000e+00 0.0000e+00 0.0000e+00 0.0000e+00 5.8187e+01 2.0468e+00 0.0000e+00 2.9240e-01 1.7544e+00 0.0000e+00 5.8480e-01 0.0000e+00 2.9240e-01 0.0000e+00 0.0000e+00 0.0000e+00 0.0000e+00 0.0000e+00\n",
      "  5.8480e-01 0.0000e+00 0.0000e+00 0.0000e+00 0.0000e+00 0.0000e+00 0.0000e+00 0.0000e+00 0.0000e+00 0.0000e+00 8.7719e-01 0.0000e+00 0.0000e+00 0.0000e+00 0.0000e+00 0.0000e+00 5.8480e-01 2.9240e-01\n",
      "  0.0000e+00 5.8480e-01 0.0000e+00 0.0000e+00 2.9240e-01 0.0000e+00 2.9240e-01 0.0000e+00 1.7544e+00 5.8480e-01 6.4327e+00 1.8713e+01 0.0000e+00 0.0000e+00 0.0000e+00 0.0000e+00 8.7719e-01 3.2164e+00\n",
      "  0.0000e+00 5.8480e-01 0.0000e+00 0.0000e+00 0.0000e+00 5.8480e-01 5.8480e-01 0.0000e+00]\n",
      " [0.0000e+00 0.0000e+00 0.0000e+00 0.0000e+00 5.0000e+01 0.0000e+00 0.0000e+00 0.0000e+00 0.0000e+00 0.0000e+00 0.0000e+00 1.0000e+01 0.0000e+00 0.0000e+00 0.0000e+00 0.0000e+00 0.0000e+00 0.0000e+00\n",
      "  0.0000e+00 0.0000e+00 0.0000e+00 0.0000e+00 0.0000e+00 0.0000e+00 0.0000e+00 0.0000e+00 0.0000e+00 0.0000e+00 0.0000e+00 0.0000e+00 1.0000e+01 0.0000e+00 0.0000e+00 0.0000e+00 0.0000e+00 0.0000e+00\n",
      "  0.0000e+00 0.0000e+00 0.0000e+00 0.0000e+00 0.0000e+00 0.0000e+00 0.0000e+00 0.0000e+00 1.0000e+01 0.0000e+00 0.0000e+00 1.0000e+01 0.0000e+00 0.0000e+00 0.0000e+00 0.0000e+00 0.0000e+00 0.0000e+00\n",
      "  0.0000e+00 0.0000e+00 0.0000e+00 0.0000e+00 0.0000e+00 0.0000e+00 1.0000e+01 0.0000e+00]\n",
      " [0.0000e+00 0.0000e+00 0.0000e+00 0.0000e+00 4.1667e+00 4.1667e+00 1.2500e+01 0.0000e+00 4.1667e+00 0.0000e+00 0.0000e+00 0.0000e+00 0.0000e+00 0.0000e+00 0.0000e+00 0.0000e+00 0.0000e+00 0.0000e+00\n",
      "  0.0000e+00 0.0000e+00 0.0000e+00 0.0000e+00 0.0000e+00 0.0000e+00 0.0000e+00 0.0000e+00 0.0000e+00 0.0000e+00 0.0000e+00 0.0000e+00 0.0000e+00 0.0000e+00 0.0000e+00 0.0000e+00 4.1667e+00 0.0000e+00\n",
      "  0.0000e+00 0.0000e+00 0.0000e+00 0.0000e+00 0.0000e+00 0.0000e+00 0.0000e+00 0.0000e+00 0.0000e+00 0.0000e+00 8.3333e+00 0.0000e+00 0.0000e+00 5.0000e+01 0.0000e+00 0.0000e+00 0.0000e+00 8.3333e+00\n",
      "  0.0000e+00 4.1667e+00 0.0000e+00 0.0000e+00 0.0000e+00 0.0000e+00 0.0000e+00 0.0000e+00]\n",
      " [0.0000e+00 0.0000e+00 0.0000e+00 0.0000e+00 5.3333e+01 0.0000e+00 6.6667e+00 0.0000e+00 0.0000e+00 0.0000e+00 0.0000e+00 0.0000e+00 0.0000e+00 0.0000e+00 0.0000e+00 0.0000e+00 0.0000e+00 0.0000e+00\n",
      "  0.0000e+00 0.0000e+00 0.0000e+00 0.0000e+00 0.0000e+00 0.0000e+00 0.0000e+00 0.0000e+00 0.0000e+00 0.0000e+00 0.0000e+00 0.0000e+00 0.0000e+00 0.0000e+00 0.0000e+00 0.0000e+00 0.0000e+00 0.0000e+00\n",
      "  0.0000e+00 0.0000e+00 0.0000e+00 0.0000e+00 0.0000e+00 0.0000e+00 0.0000e+00 0.0000e+00 6.6667e+00 0.0000e+00 0.0000e+00 6.6667e+00 0.0000e+00 0.0000e+00 0.0000e+00 0.0000e+00 0.0000e+00 1.3333e+01\n",
      "  0.0000e+00 0.0000e+00 0.0000e+00 0.0000e+00 0.0000e+00 6.6667e+00 0.0000e+00 6.6667e+00]\n",
      " [0.0000e+00 0.0000e+00 0.0000e+00 0.0000e+00 4.6154e+01 0.0000e+00 0.0000e+00 0.0000e+00 3.8462e+00 0.0000e+00 3.8462e+00 3.8462e+00 0.0000e+00 0.0000e+00 0.0000e+00 3.8462e+00 0.0000e+00 0.0000e+00\n",
      "  3.8462e+00 0.0000e+00 0.0000e+00 0.0000e+00 0.0000e+00 0.0000e+00 0.0000e+00 0.0000e+00 0.0000e+00 0.0000e+00 0.0000e+00 0.0000e+00 3.8462e+00 0.0000e+00 0.0000e+00 3.8462e+00 3.8462e+00 0.0000e+00\n",
      "  0.0000e+00 0.0000e+00 0.0000e+00 0.0000e+00 0.0000e+00 0.0000e+00 0.0000e+00 0.0000e+00 7.6923e+00 0.0000e+00 0.0000e+00 0.0000e+00 0.0000e+00 0.0000e+00 0.0000e+00 0.0000e+00 0.0000e+00 3.8462e+00\n",
      "  0.0000e+00 0.0000e+00 0.0000e+00 3.8462e+00 0.0000e+00 0.0000e+00 7.6923e+00 0.0000e+00]\n",
      " [0.0000e+00 0.0000e+00 0.0000e+00 0.0000e+00 1.9408e+01 9.3491e+00 2.8402e+00 3.5503e-01 5.4438e+00 1.1834e-01 1.1834e-01 0.0000e+00 0.0000e+00 1.1834e-01 5.9172e-01 8.2840e-01 1.1834e-01 4.7337e-01\n",
      "  1.1834e-01 1.1834e-01 2.3669e-01 0.0000e+00 0.0000e+00 1.1834e-01 0.0000e+00 0.0000e+00 0.0000e+00 0.0000e+00 3.5503e-01 1.1834e-01 2.3669e-01 0.0000e+00 5.9172e-01 0.0000e+00 1.3018e+00 7.1006e-01\n",
      "  3.5503e-01 0.0000e+00 0.0000e+00 0.0000e+00 5.9172e-01 0.0000e+00 7.1006e-01 1.8935e+00 1.0651e+00 0.0000e+00 2.4852e+00 2.3669e-01 0.0000e+00 0.0000e+00 0.0000e+00 0.0000e+00 2.4497e+01 1.5976e+01\n",
      "  1.1834e-01 5.7988e+00 2.3669e-01 1.1834e-01 0.0000e+00 1.6568e+00 4.7337e-01 1.1834e-01]\n",
      " [0.0000e+00 0.0000e+00 0.0000e+00 0.0000e+00 9.6084e+00 6.3787e+00 7.2669e-01 4.0371e-02 9.2854e+00 2.8260e-01 1.2111e-01 0.0000e+00 0.0000e+00 1.2111e-01 1.6149e-01 2.2204e+00 4.0371e-02 1.0497e+00\n",
      "  4.0371e-02 0.0000e+00 2.8260e-01 4.0371e-02 4.0371e-02 7.2669e-01 1.2111e-01 0.0000e+00 4.0371e-02 4.0371e-02 1.6149e-01 4.0371e-02 2.4223e-01 4.0371e-02 1.0497e+00 0.0000e+00 2.8260e-01 1.5745e+00\n",
      "  7.6706e-01 8.0743e-02 0.0000e+00 0.0000e+00 4.4409e-01 4.0371e-02 2.8260e-01 3.6334e-01 6.4594e-01 1.2111e-01 2.1437e+01 2.0186e-01 0.0000e+00 0.0000e+00 0.0000e+00 0.0000e+00 2.7856e+00 2.6040e+01\n",
      "  6.4594e-01 5.0868e+00 1.3726e+00 0.0000e+00 0.0000e+00 4.0371e+00 8.4780e-01 4.0371e-02]\n",
      " [0.0000e+00 0.0000e+00 0.0000e+00 0.0000e+00 8.4337e+00 4.8193e+00 0.0000e+00 0.0000e+00 5.4217e+00 0.0000e+00 0.0000e+00 0.0000e+00 0.0000e+00 0.0000e+00 0.0000e+00 3.0120e+00 0.0000e+00 0.0000e+00\n",
      "  0.0000e+00 0.0000e+00 0.0000e+00 0.0000e+00 0.0000e+00 0.0000e+00 0.0000e+00 0.0000e+00 0.0000e+00 0.0000e+00 0.0000e+00 0.0000e+00 0.0000e+00 0.0000e+00 6.0241e-01 0.0000e+00 6.0241e-01 1.2048e+00\n",
      "  1.8072e+00 6.0241e-01 0.0000e+00 0.0000e+00 1.2048e+00 0.0000e+00 6.0241e-01 6.0241e-01 0.0000e+00 0.0000e+00 2.2289e+01 0.0000e+00 0.0000e+00 0.0000e+00 0.0000e+00 0.0000e+00 2.4096e+00 2.1084e+01\n",
      "  1.2651e+01 4.2169e+00 2.4096e+00 6.0241e-01 0.0000e+00 3.0120e+00 2.4096e+00 0.0000e+00]\n",
      " [0.0000e+00 0.0000e+00 0.0000e+00 1.3755e-01 1.9807e+01 4.4017e+00 1.7882e+00 1.3755e-01 5.3645e+00 0.0000e+00 0.0000e+00 0.0000e+00 0.0000e+00 0.0000e+00 2.7510e-01 1.1004e+00 0.0000e+00 4.1265e-01\n",
      "  2.7510e-01 1.3755e-01 6.8776e-01 0.0000e+00 0.0000e+00 1.3755e-01 1.3755e-01 0.0000e+00 0.0000e+00 0.0000e+00 1.3755e-01 1.3755e-01 1.3755e-01 0.0000e+00 6.8776e-01 0.0000e+00 2.2008e+00 2.7510e-01\n",
      "  0.0000e+00 1.3755e-01 0.0000e+00 0.0000e+00 4.1265e-01 1.3755e-01 1.3755e-01 8.2531e-01 1.3755e+00 1.3755e-01 1.7882e+00 0.0000e+00 0.0000e+00 0.0000e+00 1.3755e-01 0.0000e+00 3.3012e+00 1.5681e+01\n",
      "  2.7510e-01 2.9436e+01 3.8514e+00 2.7510e-01 1.3755e-01 1.5131e+00 1.5131e+00 5.5021e-01]\n",
      " [0.0000e+00 0.0000e+00 0.0000e+00 0.0000e+00 1.3978e+01 4.3011e+00 2.1505e+00 0.0000e+00 5.9140e+00 0.0000e+00 0.0000e+00 0.0000e+00 0.0000e+00 1.0753e+00 5.3763e-01 3.7634e+00 0.0000e+00 1.0753e+00\n",
      "  0.0000e+00 5.3763e-01 5.3763e-01 0.0000e+00 0.0000e+00 1.0753e+00 0.0000e+00 5.3763e-01 0.0000e+00 0.0000e+00 0.0000e+00 0.0000e+00 0.0000e+00 0.0000e+00 2.1505e+00 0.0000e+00 5.3763e-01 0.0000e+00\n",
      "  5.3763e-01 0.0000e+00 0.0000e+00 0.0000e+00 0.0000e+00 0.0000e+00 0.0000e+00 1.0753e+00 2.1505e+00 0.0000e+00 5.9140e+00 5.3763e-01 0.0000e+00 0.0000e+00 0.0000e+00 0.0000e+00 5.3763e-01 2.3118e+01\n",
      "  0.0000e+00 1.6667e+01 4.8387e+00 0.0000e+00 0.0000e+00 2.1505e+00 4.3011e+00 0.0000e+00]\n",
      " [0.0000e+00 0.0000e+00 0.0000e+00 0.0000e+00 1.1765e+01 1.4706e+01 2.9412e+00 0.0000e+00 5.8824e+00 0.0000e+00 0.0000e+00 0.0000e+00 0.0000e+00 0.0000e+00 0.0000e+00 0.0000e+00 0.0000e+00 0.0000e+00\n",
      "  0.0000e+00 2.9412e+00 2.9412e+00 0.0000e+00 0.0000e+00 0.0000e+00 0.0000e+00 0.0000e+00 0.0000e+00 0.0000e+00 0.0000e+00 0.0000e+00 0.0000e+00 0.0000e+00 0.0000e+00 0.0000e+00 5.8824e+00 0.0000e+00\n",
      "  0.0000e+00 0.0000e+00 0.0000e+00 0.0000e+00 0.0000e+00 0.0000e+00 0.0000e+00 0.0000e+00 0.0000e+00 2.9412e+00 8.8235e+00 0.0000e+00 0.0000e+00 0.0000e+00 0.0000e+00 0.0000e+00 2.9412e+00 2.6471e+01\n",
      "  0.0000e+00 2.9412e+00 0.0000e+00 0.0000e+00 0.0000e+00 5.8824e+00 0.0000e+00 2.9412e+00]\n",
      " [0.0000e+00 0.0000e+00 0.0000e+00 1.8182e+00 2.7273e+01 3.6364e+00 0.0000e+00 0.0000e+00 1.8182e+00 0.0000e+00 0.0000e+00 1.8182e+00 1.8182e+00 0.0000e+00 0.0000e+00 0.0000e+00 0.0000e+00 0.0000e+00\n",
      "  0.0000e+00 5.4545e+00 3.6364e+00 0.0000e+00 0.0000e+00 0.0000e+00 0.0000e+00 0.0000e+00 0.0000e+00 0.0000e+00 0.0000e+00 0.0000e+00 9.0909e+00 1.8182e+00 3.6364e+00 1.8182e+00 1.8182e+00 0.0000e+00\n",
      "  1.8182e+00 0.0000e+00 0.0000e+00 0.0000e+00 1.8182e+00 0.0000e+00 0.0000e+00 0.0000e+00 1.8182e+00 0.0000e+00 0.0000e+00 0.0000e+00 0.0000e+00 0.0000e+00 0.0000e+00 0.0000e+00 0.0000e+00 1.8182e+00\n",
      "  0.0000e+00 7.2727e+00 0.0000e+00 0.0000e+00 0.0000e+00 5.4545e+00 1.2727e+01 1.8182e+00]\n",
      " [0.0000e+00 0.0000e+00 0.0000e+00 0.0000e+00 2.1248e+00 5.9761e+00 1.3280e-01 0.0000e+00 9.0305e+00 1.3280e-01 0.0000e+00 0.0000e+00 0.0000e+00 1.3280e-01 0.0000e+00 9.2961e-01 0.0000e+00 1.3280e-01\n",
      "  1.3280e-01 0.0000e+00 3.9841e-01 0.0000e+00 0.0000e+00 1.3280e-01 0.0000e+00 0.0000e+00 0.0000e+00 0.0000e+00 0.0000e+00 0.0000e+00 2.6560e-01 0.0000e+00 1.3280e+00 0.0000e+00 0.0000e+00 4.9137e+00\n",
      "  1.9920e+00 0.0000e+00 0.0000e+00 0.0000e+00 2.6560e-01 1.3280e-01 0.0000e+00 1.3280e-01 2.6560e-01 1.3280e-01 4.1965e+01 0.0000e+00 0.0000e+00 0.0000e+00 0.0000e+00 0.0000e+00 7.9681e-01 1.6202e+01\n",
      "  2.6560e-01 1.1952e+00 1.3280e-01 1.3280e-01 0.0000e+00 1.0226e+01 3.9841e-01 0.0000e+00]\n",
      " [1.2107e-01 0.0000e+00 0.0000e+00 0.0000e+00 3.0630e+01 4.8426e-01 1.2107e-01 2.4213e-01 9.6852e-01 1.2107e-01 2.0581e+00 0.0000e+00 3.6320e-01 0.0000e+00 1.0896e+00 3.6320e-01 0.0000e+00 0.0000e+00\n",
      "  1.5738e+00 1.2107e-01 4.8426e-01 0.0000e+00 1.2107e-01 0.0000e+00 0.0000e+00 1.2107e-01 0.0000e+00 0.0000e+00 0.0000e+00 0.0000e+00 3.6320e-01 1.2107e-01 2.4213e-01 2.4213e-01 0.0000e+00 1.2107e-01\n",
      "  0.0000e+00 0.0000e+00 0.0000e+00 0.0000e+00 2.4213e-01 0.0000e+00 3.6320e-01 1.2107e-01 1.8160e+00 2.4213e-01 1.5738e+00 2.4213e-01 0.0000e+00 0.0000e+00 1.2107e-01 0.0000e+00 4.8426e-01 2.9056e+00\n",
      "  2.4213e-01 1.3317e+00 3.6320e-01 0.0000e+00 1.2107e-01 6.0533e-01 4.8426e+01 7.2639e-01]\n",
      " [0.0000e+00 0.0000e+00 0.0000e+00 0.0000e+00 3.4043e+01 1.0638e+00 0.0000e+00 2.1277e+00 1.0638e+00 0.0000e+00 0.0000e+00 0.0000e+00 0.0000e+00 0.0000e+00 0.0000e+00 0.0000e+00 0.0000e+00 0.0000e+00\n",
      "  0.0000e+00 1.0638e+00 1.0638e+00 0.0000e+00 0.0000e+00 0.0000e+00 0.0000e+00 0.0000e+00 0.0000e+00 0.0000e+00 0.0000e+00 0.0000e+00 1.0638e+00 0.0000e+00 5.3191e+00 0.0000e+00 0.0000e+00 0.0000e+00\n",
      "  0.0000e+00 0.0000e+00 0.0000e+00 0.0000e+00 3.1915e+00 0.0000e+00 0.0000e+00 1.0638e+00 0.0000e+00 0.0000e+00 0.0000e+00 1.0638e+00 0.0000e+00 0.0000e+00 1.0638e+00 0.0000e+00 0.0000e+00 0.0000e+00\n",
      "  0.0000e+00 0.0000e+00 0.0000e+00 0.0000e+00 0.0000e+00 0.0000e+00 9.5745e+00 3.7234e+01]]\n"
     ]
    }
   ],
   "source": [
    "cm2 = cm2.astype('float32') #float32, int32\n",
    "#cm2 = cm2.astype('int32') #float32, int32\n",
    "print(cm2)"
   ]
  },
  {
   "cell_type": "code",
   "execution_count": 44,
   "metadata": {},
   "outputs": [
    {
     "data": {
      "image/png": "[encoded data removed]",
      "text/plain": [
       "<Figure size 1296x1296 with 2 Axes>"
      ]
     },
     "metadata": {
      "needs_background": "light"
     },
     "output_type": "display_data"
    }
   ],
   "source": [
    "if EQUIVARIANT:\n",
    "    cnum = \"8\"\n",
    "else:\n",
    "    cnum = \"1\"\n",
    "\n",
    "dfcm2 = pd.DataFrame(cm2,\n",
    "                    index = dirs,\n",
    "                    columns=dirs)\n",
    "plt.figure(figsize = (18,18))\n",
    "sns.heatmap(dfcm2, annot=True, cmap=\"Blues\", fmt='.0f') # , fmt='.1f' 'd' 'g'\n",
    "plt.savefig(\"results/c\"+cnum+\"_confusion_matrix_\"+dataname+\"_accuracies.png\",\n",
    "            dpi=100,\n",
    "            bbox_inches='tight')"
   ]
  },
  {
   "cell_type": "code",
   "execution_count": null,
   "metadata": {},
   "outputs": [],
   "source": []
  },
  {
   "cell_type": "code",
   "execution_count": null,
   "metadata": {},
   "outputs": [],
   "source": []
  },
  {
   "cell_type": "code",
   "execution_count": null,
   "metadata": {},
   "outputs": [],
   "source": []
  },
  {
   "cell_type": "code",
   "execution_count": null,
   "metadata": {},
   "outputs": [],
   "source": []
  }
 ],
 "metadata": {
  "kernelspec": {
   "display_name": "Python 3 (ipykernel)",
   "language": "python",
   "name": "python3"
  },
  "language_info": {
   "codemirror_mode": {
    "name": "ipython",
    "version": 3
   },
   "file_extension": ".py",
   "mimetype": "text/x-python",
   "name": "python",
   "nbconvert_exporter": "python",
   "pygments_lexer": "ipython3",
   "version": "3.9.7"
  }
 },
 "nbformat": 4,
 "nbformat_minor": 2
}
