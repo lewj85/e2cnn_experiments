{
 "cells": [
  {
   "cell_type": "code",
   "execution_count": 32,
   "id": "39de5190",
   "metadata": {},
   "outputs": [],
   "source": [
    "import os\n",
    "import json\n",
    "import matplotlib.pyplot as plt\n",
    "import numpy as np\n",
    "from PIL import Image\n",
    "from pprint import pprint\n",
    "\n",
    "%matplotlib inline"
   ]
  },
  {
   "cell_type": "code",
   "execution_count": 67,
   "id": "5322f889",
   "metadata": {},
   "outputs": [
    {
     "name": "stdout",
     "output_type": "stream",
     "text": [
      "98.0 597.0 122.0 597.0 122.0 622.0 98.0 622.0 small-vehicle 0\n",
      "\n"
     ]
    }
   ],
   "source": [
    "example = \"P1199\"\n",
    "\n",
    "with open(\"train/labels/new/\"+example+\".txt\", \"r\") as f:\n",
    "    lines = f.readlines()\n",
    "    print(lines[0])\n",
    "    bbox = []\n",
    "    \n",
    "# Closing file\n",
    "f.close()"
   ]
  },
  {
   "cell_type": "code",
   "execution_count": 68,
   "id": "6c634872",
   "metadata": {},
   "outputs": [
    {
     "name": "stdout",
     "output_type": "stream",
     "text": [
      "[[98.0 597.0 122.0 ... 622.0 'small-vehicle' 0]\n",
      " [302.0 293.0 334.0 ... 324.0 'large-vehicle' 0]\n",
      " [109.0 300.0 147.0 ... 338.0 'large-vehicle' 0]\n",
      " ...\n",
      " [334.0 525.0 370.0 ... 561.0 'large-vehicle' 0]\n",
      " [333.0 545.0 368.0 ... 582.0 'large-vehicle' 0]\n",
      " [182.0 284.0 220.0 ... 316.0 'large-vehicle' 0]]\n"
     ]
    }
   ],
   "source": [
    "import pandas as pd\n",
    "\n",
    "# Read CSV file into DataFrame df\n",
    "df = pd.read_csv(\"train/labels/new/\"+example+\".txt\", header=None, delimiter=' ')\n",
    "\n",
    "# Show dataframe\n",
    "#print(df)\n",
    "\n",
    "data = df.to_numpy()\n",
    "print(data)"
   ]
  },
  {
   "cell_type": "code",
   "execution_count": 69,
   "id": "597db068",
   "metadata": {},
   "outputs": [],
   "source": [
    "imgstr = \"train/images/\"+example+\".png\""
   ]
  },
  {
   "cell_type": "code",
   "execution_count": 71,
   "id": "d3489f83",
   "metadata": {},
   "outputs": [
    {
     "name": "stdout",
     "output_type": "stream",
     "text": [
      "[98, 597, 122, 597, 122, 622, 98, 622]\n"
     ]
    }
   ],
   "source": [
    "bbox = [int(x) for x in data[0][:-2]]\n",
    "print(bbox)"
   ]
  },
  {
   "cell_type": "code",
   "execution_count": 72,
   "id": "38693844",
   "metadata": {},
   "outputs": [
    {
     "name": "stdout",
     "output_type": "stream",
     "text": [
      "(857, 631, 3)\n",
      "<class 'numpy.ndarray'>\n",
      "(25, 24, 3)\n"
     ]
    },
    {
     "data": {
      "text/plain": [
       "<matplotlib.image.AxesImage object at 0x000001D3802A0130>"
      ]
     },
     "execution_count": 72,
     "metadata": {},
     "output_type": "execute_result"
    },
    {
     "data": {
      "image/png": "[encoded data removed]",
      "text/plain": [
       "<Figure size 432x288 with 1 Axes>"
      ]
     },
     "metadata": {
      "needs_background": "light"
     },
     "output_type": "display_data"
    }
   ],
   "source": [
    "img = Image.open(imgstr)\n",
    "\n",
    "arr = np.asarray(img)\n",
    "print(arr.shape)\n",
    "print(type(arr))\n",
    "\n",
    "if len(arr.shape)==3:\n",
    "    img2 = arr[bbox[1]:bbox[5], bbox[0]:bbox[4], :]\n",
    "else:\n",
    "    # image is black and white\n",
    "    img2 = arr[bbox[1]:bbox[5], bbox[0]:bbox[4]]\n",
    "    img2 = np.stack((img2,)*3, axis=-1)\n",
    "print(img2.shape)\n",
    "\n",
    "plt.imshow(img2)"
   ]
  },
  {
   "cell_type": "code",
   "execution_count": 78,
   "id": "19f9fbb9",
   "metadata": {},
   "outputs": [
    {
     "name": "stdout",
     "output_type": "stream",
     "text": [
      "0\n",
      "10000\n",
      "P0546.txt 30 13417\n"
     ]
    },
    {
     "ename": "KeyboardInterrupt",
     "evalue": "",
     "output_type": "error",
     "traceback": [
      "\u001b[1;31m---------------------------------------------------------------------------\u001b[0m",
      "\u001b[1;31mKeyboardInterrupt\u001b[0m                         Traceback (most recent call last)",
      "\u001b[1;32m~\\AppData\\Local\\Temp/ipykernel_19320/3109479577.py\u001b[0m in \u001b[0;36m<module>\u001b[1;34m\u001b[0m\n\u001b[0;32m     14\u001b[0m         \u001b[0mimgstr\u001b[0m \u001b[1;33m=\u001b[0m \u001b[0mtrain_or_val\u001b[0m\u001b[1;33m+\u001b[0m\u001b[1;34m\"/images/\"\u001b[0m \u001b[1;33m+\u001b[0m \u001b[0mfile\u001b[0m\u001b[1;33m\u001b[0m\u001b[1;33m\u001b[0m\u001b[0m\n\u001b[0;32m     15\u001b[0m         \u001b[0mimg\u001b[0m \u001b[1;33m=\u001b[0m \u001b[0mImage\u001b[0m\u001b[1;33m.\u001b[0m\u001b[0mopen\u001b[0m\u001b[1;33m(\u001b[0m\u001b[0mimgstr\u001b[0m\u001b[1;33m)\u001b[0m\u001b[1;33m\u001b[0m\u001b[1;33m\u001b[0m\u001b[0m\n\u001b[1;32m---> 16\u001b[1;33m         \u001b[0marr\u001b[0m \u001b[1;33m=\u001b[0m \u001b[0mnp\u001b[0m\u001b[1;33m.\u001b[0m\u001b[0masarray\u001b[0m\u001b[1;33m(\u001b[0m\u001b[0mimg\u001b[0m\u001b[1;33m)\u001b[0m\u001b[1;33m\u001b[0m\u001b[1;33m\u001b[0m\u001b[0m\n\u001b[0m\u001b[0;32m     17\u001b[0m \u001b[1;33m\u001b[0m\u001b[0m\n\u001b[0;32m     18\u001b[0m         \u001b[1;32mfor\u001b[0m \u001b[0mi\u001b[0m \u001b[1;32min\u001b[0m \u001b[0mrange\u001b[0m\u001b[1;33m(\u001b[0m\u001b[0mlen\u001b[0m\u001b[1;33m(\u001b[0m\u001b[0mdata\u001b[0m\u001b[1;33m)\u001b[0m\u001b[1;33m)\u001b[0m\u001b[1;33m:\u001b[0m\u001b[1;33m\u001b[0m\u001b[1;33m\u001b[0m\u001b[0m\n",
      "\u001b[1;32m~\\anaconda3\\envs\\pytorch38\\lib\\site-packages\\PIL\\Image.py\u001b[0m in \u001b[0;36m__array__\u001b[1;34m(self, dtype)\u001b[0m\n\u001b[0;32m    696\u001b[0m             \u001b[0mnew\u001b[0m\u001b[1;33m[\u001b[0m\u001b[1;34m\"data\"\u001b[0m\u001b[1;33m]\u001b[0m \u001b[1;33m=\u001b[0m \u001b[0mself\u001b[0m\u001b[1;33m.\u001b[0m\u001b[0mtobytes\u001b[0m\u001b[1;33m(\u001b[0m\u001b[1;34m\"raw\"\u001b[0m\u001b[1;33m,\u001b[0m \u001b[1;34m\"L\"\u001b[0m\u001b[1;33m)\u001b[0m\u001b[1;33m\u001b[0m\u001b[1;33m\u001b[0m\u001b[0m\n\u001b[0;32m    697\u001b[0m         \u001b[1;32melse\u001b[0m\u001b[1;33m:\u001b[0m\u001b[1;33m\u001b[0m\u001b[1;33m\u001b[0m\u001b[0m\n\u001b[1;32m--> 698\u001b[1;33m             \u001b[0mnew\u001b[0m\u001b[1;33m[\u001b[0m\u001b[1;34m\"data\"\u001b[0m\u001b[1;33m]\u001b[0m \u001b[1;33m=\u001b[0m \u001b[0mself\u001b[0m\u001b[1;33m.\u001b[0m\u001b[0mtobytes\u001b[0m\u001b[1;33m(\u001b[0m\u001b[1;33m)\u001b[0m\u001b[1;33m\u001b[0m\u001b[1;33m\u001b[0m\u001b[0m\n\u001b[0m\u001b[0;32m    699\u001b[0m \u001b[1;33m\u001b[0m\u001b[0m\n\u001b[0;32m    700\u001b[0m         \u001b[1;32mclass\u001b[0m \u001b[0mArrayData\u001b[0m\u001b[1;33m:\u001b[0m\u001b[1;33m\u001b[0m\u001b[1;33m\u001b[0m\u001b[0m\n",
      "\u001b[1;32m~\\anaconda3\\envs\\pytorch38\\lib\\site-packages\\PIL\\Image.py\u001b[0m in \u001b[0;36mtobytes\u001b[1;34m(self, encoder_name, *args)\u001b[0m\n\u001b[0;32m    742\u001b[0m             \u001b[0margs\u001b[0m \u001b[1;33m=\u001b[0m \u001b[0mself\u001b[0m\u001b[1;33m.\u001b[0m\u001b[0mmode\u001b[0m\u001b[1;33m\u001b[0m\u001b[1;33m\u001b[0m\u001b[0m\n\u001b[0;32m    743\u001b[0m \u001b[1;33m\u001b[0m\u001b[0m\n\u001b[1;32m--> 744\u001b[1;33m         \u001b[0mself\u001b[0m\u001b[1;33m.\u001b[0m\u001b[0mload\u001b[0m\u001b[1;33m(\u001b[0m\u001b[1;33m)\u001b[0m\u001b[1;33m\u001b[0m\u001b[1;33m\u001b[0m\u001b[0m\n\u001b[0m\u001b[0;32m    745\u001b[0m \u001b[1;33m\u001b[0m\u001b[0m\n\u001b[0;32m    746\u001b[0m         \u001b[1;31m# unpack data\u001b[0m\u001b[1;33m\u001b[0m\u001b[1;33m\u001b[0m\u001b[0m\n",
      "\u001b[1;32m~\\anaconda3\\envs\\pytorch38\\lib\\site-packages\\PIL\\ImageFile.py\u001b[0m in \u001b[0;36mload\u001b[1;34m(self)\u001b[0m\n\u001b[0;32m    253\u001b[0m \u001b[1;33m\u001b[0m\u001b[0m\n\u001b[0;32m    254\u001b[0m                             \u001b[0mb\u001b[0m \u001b[1;33m=\u001b[0m \u001b[0mb\u001b[0m \u001b[1;33m+\u001b[0m \u001b[0ms\u001b[0m\u001b[1;33m\u001b[0m\u001b[1;33m\u001b[0m\u001b[0m\n\u001b[1;32m--> 255\u001b[1;33m                             \u001b[0mn\u001b[0m\u001b[1;33m,\u001b[0m \u001b[0merr_code\u001b[0m \u001b[1;33m=\u001b[0m \u001b[0mdecoder\u001b[0m\u001b[1;33m.\u001b[0m\u001b[0mdecode\u001b[0m\u001b[1;33m(\u001b[0m\u001b[0mb\u001b[0m\u001b[1;33m)\u001b[0m\u001b[1;33m\u001b[0m\u001b[1;33m\u001b[0m\u001b[0m\n\u001b[0m\u001b[0;32m    256\u001b[0m                             \u001b[1;32mif\u001b[0m \u001b[0mn\u001b[0m \u001b[1;33m<\u001b[0m \u001b[1;36m0\u001b[0m\u001b[1;33m:\u001b[0m\u001b[1;33m\u001b[0m\u001b[1;33m\u001b[0m\u001b[0m\n\u001b[0;32m    257\u001b[0m                                 \u001b[1;32mbreak\u001b[0m\u001b[1;33m\u001b[0m\u001b[1;33m\u001b[0m\u001b[0m\n",
      "\u001b[1;31mKeyboardInterrupt\u001b[0m: "
     ]
    }
   ],
   "source": [
    "train_or_val = \"train\"\n",
    "\n",
    "for root, dirs, filenames in os.walk(train_or_val+\"/images\", topdown=False):\n",
    "    pass\n",
    "\n",
    "#print(filenames)\n",
    "j = 0\n",
    "for file in filenames:\n",
    "    labelstr = file[:-4] + \".txt\"\n",
    "    if not labelstr in [\"P1531.txt\", \"P2123.txt\", \"P2152.txt\", \"P2330.txt\"]:\n",
    "        df = pd.read_csv(train_or_val+'/labels/new/' + labelstr, header=None, delimiter=' ')\n",
    "        data = df.to_numpy()\n",
    "\n",
    "        imgstr = train_or_val+\"/images/\" + file\n",
    "        img = Image.open(imgstr)\n",
    "        arr = np.asarray(img)\n",
    "\n",
    "        for i in range(len(data)):\n",
    "            try:\n",
    "                bbox = [int(x) for x in data[i][:-2]]\n",
    "                if len(arr.shape)==3:\n",
    "                    arr2 = arr[bbox[1]:bbox[5], bbox[0]:bbox[4], :]\n",
    "                else:\n",
    "                    # image is black and white\n",
    "                    arr2 = arr[bbox[1]:bbox[5], bbox[0]:bbox[4]]\n",
    "                    arr2 = np.stack((arr2,)*3, axis=-1)\n",
    "                if not os.path.exists('chips_'+train_or_val):\n",
    "                    os.makedirs('chips_'+train_or_val)\n",
    "\n",
    "                # create a directory with the class name\n",
    "                if not os.path.exists('chips_'+train_or_val+'/'+data[i][-2]):\n",
    "                    os.makedirs('chips_'+train_or_val+'/'+data[i][-2])\n",
    "\n",
    "                img2 = Image.fromarray(arr2.astype('uint8'), 'RGB')\n",
    "                img2 = img2.save('chips_'+train_or_val+'/'+data[i][-2]+\"/\"+str(j)+\".png\")\n",
    "\n",
    "                if j%10000==0:\n",
    "                    print(j)\n",
    "                j += 1\n",
    "            except:\n",
    "                print(labelstr, i, j)"
   ]
  },
  {
   "cell_type": "code",
   "execution_count": 76,
   "id": "186e07b9",
   "metadata": {},
   "outputs": [
    {
     "name": "stdout",
     "output_type": "stream",
     "text": [
      "P1872.txt 1 63392\n"
     ]
    }
   ],
   "source": [
    "print(labelstr, i, j)"
   ]
  },
  {
   "cell_type": "code",
   "execution_count": 25,
   "id": "40fcab6c",
   "metadata": {},
   "outputs": [
    {
     "name": "stdout",
     "output_type": "stream",
     "text": [
      "baseball-diamond 73\n",
      "basketball-court 111\n",
      "bridge 2\n",
      "ground-track-field 19\n",
      "harbor 2307\n",
      "helicopter 18\n",
      "large-vehicle 3164\n",
      "plane 1543\n",
      "roundabout 50\n",
      "ship 15846\n",
      "small-vehicle 7673\n",
      "soccer-ball-field 52\n",
      "storage-tank 58\n",
      "swimming-pool 1019\n",
      "tennis-court 1133\n"
     ]
    }
   ],
   "source": [
    "for root, dirs, filenames in os.walk(\"chips_train\", topdown=False):\n",
    "    pass\n",
    "\n",
    "sizes_of_each_class = {}\n",
    "for d in dirs:\n",
    "    all_sizes = []\n",
    "    for root, dirs, filenames in os.walk(\"chips_train/\"+d, topdown=False):\n",
    "        pass\n",
    "    print(d, len(filenames))\n",
    "    for f in filenames:\n",
    "        imgstr = \"chips_train/\"+d+\"/\"+f\n",
    "        img = Image.open(imgstr)\n",
    "        arr = np.asarray(img)\n",
    "        all_sizes.append(arr.shape[:2])\n",
    "    sizes_of_each_class[d] = {\n",
    "        'min': np.min(all_sizes),\n",
    "        'max': np.max(all_sizes),\n",
    "        'mean': np.mean(all_sizes),\n",
    "        'median': np.median(all_sizes)\n",
    "    }"
   ]
  },
  {
   "cell_type": "code",
   "execution_count": 28,
   "id": "28f35948",
   "metadata": {},
   "outputs": [
    {
     "name": "stdout",
     "output_type": "stream",
     "text": [
      "{'baseball-diamond': {'max': 1001,\n",
      "                      'mean': 252.4931506849315,\n",
      "                      'median': 214.5,\n",
      "                      'min': 88},\n",
      " 'basketball-court': {'max': 255,\n",
      "                      'mean': 164.6936936936937,\n",
      "                      'median': 173.0,\n",
      "                      'min': 48},\n",
      " 'bridge': {'max': 507, 'mean': 288.0, 'median': 288.0, 'min': 69},\n",
      " 'ground-track-field': {'max': 1703,\n",
      "                        'mean': 566.3157894736842,\n",
      "                        'median': 390.5,\n",
      "                        'min': 28},\n",
      " 'harbor': {'max': 1441, 'mean': 172.82444733420027, 'median': 127.0, 'min': 9},\n",
      " 'helicopter': {'max': 147,\n",
      "                'mean': 44.30555555555556,\n",
      "                'median': 33.5,\n",
      "                'min': 18},\n",
      " 'large-vehicle': {'max': 203,\n",
      "                   'mean': 70.21317951959544,\n",
      "                   'median': 68.0,\n",
      "                   'min': 3},\n",
      " 'plane': {'max': 703, 'mean': 101.67887232663642, 'median': 84.0, 'min': 12},\n",
      " 'roundabout': {'max': 1094, 'mean': 280.11, 'median': 132.0, 'min': 8},\n",
      " 'ship': {'max': 690, 'mean': 36.93332702259245, 'median': 33.0, 'min': 6},\n",
      " 'small-vehicle': {'max': 92,\n",
      "                   'mean': 30.745862113905904,\n",
      "                   'median': 32.0,\n",
      "                   'min': 2},\n",
      " 'soccer-ball-field': {'max': 958,\n",
      "                       'mean': 343.6923076923077,\n",
      "                       'median': 281.0,\n",
      "                       'min': 19},\n",
      " 'storage-tank': {'max': 196,\n",
      "                  'mean': 48.68103448275862,\n",
      "                  'median': 48.0,\n",
      "                  'min': 15},\n",
      " 'swimming-pool': {'max': 541,\n",
      "                   'mean': 53.83611383709519,\n",
      "                   'median': 46.0,\n",
      "                   'min': 12},\n",
      " 'tennis-court': {'max': 249,\n",
      "                  'mean': 149.32921447484554,\n",
      "                  'median': 168.0,\n",
      "                  'min': 29}}\n"
     ]
    }
   ],
   "source": [
    "pprint(sizes_of_each_class)"
   ]
  },
  {
   "cell_type": "code",
   "execution_count": 31,
   "id": "796672c7",
   "metadata": {},
   "outputs": [
    {
     "name": "stdout",
     "output_type": "stream",
     "text": [
      "min 2\n",
      "max 1703\n",
      "mean 173.59016988078687\n",
      "median 127.0\n"
     ]
    }
   ],
   "source": [
    "print('min', np.min([x['min'] for x in sizes_of_each_class.values()]))\n",
    "print('max', np.max([x['max'] for x in sizes_of_each_class.values()]))\n",
    "print('mean', np.mean([x['mean'] for x in sizes_of_each_class.values()]))\n",
    "print('median', np.median([x['median'] for x in sizes_of_each_class.values()]))"
   ]
  },
  {
   "cell_type": "code",
   "execution_count": null,
   "id": "6339c06f",
   "metadata": {},
   "outputs": [],
   "source": []
  }
 ],
 "metadata": {
  "kernelspec": {
   "display_name": "Python 3 (ipykernel)",
   "language": "python",
   "name": "python3"
  },
  "language_info": {
   "codemirror_mode": {
    "name": "ipython",
    "version": 3
   },
   "file_extension": ".py",
   "mimetype": "text/x-python",
   "name": "python",
   "nbconvert_exporter": "python",
   "pygments_lexer": "ipython3",
   "version": "3.9.7"
  }
 },
 "nbformat": 4,
 "nbformat_minor": 5
}
