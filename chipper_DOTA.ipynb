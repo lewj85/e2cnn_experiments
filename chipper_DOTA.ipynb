{
 "cells": [
  {
   "cell_type": "code",
   "execution_count": 27,
   "id": "39de5190",
   "metadata": {},
   "outputs": [],
   "source": [
    "import os\n",
    "from shutil import copyfile\n",
    "import json\n",
    "import random\n",
    "import matplotlib.pyplot as plt\n",
    "import numpy as np\n",
    "from PIL import Image\n",
    "from pprint import pprint\n",
    "\n",
    "%matplotlib inline"
   ]
  },
  {
   "cell_type": "code",
   "execution_count": 2,
   "id": "5322f889",
   "metadata": {},
   "outputs": [
    {
     "name": "stdout",
     "output_type": "stream",
     "text": [
      "98.0 597.0 122.0 597.0 122.0 622.0 98.0 622.0 small-vehicle 0\n",
      "\n"
     ]
    }
   ],
   "source": [
    "example = \"P1199\"\n",
    "\n",
    "with open(\"train/labels/new/\"+example+\".txt\", \"r\") as f:\n",
    "    lines = f.readlines()\n",
    "    print(lines[0])\n",
    "    bbox = []\n",
    "    \n",
    "# Closing file\n",
    "f.close()"
   ]
  },
  {
   "cell_type": "code",
   "execution_count": 3,
   "id": "6c634872",
   "metadata": {},
   "outputs": [
    {
     "name": "stdout",
     "output_type": "stream",
     "text": [
      "[[98.0 597.0 122.0 ... 622.0 'small-vehicle' 0]\n",
      " [302.0 293.0 334.0 ... 324.0 'large-vehicle' 0]\n",
      " [109.0 300.0 147.0 ... 338.0 'large-vehicle' 0]\n",
      " ...\n",
      " [334.0 525.0 370.0 ... 561.0 'large-vehicle' 0]\n",
      " [333.0 545.0 368.0 ... 582.0 'large-vehicle' 0]\n",
      " [182.0 284.0 220.0 ... 316.0 'large-vehicle' 0]]\n"
     ]
    }
   ],
   "source": [
    "import pandas as pd\n",
    "\n",
    "# Read CSV file into DataFrame df\n",
    "df = pd.read_csv(\"train/labels/new/\"+example+\".txt\", header=None, delimiter=' ')\n",
    "\n",
    "# Show dataframe\n",
    "#print(df)\n",
    "\n",
    "data = df.to_numpy()\n",
    "print(data)"
   ]
  },
  {
   "cell_type": "code",
   "execution_count": 4,
   "id": "597db068",
   "metadata": {},
   "outputs": [],
   "source": [
    "imgstr = \"train/images/\"+example+\".png\""
   ]
  },
  {
   "cell_type": "code",
   "execution_count": 5,
   "id": "d3489f83",
   "metadata": {},
   "outputs": [
    {
     "name": "stdout",
     "output_type": "stream",
     "text": [
      "[98, 597, 122, 597, 122, 622, 98, 622]\n"
     ]
    }
   ],
   "source": [
    "bbox = [int(x) for x in data[0][:-2]]\n",
    "print(bbox)"
   ]
  },
  {
   "cell_type": "code",
   "execution_count": 6,
   "id": "38693844",
   "metadata": {},
   "outputs": [
    {
     "name": "stdout",
     "output_type": "stream",
     "text": [
      "(857, 631, 3)\n",
      "<class 'numpy.ndarray'>\n",
      "(25, 24, 3)\n"
     ]
    },
    {
     "data": {
      "text/plain": [
       "<matplotlib.image.AxesImage at 0x2bc84093430>"
      ]
     },
     "execution_count": 6,
     "metadata": {},
     "output_type": "execute_result"
    },
    {
     "data": {
      "image/png": "[encoded data removed]",
      "text/plain": [
       "<Figure size 432x288 with 1 Axes>"
      ]
     },
     "metadata": {
      "needs_background": "light"
     },
     "output_type": "display_data"
    }
   ],
   "source": [
    "img = Image.open(imgstr)\n",
    "\n",
    "arr = np.asarray(img)\n",
    "print(arr.shape)\n",
    "print(type(arr))\n",
    "\n",
    "if len(arr.shape)==3:\n",
    "    img2 = arr[bbox[1]:bbox[5], bbox[0]:bbox[4], :]\n",
    "else:\n",
    "    # image is black and white\n",
    "    img2 = arr[bbox[1]:bbox[5], bbox[0]:bbox[4]]\n",
    "    img2 = np.stack((img2,)*3, axis=-1)\n",
    "print(img2.shape)\n",
    "\n",
    "plt.imshow(img2)"
   ]
  },
  {
   "cell_type": "code",
   "execution_count": 15,
   "id": "19f9fbb9",
   "metadata": {},
   "outputs": [
    {
     "name": "stdout",
     "output_type": "stream",
     "text": [
      "0\n",
      "10000\n",
      "20000\n",
      "30000\n",
      "40000\n",
      "50000\n",
      "60000\n",
      "P1872.txt 1 63392\n",
      "P1872.txt 2 63392\n",
      "P1872.txt 3 63392\n",
      "P1872.txt 4 63392\n",
      "P1872.txt 5 63392\n",
      "P1872.txt 6 63392\n",
      "P1872.txt 7 63392\n",
      "P1872.txt 8 63392\n",
      "P1872.txt 9 63392\n",
      "P1872.txt 10 63392\n",
      "P1872.txt 11 63392\n",
      "P1872.txt 12 63392\n",
      "P1872.txt 13 63392\n",
      "P1872.txt 14 63392\n",
      "P1872.txt 15 63392\n",
      "P1872.txt 16 63392\n",
      "P1872.txt 17 63392\n",
      "P1872.txt 18 63392\n",
      "P1872.txt 19 63392\n",
      "P1872.txt 20 63392\n",
      "P1872.txt 21 63392\n",
      "P1872.txt 22 63392\n",
      "P1872.txt 23 63392\n",
      "P1872.txt 24 63392\n",
      "P1872.txt 25 63392\n",
      "P1872.txt 26 63392\n",
      "P1872.txt 27 63392\n",
      "P1872.txt 28 63392\n",
      "P1872.txt 29 63392\n",
      "P1872.txt 30 63392\n",
      "P1872.txt 31 63392\n",
      "P1872.txt 32 63392\n",
      "P1872.txt 33 63392\n",
      "P1872.txt 34 63392\n",
      "P1872.txt 35 63392\n",
      "P1872.txt 36 63392\n",
      "P1872.txt 37 63392\n",
      "P1872.txt 38 63392\n",
      "P1872.txt 39 63392\n",
      "P1872.txt 40 63392\n",
      "P1872.txt 41 63392\n",
      "P1872.txt 42 63392\n",
      "P1872.txt 43 63392\n",
      "P1872.txt 44 63392\n",
      "P1872.txt 45 63392\n",
      "P1872.txt 46 63392\n",
      "P1872.txt 59 63404\n",
      "P1872.txt 73 63417\n",
      "P1872.txt 74 63417\n",
      "P1872.txt 75 63417\n",
      "P1872.txt 76 63417\n",
      "P1872.txt 77 63417\n",
      "P1872.txt 78 63417\n",
      "P1872.txt 79 63417\n",
      "P1872.txt 80 63417\n",
      "P1872.txt 81 63417\n",
      "P1872.txt 82 63417\n",
      "P1872.txt 83 63417\n",
      "P1872.txt 84 63417\n",
      "P1872.txt 85 63417\n",
      "P1872.txt 86 63417\n",
      "P1872.txt 87 63417\n",
      "P1872.txt 92 63421\n",
      "P1872.txt 93 63421\n",
      "P1872.txt 94 63421\n",
      "P1872.txt 106 63432\n",
      "P1872.txt 144 63469\n",
      "P1872.txt 145 63469\n",
      "P1872.txt 146 63469\n",
      "P1872.txt 147 63469\n",
      "P1872.txt 148 63469\n",
      "P1872.txt 149 63469\n",
      "P1872.txt 150 63469\n",
      "P1872.txt 151 63469\n",
      "P1872.txt 152 63469\n",
      "P1872.txt 153 63469\n",
      "P1872.txt 154 63469\n",
      "P1872.txt 155 63469\n",
      "P1872.txt 156 63469\n",
      "P1872.txt 157 63469\n",
      "P1872.txt 158 63469\n",
      "P1872.txt 159 63469\n",
      "P1872.txt 160 63469\n",
      "P1872.txt 161 63469\n",
      "70000\n",
      "80000\n",
      "90000\n",
      "98906\n"
     ]
    }
   ],
   "source": [
    "train_or_val = \"train\" # train, val\n",
    "\n",
    "for root, dirs, filenames in os.walk(train_or_val+\"/images\", topdown=False):\n",
    "    pass\n",
    "\n",
    "#print(filenames)\n",
    "j = 0\n",
    "for file in filenames:\n",
    "    labelstr = file[:-4] + \".txt\"\n",
    "    if not labelstr in [\"P1531.txt\", \"P2123.txt\", \"P2152.txt\", \"P2330.txt\"]:\n",
    "        df = pd.read_csv(train_or_val+'/labels/new/' + labelstr, header=None, delimiter=' ')\n",
    "        data = df.to_numpy()\n",
    "\n",
    "        imgstr = train_or_val+\"/images/\" + file\n",
    "        img = Image.open(imgstr)\n",
    "        arr = np.asarray(img)\n",
    "\n",
    "        for i in range(len(data)):\n",
    "            try:\n",
    "                bbox = [int(x) for x in data[i][:-2]]\n",
    "                if len(arr.shape)==3:\n",
    "                    arr2 = arr[bbox[1]:bbox[5], bbox[0]:bbox[4], :]\n",
    "                else:\n",
    "                    # image is black and white\n",
    "                    arr2 = arr[bbox[1]:bbox[5], bbox[0]:bbox[4]]\n",
    "                    arr2 = np.stack((arr2,)*3, axis=-1)\n",
    "                if not os.path.exists('chips_'+train_or_val):\n",
    "                    os.makedirs('chips_'+train_or_val)\n",
    "\n",
    "                # create a directory with the class name\n",
    "                if not os.path.exists('chips_'+train_or_val+'/'+data[i][-2]):\n",
    "                    os.makedirs('chips_'+train_or_val+'/'+data[i][-2])\n",
    "\n",
    "                img2 = Image.fromarray(arr2.astype('uint8'), 'RGB')\n",
    "                img2 = img2.save('chips_'+train_or_val+'/'+data[i][-2]+\"/\"+str(j)+\".png\")\n",
    "\n",
    "                if j%10000==0:\n",
    "                    print(j)\n",
    "                j += 1\n",
    "            except:\n",
    "                print(labelstr, i, j)\n",
    "            #if j > 30:\n",
    "            #    asdf\n",
    "print(j)"
   ]
  },
  {
   "cell_type": "code",
   "execution_count": 16,
   "id": "3d2de56b",
   "metadata": {},
   "outputs": [
    {
     "name": "stdout",
     "output_type": "stream",
     "text": [
      "0\n",
      "10000\n",
      "20000\n",
      "28853\n"
     ]
    }
   ],
   "source": [
    "train_or_val = \"val\" # train, val\n",
    "\n",
    "for root, dirs, filenames in os.walk(train_or_val+\"/images\", topdown=False):\n",
    "    pass\n",
    "\n",
    "#print(filenames)\n",
    "j = 0\n",
    "for file in filenames:\n",
    "    labelstr = file[:-4] + \".txt\"\n",
    "    if not labelstr in [\"P1531.txt\", \"P2123.txt\", \"P2152.txt\", \"P2330.txt\"]:\n",
    "        df = pd.read_csv(train_or_val+'/labels/new/' + labelstr, header=None, delimiter=' ')\n",
    "        data = df.to_numpy()\n",
    "\n",
    "        imgstr = train_or_val+\"/images/\" + file\n",
    "        img = Image.open(imgstr)\n",
    "        arr = np.asarray(img)\n",
    "\n",
    "        for i in range(len(data)):\n",
    "            try:\n",
    "                bbox = [int(x) for x in data[i][:-2]]\n",
    "                if len(arr.shape)==3:\n",
    "                    arr2 = arr[bbox[1]:bbox[5], bbox[0]:bbox[4], :]\n",
    "                else:\n",
    "                    # image is black and white\n",
    "                    arr2 = arr[bbox[1]:bbox[5], bbox[0]:bbox[4]]\n",
    "                    arr2 = np.stack((arr2,)*3, axis=-1)\n",
    "                if not os.path.exists('chips_'+train_or_val):\n",
    "                    os.makedirs('chips_'+train_or_val)\n",
    "\n",
    "                # create a directory with the class name\n",
    "                if not os.path.exists('chips_'+train_or_val+'/'+data[i][-2]):\n",
    "                    os.makedirs('chips_'+train_or_val+'/'+data[i][-2])\n",
    "\n",
    "                img2 = Image.fromarray(arr2.astype('uint8'), 'RGB')\n",
    "                img2 = img2.save('chips_'+train_or_val+'/'+data[i][-2]+\"/\"+str(j)+\".png\")\n",
    "\n",
    "                if j%10000==0:\n",
    "                    print(j)\n",
    "                j += 1\n",
    "            except:\n",
    "                print(labelstr, i, j)\n",
    "            #if j > 30:\n",
    "            #    asdf\n",
    "print(j)"
   ]
  },
  {
   "cell_type": "code",
   "execution_count": 76,
   "id": "186e07b9",
   "metadata": {},
   "outputs": [
    {
     "name": "stdout",
     "output_type": "stream",
     "text": [
      "P1872.txt 1 63392\n"
     ]
    }
   ],
   "source": [
    "print(labelstr, i, j)"
   ]
  },
  {
   "cell_type": "code",
   "execution_count": 57,
   "id": "40fcab6c",
   "metadata": {},
   "outputs": [
    {
     "name": "stdout",
     "output_type": "stream",
     "text": [
      "baseball-diamond 415\n",
      "basketball-court 515\n",
      "bridge 2047\n",
      "ground-track-field 325\n",
      "harbor 5983\n",
      "helicopter 630\n",
      "large-vehicle 16969\n",
      "plane 7971\n",
      "roundabout 399\n",
      "ship 28068\n",
      "small-vehicle 26126\n",
      "soccer-ball-field 326\n",
      "storage-tank 5029\n",
      "swimming-pool 1736\n",
      "tennis-court 2367\n"
     ]
    }
   ],
   "source": [
    "for root, dirs, filenames in os.walk(\"chips_train\", topdown=False):\n",
    "    pass\n",
    "\n",
    "class_info = {}\n",
    "for d in dirs:\n",
    "    all_sizes = []\n",
    "    for root, dirs, filenames in os.walk(\"chips_train/\"+d, topdown=False):\n",
    "        pass\n",
    "    print(d, len(filenames))\n",
    "    for f in filenames:\n",
    "        imgstr = \"chips_train/\"+d+\"/\"+f\n",
    "        img = Image.open(imgstr)\n",
    "        arr = np.asarray(img)\n",
    "        all_sizes.append(arr.shape[:2])\n",
    "    class_info[d] = {\n",
    "        'num_examples': len(filenames),\n",
    "        'min': np.min(all_sizes),\n",
    "        'max': np.max(all_sizes),\n",
    "        'mean': np.mean(all_sizes),\n",
    "        'median': np.median(all_sizes)\n",
    "    }"
   ]
  },
  {
   "cell_type": "code",
   "execution_count": 6,
   "id": "28f35948",
   "metadata": {},
   "outputs": [
    {
     "name": "stdout",
     "output_type": "stream",
     "text": [
      "{'baseball-diamond': {'max': 1001,\n",
      "                      'mean': 122.13373493975904,\n",
      "                      'median': 92.5,\n",
      "                      'min': 27,\n",
      "                      'num_examples': 415},\n",
      " 'basketball-court': {'max': 369,\n",
      "                      'mean': 128.23300970873785,\n",
      "                      'median': 118.0,\n",
      "                      'min': 16,\n",
      "                      'num_examples': 515},\n",
      " 'bridge': {'max': 1307,\n",
      "            'mean': 48.35173424523693,\n",
      "            'median': 30.0,\n",
      "            'min': 3,\n",
      "            'num_examples': 2047},\n",
      " 'ground-track-field': {'max': 1722,\n",
      "                        'mean': 262.88,\n",
      "                        'median': 152.0,\n",
      "                        'min': 12,\n",
      "                        'num_examples': 325},\n",
      " 'harbor': {'max': 1955,\n",
      "            'mean': 133.42955039277953,\n",
      "            'median': 88.0,\n",
      "            'min': 9,\n",
      "            'num_examples': 5983},\n",
      " 'helicopter': {'max': 509,\n",
      "                'mean': 62.07380952380952,\n",
      "                'median': 57.0,\n",
      "                'min': 10,\n",
      "                'num_examples': 630},\n",
      " 'large-vehicle': {'max': 235,\n",
      "                   'mean': 56.72208144263068,\n",
      "                   'median': 48.0,\n",
      "                   'min': 3,\n",
      "                   'num_examples': 16969},\n",
      " 'plane': {'max': 885,\n",
      "           'mean': 103.9135616610212,\n",
      "           'median': 78.0,\n",
      "           'min': 8,\n",
      "           'num_examples': 7971},\n",
      " 'roundabout': {'max': 1094,\n",
      "                'mean': 83.38220551378446,\n",
      "                'median': 46.0,\n",
      "                'min': 8,\n",
      "                'num_examples': 399},\n",
      " 'ship': {'max': 1750,\n",
      "          'mean': 42.034950833689614,\n",
      "          'median': 35.0,\n",
      "          'min': 5,\n",
      "          'num_examples': 28068},\n",
      " 'small-vehicle': {'max': 124,\n",
      "                   'mean': 31.507272448901478,\n",
      "                   'median': 33.0,\n",
      "                   'min': 2,\n",
      "                   'num_examples': 26126},\n",
      " 'soccer-ball-field': {'max': 1151,\n",
      "                       'mean': 278.81134969325154,\n",
      "                       'median': 205.5,\n",
      "                       'min': 6,\n",
      "                       'num_examples': 326},\n",
      " 'storage-tank': {'max': 476,\n",
      "                  'mean': 35.025452376217935,\n",
      "                  'median': 24.0,\n",
      "                  'min': 3,\n",
      "                  'num_examples': 5029},\n",
      " 'swimming-pool': {'max': 541,\n",
      "                   'mean': 50.90581797235023,\n",
      "                   'median': 44.0,\n",
      "                   'min': 9,\n",
      "                   'num_examples': 1736},\n",
      " 'tennis-court': {'max': 375,\n",
      "                  'mean': 123.60498521335023,\n",
      "                  'median': 105.0,\n",
      "                  'min': 9,\n",
      "                  'num_examples': 2367}}\n"
     ]
    }
   ],
   "source": [
    "pprint(class_info)"
   ]
  },
  {
   "cell_type": "code",
   "execution_count": 58,
   "id": "796672c7",
   "metadata": {},
   "outputs": [
    {
     "name": "stdout",
     "output_type": "stream",
     "text": [
      "min 2\n",
      "max 1955\n",
      "mean 104.20063439770135\n",
      "median 57.0\n"
     ]
    }
   ],
   "source": [
    "print('min', np.min([x['min'] for x in class_info.values()]))\n",
    "print('max', np.max([x['max'] for x in class_info.values()]))\n",
    "print('mean', np.mean([x['mean'] for x in class_info.values()]))\n",
    "print('median', np.median([x['median'] for x in class_info.values()]))"
   ]
  },
  {
   "cell_type": "code",
   "execution_count": 60,
   "id": "6339c06f",
   "metadata": {},
   "outputs": [
    {
     "data": {
      "image/png": "[encoded data removed]",
      "text/plain": [
       "<Figure size 432x288 with 1 Axes>"
      ]
     },
     "metadata": {
      "needs_background": "light"
     },
     "output_type": "display_data"
    }
   ],
   "source": [
    "ys = [x['num_examples'] for x in class_info.values()]\n",
    "xs = [x for x in class_info.keys()]\n",
    "plt.bar(xs, ys)\n",
    "plt.xticks(rotation=45, ha='right')\n",
    "plt.title(\"DOTA - Imbalanced classes\")\n",
    "plt.savefig(\"imbalanced.png\",\n",
    "            dpi=100,\n",
    "            bbox_inches='tight')\n",
    "plt.show()"
   ]
  },
  {
   "cell_type": "code",
   "execution_count": 39,
   "id": "340c2115",
   "metadata": {},
   "outputs": [
    {
     "name": "stdout",
     "output_type": "stream",
     "text": [
      "baseball-diamond 415\n",
      "basketball-court 515\n",
      "bridge 2047\n",
      "ground-track-field 325\n",
      "harbor 5983\n",
      "helicopter 630\n",
      "large-vehicle 16969\n",
      "plane 7971\n",
      "roundabout 399\n",
      "ship 28068\n",
      "small-vehicle 26126\n",
      "soccer-ball-field 326\n",
      "storage-tank 5029\n",
      "swimming-pool 1736\n",
      "tennis-court 2367\n"
     ]
    }
   ],
   "source": [
    "# BALANCE THE TRAINING DATA (don't need to balance the testing data?)\n",
    "# take a random sample of n=1000 (max) from each class\n",
    "train_or_val = 'train'\n",
    "N_EXAMPLES = 500\n",
    "random.seed(42)\n",
    "\n",
    "for root, dirs, filenames in os.walk(\"chips_train\", topdown=False):\n",
    "    pass\n",
    "\n",
    "if not os.path.exists('chips_'+train_or_val+'_'+str(N_EXAMPLES)):\n",
    "    os.makedirs('chips_'+train_or_val+'_'+str(N_EXAMPLES))\n",
    "\n",
    "class_info = {}\n",
    "for d in dirs:\n",
    "    \n",
    "    if not os.path.exists('chips_'+train_or_val+'_'+str(N_EXAMPLES)+'/'+d):\n",
    "        os.makedirs('chips_'+train_or_val+'_'+str(N_EXAMPLES)+'/'+d)\n",
    "    \n",
    "    for root, dirs, filenames in os.walk(\"chips_train/\"+d, topdown=False):\n",
    "        pass\n",
    "    print(d, len(filenames))\n",
    "    \n",
    "    # if > 1k examples, take random sample\n",
    "    if len(filenames) > N_EXAMPLES:\n",
    "        filenames = random.sample(filenames, N_EXAMPLES)\n",
    "    for f in filenames:\n",
    "        sourcefile = \"chips_train/\"+d+\"/\"+f\n",
    "        destfile = \"chips_train_\"+str(N_EXAMPLES)+\"/\"+d+\"/\"+f\n",
    "        copyfile(sourcefile, destfile)"
   ]
  },
  {
   "cell_type": "code",
   "execution_count": 42,
   "id": "5eaaa823",
   "metadata": {},
   "outputs": [
    {
     "name": "stdout",
     "output_type": "stream",
     "text": [
      "baseball-diamond 415\n",
      "basketball-court 500\n",
      "bridge 500\n",
      "ground-track-field 325\n",
      "harbor 500\n",
      "helicopter 500\n",
      "large-vehicle 500\n",
      "plane 500\n",
      "roundabout 399\n",
      "ship 500\n",
      "small-vehicle 500\n",
      "soccer-ball-field 326\n",
      "storage-tank 500\n",
      "swimming-pool 500\n",
      "tennis-court 500\n"
     ]
    }
   ],
   "source": [
    "for root, dirs, filenames in os.walk(\"chips_train_\"+str(N_EXAMPLES), topdown=False):\n",
    "    pass\n",
    "\n",
    "class_info = {}\n",
    "for d in dirs:\n",
    "    all_sizes = []\n",
    "    for root, dirs, filenames in os.walk(\"chips_train_\"+str(N_EXAMPLES)+\"/\"+d, topdown=False):\n",
    "        pass\n",
    "    print(d, len(filenames))\n",
    "    for f in filenames:\n",
    "        imgstr = \"chips_train_\"+str(N_EXAMPLES)+\"/\"+d+\"/\"+f\n",
    "        img = Image.open(imgstr)\n",
    "        arr = np.asarray(img)\n",
    "        all_sizes.append(arr.shape[:2])\n",
    "    class_info[d] = {\n",
    "        'num_examples': len(filenames),\n",
    "        'min': np.min(all_sizes),\n",
    "        'max': np.max(all_sizes),\n",
    "        'mean': np.mean(all_sizes),\n",
    "        'median': np.median(all_sizes)\n",
    "    }"
   ]
  },
  {
   "cell_type": "code",
   "execution_count": 43,
   "id": "06e0d400",
   "metadata": {},
   "outputs": [
    {
     "name": "stdout",
     "output_type": "stream",
     "text": [
      "min 3\n",
      "max 1722\n",
      "mean 104.14175267645301\n",
      "median 57.5\n"
     ]
    }
   ],
   "source": [
    "print('min', np.min([x['min'] for x in class_info.values()]))\n",
    "print('max', np.max([x['max'] for x in class_info.values()]))\n",
    "print('mean', np.mean([x['mean'] for x in class_info.values()]))\n",
    "print('median', np.median([x['median'] for x in class_info.values()]))"
   ]
  },
  {
   "cell_type": "code",
   "execution_count": 45,
   "id": "9801eeb2",
   "metadata": {},
   "outputs": [
    {
     "data": {
      "text/plain": [
       "80.82"
      ]
     },
     "execution_count": 45,
     "metadata": {},
     "output_type": "execute_result"
    }
   ],
   "source": [
    "(104.14+57.5)/2"
   ]
  },
  {
   "cell_type": "code",
   "execution_count": 56,
   "id": "94eff2c3",
   "metadata": {},
   "outputs": [
    {
     "data": {
      "image/png": "[encoded data removed]",
      "text/plain": [
       "<Figure size 432x288 with 1 Axes>"
      ]
     },
     "metadata": {
      "needs_background": "light"
     },
     "output_type": "display_data"
    }
   ],
   "source": [
    "ys = [x['num_examples'] for x in class_info.values()]\n",
    "xs = [x for x in class_info.keys()]\n",
    "plt.bar(xs, ys)\n",
    "plt.xticks(rotation=45, ha='right')\n",
    "plt.title(\"DOTA - Balanced classes\")\n",
    "plt.savefig(\"balanced.png\",\n",
    "            dpi=100,\n",
    "            bbox_inches='tight')\n",
    "plt.show()"
   ]
  },
  {
   "cell_type": "code",
   "execution_count": 49,
   "id": "38cfb462",
   "metadata": {},
   "outputs": [
    {
     "data": {
      "text/plain": [
       "<Figure size 432x288 with 0 Axes>"
      ]
     },
     "metadata": {},
     "output_type": "display_data"
    }
   ],
   "source": [
    "plt.savefig(\"balanced.png\")"
   ]
  }
 ],
 "metadata": {
  "kernelspec": {
   "display_name": "Python 3 (ipykernel)",
   "language": "python",
   "name": "python3"
  },
  "language_info": {
   "codemirror_mode": {
    "name": "ipython",
    "version": 3
   },
   "file_extension": ".py",
   "mimetype": "text/x-python",
   "name": "python",
   "nbconvert_exporter": "python",
   "pygments_lexer": "ipython3",
   "version": "3.9.7"
  }
 },
 "nbformat": 4,
 "nbformat_minor": 5
}
